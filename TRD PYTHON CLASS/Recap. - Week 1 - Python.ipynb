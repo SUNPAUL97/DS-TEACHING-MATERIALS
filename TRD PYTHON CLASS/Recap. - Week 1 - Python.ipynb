{
 "cells": [
  {
   "cell_type": "markdown",
   "id": "d08562eb",
   "metadata": {},
   "source": [
    "#### Project Task : Student Management System"
   ]
  },
  {
   "cell_type": "markdown",
   "id": "80ee8406",
   "metadata": {},
   "source": [
    "##### Objective:"
   ]
  },
  {
   "cell_type": "markdown",
   "id": "e3fdae72",
   "metadata": {},
   "source": [
    "Create a simple Student Management System in Python that allows you to add student information, display student details, and perform basic operations. This project will cover the concepts learned from Day 1 to Day 4."
   ]
  },
  {
   "cell_type": "markdown",
   "id": "938fe7e8",
   "metadata": {},
   "source": [
    "<b>Requirements:</b></br>\n",
    "\n",
    "The system should store student information including:</b>\n",
    "<ol>\n",
    "<li>Name (String)</li>\n",
    "<li>Age (Integer)</li>\n",
    "<li>Grade (Float)</li>\n",
    "<li>Subjects (List of strings)</li></ol>"
   ]
  },
  {
   "cell_type": "markdown",
   "id": "733f4a2e",
   "metadata": {},
   "source": [
    "<b>The system should provide the following functionalities:</b></br>\n",
    "<ul>\n",
    "    <li>Add a new student</li>\n",
    "<li>Display all students</li>\n",
    "<li>Search for a student by name</li>\n",
    "<li>Remove a student by name</li>\n",
    "<li>Exit</li>\n",
    "</ul>"
   ]
  },
  {
   "cell_type": "code",
   "execution_count": null,
   "id": "7b430754-1046-452c-96d0-ec9bd210e0f3",
   "metadata": {},
   "outputs": [],
   "source": []
  },
  {
   "cell_type": "code",
   "execution_count": 1,
   "id": "943b2813",
   "metadata": {},
   "outputs": [],
   "source": [
    "#Student Management System"
   ]
  },
  {
   "cell_type": "code",
   "execution_count": 16,
   "id": "7a6ec7da",
   "metadata": {},
   "outputs": [
    {
     "name": "stdout",
     "output_type": "stream",
     "text": [
      "\n",
      "Student Management System\n",
      "1. Add Student\n",
      "2. Display Students\n",
      "3. Search Student\n",
      "4. Remove Student\n",
      "5. Exit\n"
     ]
    },
    {
     "name": "stdin",
     "output_type": "stream",
     "text": [
      "Enter your choice:  2\n"
     ]
    },
    {
     "name": "stdout",
     "output_type": "stream",
     "text": [
      "No students in the system.\n",
      "\n",
      "Student Management System\n",
      "1. Add Student\n",
      "2. Display Students\n",
      "3. Search Student\n",
      "4. Remove Student\n",
      "5. Exit\n"
     ]
    },
    {
     "name": "stdin",
     "output_type": "stream",
     "text": [
      "Enter your choice:  3\n",
      "Enter student name to search:  paul\n"
     ]
    },
    {
     "name": "stdout",
     "output_type": "stream",
     "text": [
      "Student paul not found.\n",
      "\n",
      "Student Management System\n",
      "1. Add Student\n",
      "2. Display Students\n",
      "3. Search Student\n",
      "4. Remove Student\n",
      "5. Exit\n"
     ]
    },
    {
     "name": "stdin",
     "output_type": "stream",
     "text": [
      "Enter your choice:  4\n",
      "Enter student name to remove:  paul\n"
     ]
    },
    {
     "name": "stdout",
     "output_type": "stream",
     "text": [
      "Student paul not found.\n",
      "\n",
      "Student Management System\n",
      "1. Add Student\n",
      "2. Display Students\n",
      "3. Search Student\n",
      "4. Remove Student\n",
      "5. Exit\n"
     ]
    },
    {
     "name": "stdin",
     "output_type": "stream",
     "text": [
      "Enter your choice:  5\n"
     ]
    },
    {
     "name": "stdout",
     "output_type": "stream",
     "text": [
      "Exiting the system.\n"
     ]
    }
   ],
   "source": [
    "#Define the Sturcture\n",
    "students ={}\n",
    "\n",
    "#Function to add a new student\n",
    "\n",
    "def add_student():\n",
    "    name = input(\"Enter student name:\")\n",
    "    age = int(input(\"Enter student age:\"))\n",
    "    grade = float(input(\"Enter student grade:\"))\n",
    "    subjects = input(\"Enter student subjects (comma-separated):\").split(',')\n",
    "    \n",
    "    students[name]={\n",
    "        'age': age,\n",
    "        'grade': grade,\n",
    "        'subjects': subjects\n",
    "    }\n",
    "    \n",
    "    print (f\"Student {name} added successfully!\")\n",
    "\n",
    "def display_students():\n",
    "    if not students:\n",
    "        print(\"No students in the system.\")\n",
    "        return\n",
    "    for name, details in students.items():\n",
    "            print(f\"Name:{name},Age:{details['age']},Grade:{details['grade']},Subjects:{','.join (details['subjects'])}\")\n",
    "\n",
    "# Function to search for a student by name\n",
    "def search_student(name):\n",
    "    if name in students:\n",
    "        details = students[name]\n",
    "        print(f\"Name: {name}, Age: {details['age']}, Grade: {details['grade']}, Subjects: {', '.join(details['subjects'])}\")\n",
    "    else:\n",
    "        print(f\"Student {name} not found.\")\n",
    "\n",
    "# Function to remove a student by name\n",
    "def remove_student(name):\n",
    "    if name in students:\n",
    "        del students[name]\n",
    "        print(f\"Student {name} removed successfully!\")\n",
    "    else:\n",
    "        print(f\"Student {name} not found.\")\n",
    "\n",
    "\n",
    "# Main program loop\n",
    "while True:\n",
    "    print(\"\\nStudent Management System\")\n",
    "    print(\"1. Add Student\")\n",
    "    print(\"2. Display Students\")\n",
    "    print(\"3. Search Student\")\n",
    "    print(\"4. Remove Student\")\n",
    "    print(\"5. Exit\")\n",
    "    choice = input(\"Enter your choice: \")\n",
    "\n",
    "    if choice == '1':\n",
    "        add_student()\n",
    "    elif choice == '2':\n",
    "        display_students()\n",
    "    elif choice == '3':\n",
    "        name = input(\"Enter student name to search: \")\n",
    "        search_student(name)\n",
    "    elif choice == '4':\n",
    "        name = input(\"Enter student name to remove: \")\n",
    "        remove_student(name)\n",
    "    elif choice == '5':\n",
    "        print(\"Exiting the system.\")\n",
    "        break\n",
    "    else:\n",
    "        print(\"Invalid choice. Please try again.\")\n"
   ]
  },
  {
   "cell_type": "code",
   "execution_count": null,
   "id": "5909bf68-4b98-4df0-b6ef-b39c94bf8545",
   "metadata": {},
   "outputs": [],
   "source": []
  },
  {
   "cell_type": "code",
   "execution_count": null,
   "id": "baa24171-0d00-41a0-8e35-a185662f0b5d",
   "metadata": {},
   "outputs": [],
   "source": []
  }
 ],
 "metadata": {
  "kernelspec": {
   "display_name": "Python 3 (ipykernel)",
   "language": "python",
   "name": "python3"
  },
  "language_info": {
   "codemirror_mode": {
    "name": "ipython",
    "version": 3
   },
   "file_extension": ".py",
   "mimetype": "text/x-python",
   "name": "python",
   "nbconvert_exporter": "python",
   "pygments_lexer": "ipython3",
   "version": "3.9.19"
  }
 },
 "nbformat": 4,
 "nbformat_minor": 5
}
