{
 "cells": [
  {
   "cell_type": "code",
   "execution_count": null,
   "id": "65999a42",
   "metadata": {},
   "outputs": [],
   "source": [
    "Assignment 1\n",
    "Read on Python Keywords"
   ]
  },
  {
   "cell_type": "code",
   "execution_count": null,
   "id": "be65aff8",
   "metadata": {},
   "outputs": [],
   "source": [
    "Control Flow\n",
    "If statement\n",
    "elif and else statements\n",
    "For loops\n",
    "continue\n",
    "break\n",
    "While loops\n",
    "break"
   ]
  },
  {
   "cell_type": "code",
   "execution_count": null,
   "id": "a42ba7ba",
   "metadata": {},
   "outputs": [],
   "source": [
    "Control Flow\n",
    "This is the system or flow of activities that determine the \n",
    "progression of a program\n",
    "\n",
    "There are two main classes\n",
    "1. Procedural  Programming\n",
    "2. Modular Programming # Learn About"
   ]
  },
  {
   "cell_type": "code",
   "execution_count": null,
   "id": "69b8c74f",
   "metadata": {},
   "outputs": [],
   "source": [
    "Comments\n",
    "These are bits of your code that will not be executed by python.\n",
    "There is only one proper way of writing \n",
    "That is the with '#' character"
   ]
  },
  {
   "cell_type": "code",
   "execution_count": 2,
   "id": "6e6dfd33",
   "metadata": {},
   "outputs": [],
   "source": [
    "# print(\"Hello\")"
   ]
  },
  {
   "cell_type": "code",
   "execution_count": null,
   "id": "6c93e624",
   "metadata": {},
   "outputs": [],
   "source": [
    "There are multiple reasons to put comments  in your code\n",
    "1. To stop specific bits of code from being executed.\n",
    "2. To add short notes, explanations or instructions in your code."
   ]
  },
  {
   "cell_type": "code",
   "execution_count": null,
   "id": "e31c2e8d",
   "metadata": {},
   "outputs": [],
   "source": [
    "The if statement has very strict syntax.\n",
    "The format for it is as follows\n",
    "if condition:\n",
    "    code"
   ]
  },
  {
   "cell_type": "code",
   "execution_count": null,
   "id": "f6e31637",
   "metadata": {},
   "outputs": [],
   "source": [
    "conditional statement\n",
    "They are statements/Lines of code that return a boolean value"
   ]
  },
  {
   "cell_type": "code",
   "execution_count": 5,
   "id": "14c48933",
   "metadata": {},
   "outputs": [
    {
     "data": {
      "text/plain": [
       "True"
      ]
     },
     "execution_count": 5,
     "metadata": {},
     "output_type": "execute_result"
    }
   ],
   "source": [
    "5 >= 2 and 10 <= 10"
   ]
  },
  {
   "cell_type": "code",
   "execution_count": null,
   "id": "b1f0492c",
   "metadata": {},
   "outputs": [],
   "source": [
    "> - greater than\n",
    "< - less than\n",
    ">= - Greater than or equal to\n",
    "<= - Less than or equal to\n",
    "== - equivalence or equals to\n",
    "!= - not equals to\n",
    "| - \n",
    "& - \n",
    "~ - negation, not"
   ]
  },
  {
   "cell_type": "code",
   "execution_count": 14,
   "id": "7c98290b",
   "metadata": {},
   "outputs": [
    {
     "data": {
      "text/plain": [
       "False"
      ]
     },
     "execution_count": 14,
     "metadata": {},
     "output_type": "execute_result"
    }
   ],
   "source": [
    "Assignment 2\n",
    "0.1 + 0.2 == 0.3 Float Arithmetic Rounding Error"
   ]
  },
  {
   "cell_type": "code",
   "execution_count": null,
   "id": "0ff5a456",
   "metadata": {},
   "outputs": [],
   "source": [
    "find out condition  - rain\n",
    "find out the code to run - whether to go out or not\n",
    "follow your format"
   ]
  },
  {
   "cell_type": "code",
   "execution_count": 4,
   "id": "d402899e",
   "metadata": {},
   "outputs": [
    {
     "name": "stdin",
     "output_type": "stream",
     "text": [
      "What is the weather outside?: cool\n"
     ]
    },
    {
     "name": "stdout",
     "output_type": "stream",
     "text": [
      "You can go out\n"
     ]
    }
   ],
   "source": [
    "weather = input(\"What is the weather outside?:\")\n",
    "\n",
    "if weather == 'Raining':\n",
    "    print(\"Do not go out. It is raining\")\n",
    "elif weather == \"Sunny\":\n",
    "    print(\"It is too hot outside\")\n",
    "else:\n",
    "    print(\"You can go out\")"
   ]
  },
  {
   "cell_type": "code",
   "execution_count": null,
   "id": "adba404b",
   "metadata": {},
   "outputs": [],
   "source": [
    "We are going to design a login page"
   ]
  },
  {
   "cell_type": "code",
   "execution_count": null,
   "id": "c872d1a6",
   "metadata": {},
   "outputs": [],
   "source": [
    "Input function\n",
    "This function helps us to collect information from our users.\n",
    "Note: The output of the input function is a string"
   ]
  },
  {
   "cell_type": "code",
   "execution_count": null,
   "id": "d73b39bb",
   "metadata": {},
   "outputs": [],
   "source": [
    "we need the username and the password *\n",
    "we also need something to check whether both are correct\n",
    "print out something if both are correct\n",
    "print out something else if one or both are incorrect"
   ]
  },
  {
   "cell_type": "code",
   "execution_count": null,
   "id": "f2655086",
   "metadata": {},
   "outputs": [],
   "source": [
    "Every datatype or object has attributes. In python, attributes \n",
    "are called method"
   ]
  },
  {
   "cell_type": "code",
   "execution_count": 38,
   "id": "ecec75de",
   "metadata": {},
   "outputs": [
    {
     "data": {
      "text/plain": [
       "'abc'"
      ]
     },
     "execution_count": 38,
     "metadata": {},
     "output_type": "execute_result"
    }
   ],
   "source": [
    "\"  abc  \".strip()"
   ]
  },
  {
   "cell_type": "code",
   "execution_count": 5,
   "id": "6a952927",
   "metadata": {},
   "outputs": [
    {
     "name": "stdin",
     "output_type": "stream",
     "text": [
      "Enter your username:  user\n",
      "Enter your password:  1234\n",
      " 1234\n"
     ]
    },
    {
     "name": "stdout",
     "output_type": "stream",
     "text": [
      "Welcome back user\n"
     ]
    }
   ],
   "source": [
    "# Collecting username and password from user\n",
    "username = input(\"Enter your username: \").strip()\n",
    "password = input(\"Enter your password: \")\n",
    "\n",
    "input()\n",
    "# Checking if both are correct\n",
    "if username == 'user' and password == '1234':\n",
    "    print(\"Welcome back \" + username)\n",
    "elif username != 'user' or password != '1234':\n",
    "    print(\"Error, Try again Later\")"
   ]
  },
  {
   "cell_type": "code",
   "execution_count": null,
   "id": "0612239c",
   "metadata": {},
   "outputs": [],
   "source": [
    "IN Python, you should only use the if statement once.\n",
    "Avoid using the if statement twice\n",
    "Instead use the if statement once and for an other use the elif\n",
    "statement."
   ]
  },
  {
   "cell_type": "code",
   "execution_count": null,
   "id": "737ee881",
   "metadata": {},
   "outputs": [],
   "source": [
    "Note: The format of the if and the elif statements are the same.\n",
    "The only difference between the if and the elif statements is the\n",
    "number of usages."
   ]
  },
  {
   "cell_type": "code",
   "execution_count": null,
   "id": "09511122",
   "metadata": {},
   "outputs": [],
   "source": [
    "you can convert a string to an integer using the int funtion"
   ]
  },
  {
   "cell_type": "code",
   "execution_count": 41,
   "id": "badbb442",
   "metadata": {},
   "outputs": [
    {
     "data": {
      "text/plain": [
       "18"
      ]
     },
     "execution_count": 41,
     "metadata": {},
     "output_type": "execute_result"
    }
   ],
   "source": [
    "int('18')"
   ]
  },
  {
   "cell_type": "code",
   "execution_count": 40,
   "id": "30a7ab89",
   "metadata": {
    "collapsed": true,
    "jupyter": {
     "outputs_hidden": true
    }
   },
   "outputs": [
    {
     "ename": "SyntaxError",
     "evalue": "invalid syntax (4033265493.py, line 1)",
     "output_type": "error",
     "traceback": [
      "\u001b[0;36m  Cell \u001b[0;32mIn[40], line 1\u001b[0;36m\u001b[0m\n\u001b[0;31m    collect the age\u001b[0m\n\u001b[0m            ^\u001b[0m\n\u001b[0;31mSyntaxError\u001b[0m\u001b[0;31m:\u001b[0m invalid syntax\n"
     ]
    }
   ],
   "source": [
    "collect the age\n",
    "check if the person is 18 or older\n",
    "print out you can drive\n",
    "if the person is less than 18\n",
    "print out you are underaged"
   ]
  },
  {
   "cell_type": "code",
   "execution_count": 45,
   "id": "776ea628",
   "metadata": {},
   "outputs": [
    {
     "name": "stdout",
     "output_type": "stream",
     "text": [
      "What is your age? 17\n",
      "you are underaged\n"
     ]
    }
   ],
   "source": [
    "age = input(\"What is your age? \")\n",
    "age = int(age)\n",
    "if age >= 18:\n",
    "    print(\"You can drive\")\n",
    "elif age < 18:\n",
    "    print(\"you are underaged\")"
   ]
  },
  {
   "cell_type": "code",
   "execution_count": null,
   "id": "2b57a6fd",
   "metadata": {},
   "outputs": [],
   "source": [
    "Loops\n",
    "What are loops?\n",
    "A loop is a block of code that runs a specified amount of times."
   ]
  },
  {
   "cell_type": "code",
   "execution_count": 6,
   "id": "a1e616ea-e9a4-48be-9ad5-f9d3cd1bdc2f",
   "metadata": {},
   "outputs": [
    {
     "name": "stdout",
     "output_type": "stream",
     "text": [
      "a\n",
      "b\n",
      "c\n",
      "d\n",
      "e\n",
      "f\n",
      "g\n",
      "h\n",
      "i\n",
      "j\n",
      "k\n",
      "l\n",
      "m\n",
      "n\n",
      "o\n",
      "p\n",
      "q\n",
      "r\n",
      "s\n",
      "t\n",
      "u\n",
      "v\n",
      "w\n",
      "x\n",
      "y\n",
      "z\n"
     ]
    }
   ],
   "source": [
    "for letter in \"abcdefghijklmnopqrstuvwxyz\":\n",
    "    print(letter)"
   ]
  },
  {
   "cell_type": "code",
   "execution_count": null,
   "id": "0992bec9",
   "metadata": {},
   "outputs": [],
   "source": [
    "There are two types of loop\n",
    "1. For loop\n",
    "2. While loop"
   ]
  },
  {
   "cell_type": "code",
   "execution_count": null,
   "id": "8f5f5491",
   "metadata": {},
   "outputs": [],
   "source": [
    "For loop -  This is a loop that iterates over every element in an\n",
    "iterable"
   ]
  },
  {
   "cell_type": "code",
   "execution_count": null,
   "id": "c8a4a2a7",
   "metadata": {},
   "outputs": [],
   "source": [
    "Iterable - Examples are list, tuple, string, set, dictionary \n",
    "and range.\n",
    "They are items that are collection of items."
   ]
  },
  {
   "cell_type": "code",
   "execution_count": null,
   "id": "ed10f642",
   "metadata": {},
   "outputs": [],
   "source": [
    "[1,\n",
    " 2,\n",
    " 3,\n",
    " 4]"
   ]
  },
  {
   "cell_type": "code",
   "execution_count": null,
   "id": "8c1b0d20",
   "metadata": {},
   "outputs": [],
   "source": [
    "the format for a for loop is\n",
    "For var in iterable:\n",
    "    code"
   ]
  },
  {
   "cell_type": "code",
   "execution_count": 46,
   "id": "75ee050c",
   "metadata": {
    "collapsed": true,
    "jupyter": {
     "outputs_hidden": true
    }
   },
   "outputs": [
    {
     "name": "stdout",
     "output_type": "stream",
     "text": [
      "1\n",
      "2\n",
      "3\n",
      "4\n"
     ]
    }
   ],
   "source": [
    "print out all the odd numbers from 1, 10 using a for loop"
   ]
  },
  {
   "cell_type": "code",
   "execution_count": null,
   "id": "b77732ae",
   "metadata": {},
   "outputs": [],
   "source": [
    "create our iterable aka the list of numbers from 1 to 10\n",
    "create our for loop using the format and iterate over the list.\n",
    "Check whether the number is odd or even\n",
    "if the number is odd, we can print it out"
   ]
  },
  {
   "cell_type": "code",
   "execution_count": 68,
   "id": "5119f84d",
   "metadata": {},
   "outputs": [
    {
     "name": "stdout",
     "output_type": "stream",
     "text": [
      "2\n",
      "4\n",
      "6\n",
      "8\n",
      "10\n"
     ]
    }
   ],
   "source": [
    "num_list = [1, 2, 3, 4, 5, 6, 7, 8, 9, 10]\n",
    "\n",
    "for i in num_list:\n",
    "    if i % 2 == 1:\n",
    "        print(i)"
   ]
  },
  {
   "cell_type": "code",
   "execution_count": 69,
   "id": "1efa1e87",
   "metadata": {},
   "outputs": [
    {
     "name": "stdout",
     "output_type": "stream",
     "text": [
      "1\n",
      "3\n",
      "5\n",
      "7\n",
      "9\n"
     ]
    }
   ],
   "source": [
    "for i in range(0, 11):\n",
    "    if i % 2 == 1:\n",
    "        print(i)"
   ]
  },
  {
   "cell_type": "code",
   "execution_count": null,
   "id": "a404d500",
   "metadata": {},
   "outputs": [],
   "source": [
    "using the for loop and range function, create a program that \n",
    "calculated the sum of numbers from 1 to 10"
   ]
  },
  {
   "cell_type": "code",
   "execution_count": 8,
   "id": "a7754f12-072a-46e9-b0e1-8314d497439e",
   "metadata": {},
   "outputs": [
    {
     "name": "stdout",
     "output_type": "stream",
     "text": [
      "[0, 1, 2, 3, 4, 5, 6, 7, 8, 9]\n"
     ]
    }
   ],
   "source": [
    "print(list(range(0,10)))"
   ]
  },
  {
   "cell_type": "code",
   "execution_count": 71,
   "id": "858943c3",
   "metadata": {},
   "outputs": [
    {
     "name": "stdout",
     "output_type": "stream",
     "text": [
      "45\n"
     ]
    }
   ],
   "source": [
    "# Created a variable to store the sum\n",
    "Total = 0\n",
    "\n",
    "# Created a for loop to iterate over a range of values from 1 to 10\n",
    "for i in range(1, 10):\n",
    "    # Added values to the variable every loop\n",
    "    Total = Total + i\n",
    "    \n",
    "# Print out the total\n",
    "print(Total)"
   ]
  },
  {
   "cell_type": "code",
   "execution_count": null,
   "id": "447e192f",
   "metadata": {},
   "outputs": [],
   "source": [
    "Exercise:\n",
    "1. Write a program that takes a number as input and prints \n",
    "\"Positive\" if the number is greater than zero\n",
    "\n",
    "2. Write a program that takes an integer input and prints\n",
    "- 'Child' if the age is less than 13\n",
    "- 'Teenager' if the age is between 13 and 19\n",
    "- 'Adult' if the age is 20 and above.\n",
    "\n",
    "3 Write a program that checks if a number is divisible by both 2 \n",
    "and 3. If it is, print 'Divisible by both'. \n",
    "it is only divisible by 2, print 'Divisible by 2'. \n",
    "it is only divisible by 3, print 'Divisible by 3'. \n",
    "Otherwise print, 'Not divisble by 2 or 3'\n",
    "\n",
    "4.Given the list [1,2,3,4,5], write a for loop to print each \n",
    "number squared\n",
    "\n",
    "5. Given a list of integers, write a program to find the sum of all\n",
    "positive numbers in the list"
   ]
  },
  {
   "cell_type": "code",
   "execution_count": 73,
   "id": "2d7397e7",
   "metadata": {},
   "outputs": [
    {
     "name": "stdout",
     "output_type": "stream",
     "text": [
      "Enter a number: -7\n"
     ]
    }
   ],
   "source": [
    "# Write a program that takes a number as input and prints \n",
    "# \"Positive\" if the number is greater than zero\n",
    "num = input(\"Enter a number: \")\n",
    "num = int(num)\n",
    "if num > 0:\n",
    "    print('Positive')"
   ]
  },
  {
   "cell_type": "code",
   "execution_count": null,
   "id": "494dcbde",
   "metadata": {},
   "outputs": [],
   "source": [
    "# 2. Write a program that takes an integer input and prints\n",
    "# - 'Child' if the age is less than 13\n",
    "# - 'Teenager' if the age is between 13 and 19\n",
    "# - 'Adult' if the age is 20 and above.\n",
    " \n",
    "age = input(\"How old are you? \")\n",
    "age = int(age)\n",
    "\n",
    "if age < 13:\n",
    "    print('child')\n",
    "elif age >= 13 and age <= 19:\n",
    "    print('Teenager')\n",
    "elif age >= 20:\n",
    "    print(\"adult\")"
   ]
  },
  {
   "cell_type": "code",
   "execution_count": null,
   "id": "c7a30dc7",
   "metadata": {},
   "outputs": [],
   "source": [
    "# 3 Write a program that checks if a number is divisible by both 2 \n",
    "# and 3. If it is, print 'Divisible by both'. \n",
    "# it is only divisible by 2, print 'Divisible by 2'. \n",
    "# it is only divisible by 3, print 'Divisible by 3'. \n",
    "# Otherwise print, 'Not divisble by 2 or 3'\n",
    "\n",
    "num = input(\"Enter a number: \")\n",
    "num = int(num)\n",
    "\n",
    "if num % 2 == 0 and num % 3 == 0:\n",
    "    print(\"Divisible by both\")\n",
    "elif num % 2 == 0:\n",
    "    print(\"Divisible by 2\")\n",
    "elif num % 3 == 0:\n",
    "    print(\"Divisible by 3\")\n",
    "elif num % 2 != 0 and num % 3 != 0:\n",
    "    print('Not divisble by 2 or 3')"
   ]
  },
  {
   "cell_type": "code",
   "execution_count": null,
   "id": "f490727e",
   "metadata": {},
   "outputs": [],
   "source": [
    "i*i"
   ]
  },
  {
   "cell_type": "code",
   "execution_count": 75,
   "id": "d865cd82",
   "metadata": {},
   "outputs": [
    {
     "name": "stdout",
     "output_type": "stream",
     "text": [
      "1\n",
      "4\n",
      "9\n",
      "16\n",
      "25\n"
     ]
    }
   ],
   "source": [
    "# 4.Given the list [1,2,3,4,5], write a for loop to print each \n",
    "# number squared\n",
    "for i in [1,2,3,4,5]:\n",
    "    print(i ** 2)"
   ]
  },
  {
   "cell_type": "code",
   "execution_count": 78,
   "id": "56714f30",
   "metadata": {},
   "outputs": [
    {
     "name": "stdout",
     "output_type": "stream",
     "text": [
      "6\n"
     ]
    }
   ],
   "source": [
    "# 5. Given a list of integers, write a program to find the sum of all\n",
    "# positive numbers in the list\n",
    "\n",
    "num_list = [-3, -2, -1, 0, 1, 2, 3]\n",
    "Total = 0\n",
    "\n",
    "for i in num_list:\n",
    "    if i > 0:\n",
    "        Total = Total + i\n",
    "print(Total)"
   ]
  },
  {
   "cell_type": "code",
   "execution_count": null,
   "id": "07d1e07f",
   "metadata": {},
   "outputs": [],
   "source": [
    "Assignment 3\n",
    "Read on else statements and the while loop."
   ]
  }
 ],
 "metadata": {
  "kernelspec": {
   "display_name": "Python 3 (ipykernel)",
   "language": "python",
   "name": "python3"
  },
  "language_info": {
   "codemirror_mode": {
    "name": "ipython",
    "version": 3
   },
   "file_extension": ".py",
   "mimetype": "text/x-python",
   "name": "python",
   "nbconvert_exporter": "python",
   "pygments_lexer": "ipython3",
   "version": "3.9.19"
  }
 },
 "nbformat": 4,
 "nbformat_minor": 5
}
