{
 "cells": [
  {
   "cell_type": "markdown",
   "id": "d8310d31-e29b-4791-b43e-08f0c85f1d39",
   "metadata": {},
   "source": [
    "# LAMBDA\n",
    "- A  lambda function is a small anonymous function\n",
    "- A lambda function can take any number of arguments, but can only have one expression\n",
    "\n",
    "# SYNTAX \n",
    "- lambda arguments : expression"
   ]
  },
  {
   "cell_type": "code",
   "execution_count": 2,
   "id": "e9b21edf-23b4-49d4-9ef4-3d429d0edf0c",
   "metadata": {},
   "outputs": [
    {
     "name": "stdout",
     "output_type": "stream",
     "text": [
      "57\n"
     ]
    }
   ],
   "source": [
    "# Add 23 to argument a, and return the result\n",
    "x = lambda a : a + 23\n",
    "print(x(34))\n",
    "    "
   ]
  },
  {
   "cell_type": "code",
   "execution_count": 3,
   "id": "37506f56-5f62-411d-91e0-ea31dd40a97b",
   "metadata": {},
   "outputs": [
    {
     "name": "stdout",
     "output_type": "stream",
     "text": [
      "100\n"
     ]
    }
   ],
   "source": [
    "print(x(77))"
   ]
  },
  {
   "cell_type": "code",
   "execution_count": 4,
   "id": "e792d01b-1941-42e0-b1fb-79d191f4401d",
   "metadata": {},
   "outputs": [
    {
     "name": "stdout",
     "output_type": "stream",
     "text": [
      "315\n"
     ]
    }
   ],
   "source": [
    "y = lambda t,f : t * f\n",
    "print(y(7,45))"
   ]
  },
  {
   "cell_type": "code",
   "execution_count": 5,
   "id": "1b648f36-73d2-418c-b90e-c2bb7be5ce0f",
   "metadata": {},
   "outputs": [],
   "source": [
    "def addition(num1, num2):\n",
    "    return num1 + num2"
   ]
  },
  {
   "cell_type": "markdown",
   "id": "cac7a82f-dad9-45d3-81ed-5bc7d3850801",
   "metadata": {},
   "source": [
    "# Why Use Lambda Functions?\n",
    "- The best way to use lambda and see how powerful lambda can be it is by using lambda as an anonyous function inside another function.\n",
    "- For example;\n",
    "-  def myfunc(n):\n",
    "_______return lambda a: a * n"
   ]
  },
  {
   "cell_type": "code",
   "execution_count": 9,
   "id": "c52f7cfb-ad28-408d-9536-4f7d9c7f0493",
   "metadata": {},
   "outputs": [
    {
     "name": "stdout",
     "output_type": "stream",
     "text": [
      "69\n"
     ]
    }
   ],
   "source": [
    "def myfunc(n):\n",
    "    return lambda a : a * n\n",
    "\n",
    "my_doubler = myfunc(3)\n",
    "print(my_doubler(23))"
   ]
  },
  {
   "cell_type": "markdown",
   "id": "58d899f7-310e-40fa-b269-22a94c769d33",
   "metadata": {},
   "source": [
    "# TYPE OF ERRORS\n",
    "- Syntax error\n",
    "- Indentation error\n",
    "- Name error\n",
    "- Type error\n",
    "- Zero Division error"
   ]
  },
  {
   "cell_type": "code",
   "execution_count": 16,
   "id": "509f454c-56ee-419a-8605-c1963e43bc4a",
   "metadata": {},
   "outputs": [
    {
     "ename": "SyntaxError",
     "evalue": "invalid syntax (1900980822.py, line 1)",
     "output_type": "error",
     "traceback": [
      "\u001b[1;36m  Cell \u001b[1;32mIn[16], line 1\u001b[1;36m\u001b[0m\n\u001b[1;33m    def addition(num1, num2)\u001b[0m\n\u001b[1;37m                            ^\u001b[0m\n\u001b[1;31mSyntaxError\u001b[0m\u001b[1;31m:\u001b[0m invalid syntax\n"
     ]
    }
   ],
   "source": [
    "def addition(num1, num2)\n",
    "    return num1 + num2"
   ]
  },
  {
   "cell_type": "code",
   "execution_count": 15,
   "id": "8499f3d6-c586-4361-887f-f5e95ddb5114",
   "metadata": {},
   "outputs": [
    {
     "ename": "IndentationError",
     "evalue": "expected an indented block (1720894449.py, line 2)",
     "output_type": "error",
     "traceback": [
      "\u001b[1;36m  Cell \u001b[1;32mIn[15], line 2\u001b[1;36m\u001b[0m\n\u001b[1;33m    print(item)\u001b[0m\n\u001b[1;37m    ^\u001b[0m\n\u001b[1;31mIndentationError\u001b[0m\u001b[1;31m:\u001b[0m expected an indented block\n"
     ]
    }
   ],
   "source": [
    "for item in \"Naira\":\n",
    "print(item)"
   ]
  },
  {
   "cell_type": "code",
   "execution_count": 17,
   "id": "5c4ee53a-d579-4c14-a675-8f4db1358e57",
   "metadata": {},
   "outputs": [
    {
     "ename": "NameError",
     "evalue": "name 'bank' is not defined",
     "output_type": "error",
     "traceback": [
      "\u001b[1;31m---------------------------------------------------------------------------\u001b[0m",
      "\u001b[1;31mNameError\u001b[0m                                 Traceback (most recent call last)",
      "Cell \u001b[1;32mIn[17], line 2\u001b[0m\n\u001b[0;32m      1\u001b[0m Bank \u001b[38;5;241m=\u001b[39m \u001b[38;5;124m\"\u001b[39m\u001b[38;5;124mAlajeseku Bank\u001b[39m\u001b[38;5;124m\"\u001b[39m\n\u001b[1;32m----> 2\u001b[0m \u001b[38;5;28mprint\u001b[39m(\u001b[43mbank\u001b[49m)\n",
      "\u001b[1;31mNameError\u001b[0m: name 'bank' is not defined"
     ]
    }
   ],
   "source": [
    "Bank = \"Alajeseku Bank\"\n",
    "print(bank)"
   ]
  },
  {
   "cell_type": "code",
   "execution_count": 28,
   "id": "0c5a87a8-6199-408e-b821-70b9bbb8f3b7",
   "metadata": {},
   "outputs": [],
   "source": [
    "def addition(num1, num2):\n",
    "    return num1 + num2"
   ]
  },
  {
   "cell_type": "code",
   "execution_count": 29,
   "id": "a86cda1f-6056-49f7-9937-3d36ddeb8582",
   "metadata": {},
   "outputs": [
    {
     "ename": "TypeError",
     "evalue": "addition() missing 2 required positional arguments: 'num1' and 'num2'",
     "output_type": "error",
     "traceback": [
      "\u001b[1;31m---------------------------------------------------------------------------\u001b[0m",
      "\u001b[1;31mTypeError\u001b[0m                                 Traceback (most recent call last)",
      "Cell \u001b[1;32mIn[29], line 1\u001b[0m\n\u001b[1;32m----> 1\u001b[0m \u001b[43maddition\u001b[49m\u001b[43m(\u001b[49m\u001b[43m)\u001b[49m\n",
      "\u001b[1;31mTypeError\u001b[0m: addition() missing 2 required positional arguments: 'num1' and 'num2'"
     ]
    }
   ],
   "source": [
    "addition()"
   ]
  },
  {
   "cell_type": "code",
   "execution_count": 30,
   "id": "6c01017a-2c2b-41a2-b830-8d3f25108f23",
   "metadata": {},
   "outputs": [
    {
     "name": "stdin",
     "output_type": "stream",
     "text": [
      "Enter any number:  34\n",
      "Enter any number:  0\n"
     ]
    },
    {
     "ename": "ZeroDivisionError",
     "evalue": "division by zero",
     "output_type": "error",
     "traceback": [
      "\u001b[1;31m---------------------------------------------------------------------------\u001b[0m",
      "\u001b[1;31mZeroDivisionError\u001b[0m                         Traceback (most recent call last)",
      "Cell \u001b[1;32mIn[30], line 3\u001b[0m\n\u001b[0;32m      1\u001b[0m num1 \u001b[38;5;241m=\u001b[39m \u001b[38;5;28mint\u001b[39m(\u001b[38;5;28minput\u001b[39m(\u001b[38;5;124m\"\u001b[39m\u001b[38;5;124mEnter any number: \u001b[39m\u001b[38;5;124m\"\u001b[39m))\n\u001b[0;32m      2\u001b[0m num2 \u001b[38;5;241m=\u001b[39m \u001b[38;5;28mint\u001b[39m(\u001b[38;5;28minput\u001b[39m(\u001b[38;5;124m\"\u001b[39m\u001b[38;5;124mEnter any number: \u001b[39m\u001b[38;5;124m\"\u001b[39m))\n\u001b[1;32m----> 3\u001b[0m \u001b[38;5;28mprint\u001b[39m(\u001b[43mnum1\u001b[49m\u001b[38;5;241;43m/\u001b[39;49m\u001b[43mnum2\u001b[49m)\n",
      "\u001b[1;31mZeroDivisionError\u001b[0m: division by zero"
     ]
    }
   ],
   "source": [
    "num1 = int(input(\"Enter any number: \"))\n",
    "num2 = int(input(\"Enter any number: \"))\n",
    "print(num1/num2)"
   ]
  },
  {
   "cell_type": "markdown",
   "id": "caba696e-0a15-4016-b5b6-29bbb31b9cb8",
   "metadata": {},
   "source": [
    "# TYPE CONVERSION OR CASTING"
   ]
  },
  {
   "cell_type": "code",
   "execution_count": 34,
   "id": "a35707f3-112d-49a7-8517-b1b5aa7e0b89",
   "metadata": {},
   "outputs": [
    {
     "name": "stdout",
     "output_type": "stream",
     "text": [
      "12\n"
     ]
    }
   ],
   "source": [
    "print(int(\"12\"))"
   ]
  },
  {
   "cell_type": "code",
   "execution_count": null,
   "id": "1e933ec1-166d-4e81-a58e-9507fbb3d8f3",
   "metadata": {},
   "outputs": [],
   "source": [
    "int()"
   ]
  },
  {
   "cell_type": "code",
   "execution_count": 35,
   "id": "99dfc12b-f2fc-4083-bfc1-e7afda938861",
   "metadata": {},
   "outputs": [
    {
     "data": {
      "text/plain": [
       "int"
      ]
     },
     "execution_count": 35,
     "metadata": {},
     "output_type": "execute_result"
    }
   ],
   "source": [
    "num = 12\n",
    "type(num)"
   ]
  },
  {
   "cell_type": "code",
   "execution_count": 39,
   "id": "e6c7bc63-36ba-4a74-b7ae-514612bf50f7",
   "metadata": {},
   "outputs": [],
   "source": [
    "str_num = str(num)"
   ]
  },
  {
   "cell_type": "code",
   "execution_count": 40,
   "id": "65ae74f8-5303-40a7-90e9-ed47e7e85235",
   "metadata": {},
   "outputs": [
    {
     "data": {
      "text/plain": [
       "str"
      ]
     },
     "execution_count": 40,
     "metadata": {},
     "output_type": "execute_result"
    }
   ],
   "source": [
    "type(str_num)"
   ]
  },
  {
   "cell_type": "code",
   "execution_count": 42,
   "id": "8e994cf8-084e-445f-8f48-ca97b8132426",
   "metadata": {},
   "outputs": [],
   "source": [
    "set1 = {1,2,3,4,5}"
   ]
  },
  {
   "cell_type": "code",
   "execution_count": 44,
   "id": "35951e36-32e6-4c2b-a00f-43ba4cb9de22",
   "metadata": {},
   "outputs": [
    {
     "data": {
      "text/plain": [
       "set"
      ]
     },
     "execution_count": 44,
     "metadata": {},
     "output_type": "execute_result"
    }
   ],
   "source": [
    "type(set1)"
   ]
  },
  {
   "cell_type": "code",
   "execution_count": 46,
   "id": "89d6af15-4fed-4c88-b4d2-b895b81b93fd",
   "metadata": {},
   "outputs": [
    {
     "data": {
      "text/plain": [
       "list"
      ]
     },
     "execution_count": 46,
     "metadata": {},
     "output_type": "execute_result"
    }
   ],
   "source": [
    "my_list = list(set1)\n",
    "type(my_list)"
   ]
  },
  {
   "cell_type": "code",
   "execution_count": 47,
   "id": "f1f5005e-b965-410b-aac1-fdcfc4da8752",
   "metadata": {},
   "outputs": [
    {
     "name": "stdout",
     "output_type": "stream",
     "text": [
      "[1, 2, 3, 4, 5]\n"
     ]
    }
   ],
   "source": [
    "print(my_list)"
   ]
  },
  {
   "cell_type": "code",
   "execution_count": 48,
   "id": "310b553f-9a18-4aba-b3be-26a6734bbb1a",
   "metadata": {},
   "outputs": [
    {
     "data": {
      "text/plain": [
       "set"
      ]
     },
     "execution_count": 48,
     "metadata": {},
     "output_type": "execute_result"
    }
   ],
   "source": [
    "setttt = set(my_list)\n",
    "type(setttt)"
   ]
  },
  {
   "cell_type": "code",
   "execution_count": 50,
   "id": "d3d9d149-ab12-4396-b87c-b00258a38456",
   "metadata": {},
   "outputs": [
    {
     "data": {
      "text/plain": [
       "{}"
      ]
     },
     "execution_count": 50,
     "metadata": {},
     "output_type": "execute_result"
    }
   ],
   "source": [
    "dict()\n"
   ]
  },
  {
   "cell_type": "code",
   "execution_count": 51,
   "id": "deb33488-d4ca-44f6-9563-ce03157e9dcc",
   "metadata": {},
   "outputs": [
    {
     "data": {
      "text/plain": [
       "0.0"
      ]
     },
     "execution_count": 51,
     "metadata": {},
     "output_type": "execute_result"
    }
   ],
   "source": [
    "float()"
   ]
  },
  {
   "cell_type": "markdown",
   "id": "3c53910a-173b-48a6-95e0-8d002c413814",
   "metadata": {},
   "source": [
    "# ASSIGNMENT\n",
    "\n",
    "- int()\n",
    "- float()\n",
    "- set()\n",
    "- list()\n",
    "- dict()\n",
    "- str()\n",
    "\n",
    "- use all the type conversion mentioned above"
   ]
  },
  {
   "cell_type": "code",
   "execution_count": 21,
   "id": "45438519-4cf6-414f-af6b-7457cea414ec",
   "metadata": {},
   "outputs": [
    {
     "name": "stdin",
     "output_type": "stream",
     "text": [
      "Enter the current year:  2024\n",
      "Enter your year of birth:  1960\n"
     ]
    },
    {
     "name": "stdout",
     "output_type": "stream",
     "text": [
      "You are 64 years old\n"
     ]
    }
   ],
   "source": [
    "current_year = int(input(\"Enter the current year: \"))\n",
    "YOB = int(input(\"Enter your year of birth: \"))\n",
    "age = current_year - YOB\n",
    "print(f\"You are {age} years old\")\n"
   ]
  },
  {
   "cell_type": "markdown",
   "id": "367a6d4e-b6c5-45a9-bbb8-36b6ec7957ee",
   "metadata": {},
   "source": [
    "# Creating Calendar using Python"
   ]
  },
  {
   "cell_type": "code",
   "execution_count": 7,
   "id": "c3a5b23a-a04c-423e-926f-61f69e8d7918",
   "metadata": {},
   "outputs": [
    {
     "name": "stdin",
     "output_type": "stream",
     "text": [
      "Enter the year you want to check:  4050\n"
     ]
    },
    {
     "name": "stdout",
     "output_type": "stream",
     "text": [
      "                                  4050\n",
      "\n",
      "      January                   February                   March\n",
      "Mo Tu We Th Fr Sa Su      Mo Tu We Th Fr Sa Su      Mo Tu We Th Fr Sa Su\n",
      "                1  2          1  2  3  4  5  6          1  2  3  4  5  6\n",
      " 3  4  5  6  7  8  9       7  8  9 10 11 12 13       7  8  9 10 11 12 13\n",
      "10 11 12 13 14 15 16      14 15 16 17 18 19 20      14 15 16 17 18 19 20\n",
      "17 18 19 20 21 22 23      21 22 23 24 25 26 27      21 22 23 24 25 26 27\n",
      "24 25 26 27 28 29 30      28                        28 29 30 31\n",
      "31\n",
      "\n",
      "       April                      May                       June\n",
      "Mo Tu We Th Fr Sa Su      Mo Tu We Th Fr Sa Su      Mo Tu We Th Fr Sa Su\n",
      "             1  2  3                         1             1  2  3  4  5\n",
      " 4  5  6  7  8  9 10       2  3  4  5  6  7  8       6  7  8  9 10 11 12\n",
      "11 12 13 14 15 16 17       9 10 11 12 13 14 15      13 14 15 16 17 18 19\n",
      "18 19 20 21 22 23 24      16 17 18 19 20 21 22      20 21 22 23 24 25 26\n",
      "25 26 27 28 29 30         23 24 25 26 27 28 29      27 28 29 30\n",
      "                          30 31\n",
      "\n",
      "        July                     August                  September\n",
      "Mo Tu We Th Fr Sa Su      Mo Tu We Th Fr Sa Su      Mo Tu We Th Fr Sa Su\n",
      "             1  2  3       1  2  3  4  5  6  7                1  2  3  4\n",
      " 4  5  6  7  8  9 10       8  9 10 11 12 13 14       5  6  7  8  9 10 11\n",
      "11 12 13 14 15 16 17      15 16 17 18 19 20 21      12 13 14 15 16 17 18\n",
      "18 19 20 21 22 23 24      22 23 24 25 26 27 28      19 20 21 22 23 24 25\n",
      "25 26 27 28 29 30 31      29 30 31                  26 27 28 29 30\n",
      "\n",
      "      October                   November                  December\n",
      "Mo Tu We Th Fr Sa Su      Mo Tu We Th Fr Sa Su      Mo Tu We Th Fr Sa Su\n",
      "                1  2          1  2  3  4  5  6                1  2  3  4\n",
      " 3  4  5  6  7  8  9       7  8  9 10 11 12 13       5  6  7  8  9 10 11\n",
      "10 11 12 13 14 15 16      14 15 16 17 18 19 20      12 13 14 15 16 17 18\n",
      "17 18 19 20 21 22 23      21 22 23 24 25 26 27      19 20 21 22 23 24 25\n",
      "24 25 26 27 28 29 30      28 29 30                  26 27 28 29 30 31\n",
      "31\n",
      "None\n"
     ]
    }
   ],
   "source": [
    "import calendar \n",
    "year = int(input(\"Enter the year you want to check: \"))\n",
    "cal = calendar.prcal(year)\n",
    "print(cal)"
   ]
  },
  {
   "cell_type": "code",
   "execution_count": null,
   "id": "af9ab3d8-5a8c-43b6-a94a-5b2cb8eb4a64",
   "metadata": {},
   "outputs": [],
   "source": [
    "calendar.prcal()"
   ]
  }
 ],
 "metadata": {
  "kernelspec": {
   "display_name": "Python 3 (ipykernel)",
   "language": "python",
   "name": "python3"
  },
  "language_info": {
   "codemirror_mode": {
    "name": "ipython",
    "version": 3
   },
   "file_extension": ".py",
   "mimetype": "text/x-python",
   "name": "python",
   "nbconvert_exporter": "python",
   "pygments_lexer": "ipython3",
   "version": "3.9.19"
  }
 },
 "nbformat": 4,
 "nbformat_minor": 5
}
