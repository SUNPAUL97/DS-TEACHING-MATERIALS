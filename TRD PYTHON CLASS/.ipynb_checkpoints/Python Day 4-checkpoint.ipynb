{
 "cells": [
  {
   "cell_type": "code",
   "execution_count": null,
   "id": "e2f4ec45",
   "metadata": {},
   "outputs": [],
   "source": [
    "Else statements\n",
    "The while Loop\n",
    "Functions"
   ]
  },
  {
   "cell_type": "code",
   "execution_count": null,
   "id": "0ce0ef90",
   "metadata": {},
   "outputs": [],
   "source": [
    "Assignment 1\n",
    "Read on else statements and the while loop."
   ]
  },
  {
   "cell_type": "code",
   "execution_count": null,
   "id": "cfffcd02",
   "metadata": {},
   "outputs": [],
   "source": [
    "Assignment 2\n",
    "Read on errors, classes"
   ]
  },
  {
   "cell_type": "code",
   "execution_count": null,
   "id": "39ab98ff",
   "metadata": {},
   "outputs": [],
   "source": [
    "Else statements\n",
    "The if and else statement. They have onen similarity, that is both \n",
    "of them can only be used once.\n",
    "Else statements are statements that are used to terminate your if\n",
    "statements.\n",
    "Note: For you to have an else statement you have to first have a\n",
    "corresponding if statement."
   ]
  },
  {
   "cell_type": "code",
   "execution_count": null,
   "id": "37b1f3c6",
   "metadata": {},
   "outputs": [],
   "source": [
    "Else statement have a very simple syntax. They do not require a\n",
    "condition. The reason for that is, simple because the code under \n",
    "your else statement will only be run if the if and the elif \n",
    "statements are false.\n",
    "\n",
    "The else statement follows the following format\n",
    "else:\n",
    "    code"
   ]
  },
  {
   "cell_type": "code",
   "execution_count": 3,
   "id": "87a368bf",
   "metadata": {},
   "outputs": [
    {
     "name": "stdout",
     "output_type": "stream",
     "text": [
      "What movie do you want to watch? Moxie\n",
      "We don't have it\n"
     ]
    }
   ],
   "source": [
    "movie = input(\"What movie do you want to watch? \")\n",
    "available_movies = ['Stars War', 'Avengers Endgame', 'Paw Patrol']\n",
    "\n",
    "if movie in available_movies:\n",
    "    print(\"We have the movie\")\n",
    "else:\n",
    "    print(\"We don't have it\")"
   ]
  },
  {
   "cell_type": "code",
   "execution_count": null,
   "id": "6f3ea750",
   "metadata": {},
   "outputs": [],
   "source": [
    "if\n",
    "elif\n",
    "else"
   ]
  },
  {
   "cell_type": "code",
   "execution_count": null,
   "id": "60219678",
   "metadata": {},
   "outputs": [],
   "source": [
    "car = input(\"Which Car do you want to buy? \")\n",
    "available_cars = ['Toyota', 'Nissan', 'Bugatti']\n",
    "incoming_cars = ['Ferrari']\n",
    "if car in available_cars:\n",
    "    print(\"We have the car\")\n",
    "elif car in incoming_cars:\n",
    "    print(\"We don't have it, but it's coming\")\n",
    "else:\n",
    "    print(\"We don't have it\")"
   ]
  },
  {
   "cell_type": "code",
   "execution_count": null,
   "id": "807b505f",
   "metadata": {},
   "outputs": [],
   "source": [
    "Design a program that grades a student\n",
    "if the student score 90 and above, give the student an \"A\"\n",
    "if the student score between 80 and 90, give the student an \"B\"\n",
    "if the student score between 70 and 80, give the student an \"C\"\n",
    "if the student score between 60 and 70, give the student an \"D\"\n",
    "else give the student an 'F'"
   ]
  },
  {
   "cell_type": "code",
   "execution_count": 5,
   "id": "fea3e2e8",
   "metadata": {},
   "outputs": [
    {
     "name": "stdout",
     "output_type": "stream",
     "text": [
      "What did you score? 70\n",
      "C\n"
     ]
    }
   ],
   "source": [
    "score = input(\"What did you score? \")\n",
    "score = int(score)\n",
    "if score >= 90:\n",
    "    print('A')\n",
    "elif score >= 80 and score < 90:\n",
    "    print('B')\n",
    "elif score >= 70 and score < 80:\n",
    "    print('C')\n",
    "elif score >= 60 and score < 70:\n",
    "    print('D')\n",
    "else:\n",
    "    print('F')"
   ]
  },
  {
   "cell_type": "code",
   "execution_count": null,
   "id": "e41279ca",
   "metadata": {},
   "outputs": [],
   "source": [
    "The while Loop\n",
    "This is a loop that will run until the condition provided is false.\n",
    "It has the following syntax\n",
    "While Condition:\n",
    "    code"
   ]
  },
  {
   "cell_type": "code",
   "execution_count": null,
   "id": "5909af8b",
   "metadata": {},
   "outputs": [],
   "source": [
    "created a while loop that counts to 5"
   ]
  },
  {
   "cell_type": "code",
   "execution_count": null,
   "id": "68b73a6b",
   "metadata": {},
   "outputs": [],
   "source": [
    "Str - It is a function that converts any other acceptable datatype \n",
    "into a string"
   ]
  },
  {
   "cell_type": "code",
   "execution_count": 2,
   "id": "ce449155",
   "metadata": {},
   "outputs": [
    {
     "name": "stdout",
     "output_type": "stream",
     "text": [
      "This is the 1st Loop\n",
      "Num is 1\n",
      "This is the 2st Loop\n",
      "Num is 2\n",
      "This is the 3st Loop\n",
      "Num is 3\n",
      "This is the 4st Loop\n",
      "Num is 4\n",
      "This is the 5st Loop\n",
      "Num is 5\n",
      "This is the 6st Loop\n",
      "Num is 6\n"
     ]
    }
   ],
   "source": [
    "num = 0\n",
    "while num != 6:\n",
    "    num = num + 1\n",
    "    print(\"This is the \"+ str(num) + \"st Loop\")\n",
    "    print(\"Num is \" + str(num))"
   ]
  },
  {
   "cell_type": "code",
   "execution_count": null,
   "id": "f07f466c",
   "metadata": {},
   "outputs": [],
   "source": [
    "Create a while loop to calculate the sum of 1 to 5"
   ]
  },
  {
   "cell_type": "code",
   "execution_count": null,
   "id": "a9ea227f",
   "metadata": {},
   "outputs": [],
   "source": [
    "Create a condition\n",
    "Created a variable to update our condition\n",
    "Created our while loop\n",
    "Created a way to update our variable\n",
    "Update our total variable with each loop"
   ]
  },
  {
   "cell_type": "code",
   "execution_count": 12,
   "id": "bbaaba5a",
   "metadata": {},
   "outputs": [
    {
     "name": "stdout",
     "output_type": "stream",
     "text": [
      "This is the 1st Loop\n",
      "Num is 1\n",
      "This is the 2st Loop\n",
      "Num is 2\n",
      "This is the 3st Loop\n",
      "Num is 3\n",
      "This is the 4st Loop\n",
      "Num is 4\n",
      "This is the 5st Loop\n",
      "Num is 5\n",
      "15\n"
     ]
    }
   ],
   "source": [
    "num = 0\n",
    "Total = 0\n",
    "while num != 5:\n",
    "    num = num + 1\n",
    "    print(\"This is the \"+ str(num) + \"st Loop\")\n",
    "    print(\"Num is \" + str(num))\n",
    "    Total = Total + num\n",
    "print(Total)"
   ]
  },
  {
   "cell_type": "code",
   "execution_count": null,
   "id": "128fd1ec",
   "metadata": {},
   "outputs": [],
   "source": [
    "Created a login page using a while loop\n",
    "ensure the password collected is \"pass123\" to break out of the \n",
    "loop\n",
    "if the password isn't correct, continue asking the user for the \n",
    "correct password\n"
   ]
  },
  {
   "cell_type": "code",
   "execution_count": 14,
   "id": "ff5c6275",
   "metadata": {},
   "outputs": [
    {
     "name": "stdout",
     "output_type": "stream",
     "text": [
      "What is your password? 1234\n",
      "What is your password? 5678\n",
      "What is your password? pass123\n"
     ]
    }
   ],
   "source": [
    "password = input(\"What is your password? \")\n",
    "while password != \"pass123\":\n",
    "    password = input(\"What is your password? \")"
   ]
  },
  {
   "cell_type": "code",
   "execution_count": null,
   "id": "9f70ec5b",
   "metadata": {},
   "outputs": [],
   "source": [
    "create a while loop that counts to 20"
   ]
  },
  {
   "cell_type": "code",
   "execution_count": 1,
   "id": "d9122b16",
   "metadata": {},
   "outputs": [
    {
     "name": "stdout",
     "output_type": "stream",
     "text": [
      "1\n",
      "2\n",
      "3\n",
      "4\n",
      "5\n",
      "6\n",
      "7\n",
      "8\n",
      "9\n",
      "10\n",
      "11\n",
      "12\n",
      "13\n",
      "14\n",
      "15\n",
      "16\n",
      "17\n",
      "18\n",
      "19\n",
      "20\n"
     ]
    }
   ],
   "source": [
    "num = 0\n",
    "\n",
    "while num < 20:\n",
    "    num = num + 1\n",
    "    print(num)"
   ]
  },
  {
   "cell_type": "code",
   "execution_count": null,
   "id": "b55e3e2b",
   "metadata": {},
   "outputs": [],
   "source": [
    "Functions - This is a block of reusable code. \n",
    "To use a function\n",
    "you first have to define or create it\n",
    "you have to call your function\n",
    "\n",
    "To call your function, you simply write out your function name\n",
    "and beside you put your ()"
   ]
  },
  {
   "cell_type": "code",
   "execution_count": 17,
   "id": "4d924b86",
   "metadata": {},
   "outputs": [],
   "source": [
    "def Print_something():\n",
    "    print(\"Hello, How are you\")"
   ]
  },
  {
   "cell_type": "code",
   "execution_count": 19,
   "id": "a15b9562",
   "metadata": {},
   "outputs": [],
   "source": [
    "def my_name():\n",
    "    print(\"Hello, my name is Ayo\")"
   ]
  },
  {
   "cell_type": "code",
   "execution_count": 20,
   "id": "aeb46c14",
   "metadata": {},
   "outputs": [
    {
     "name": "stdout",
     "output_type": "stream",
     "text": [
      "Hello, my name is Ayo\n"
     ]
    }
   ],
   "source": [
    "my_name()"
   ]
  },
  {
   "cell_type": "code",
   "execution_count": null,
   "id": "f6eb109f",
   "metadata": {},
   "outputs": [],
   "source": [
    "arguments and parameters - They are be used interchangeable. \n",
    "arguments are placeholders in your function. They act as variables\n",
    "inside your function.\n",
    "They must be filled in with values when calling our function"
   ]
  },
  {
   "cell_type": "code",
   "execution_count": null,
   "id": "9e035b0f",
   "metadata": {},
   "outputs": [],
   "source": [
    "Assignment 3\n",
    "Read on local and global scope"
   ]
  },
  {
   "cell_type": "code",
   "execution_count": 21,
   "id": "e0690f27",
   "metadata": {},
   "outputs": [],
   "source": [
    "def my_name(name):\n",
    "    print(\"Hello, my name is \" + name)"
   ]
  },
  {
   "cell_type": "code",
   "execution_count": 25,
   "id": "4a14cad0",
   "metadata": {},
   "outputs": [
    {
     "name": "stdout",
     "output_type": "stream",
     "text": [
      "Hello, my name is ayo\n"
     ]
    }
   ],
   "source": [
    "my_name(\"ayo\")"
   ]
  },
  {
   "cell_type": "code",
   "execution_count": null,
   "id": "4402f002",
   "metadata": {},
   "outputs": [],
   "source": [
    "my_age takes 1 argument\n",
    "print my name is "
   ]
  },
  {
   "cell_type": "code",
   "execution_count": null,
   "id": "16bed2ec",
   "metadata": {},
   "outputs": [],
   "source": [
    "Types of arguments\n",
    "1. Positional ...\n",
    "2. Keyword ...."
   ]
  },
  {
   "cell_type": "code",
   "execution_count": 26,
   "id": "894b56bf",
   "metadata": {},
   "outputs": [],
   "source": [
    "def my_name(name=\"ayo\"):\n",
    "    print(\"Hello, my name is \" + name)"
   ]
  },
  {
   "cell_type": "code",
   "execution_count": 32,
   "id": "d151d29d",
   "metadata": {},
   "outputs": [],
   "source": [
    "def me(name, age):\n",
    "    print(\"Hello, my name is \" + name + \" My age is \" + age)"
   ]
  },
  {
   "cell_type": "code",
   "execution_count": 34,
   "id": "30434479",
   "metadata": {},
   "outputs": [
    {
     "name": "stdout",
     "output_type": "stream",
     "text": [
      "Hello, my name is 17 My age is Ayo\n"
     ]
    }
   ],
   "source": [
    "me(\"17\", 'Ayo')"
   ]
  },
  {
   "cell_type": "code",
   "execution_count": 29,
   "id": "bf8f9e7e",
   "metadata": {},
   "outputs": [],
   "source": [
    "def me(name=\"ayo\", age='17'):\n",
    "    print(\"Hello, my name is \" + name + \" My age is \" + age)"
   ]
  },
  {
   "cell_type": "code",
   "execution_count": 31,
   "id": "30c02335",
   "metadata": {},
   "outputs": [
    {
     "name": "stdout",
     "output_type": "stream",
     "text": [
      "Hello, my name is ayo My age is 20\n"
     ]
    }
   ],
   "source": [
    "me(age='20')"
   ]
  },
  {
   "cell_type": "code",
   "execution_count": null,
   "id": "ee9c0549",
   "metadata": {},
   "outputs": [],
   "source": [
    "Positional arguments must always come before the keyword arguments"
   ]
  },
  {
   "cell_type": "code",
   "execution_count": 37,
   "id": "667632c6",
   "metadata": {},
   "outputs": [],
   "source": [
    "def me(a, b, name=\"ade\", age='12'):\n",
    "    print(a+b)\n",
    "    print(\"Hello, my name is \" + name + \" My age is \" + age)"
   ]
  },
  {
   "cell_type": "code",
   "execution_count": 38,
   "id": "8441abb0",
   "metadata": {},
   "outputs": [
    {
     "name": "stdout",
     "output_type": "stream",
     "text": [
      "3\n",
      "Hello, my name is tunde My age is 12\n"
     ]
    }
   ],
   "source": [
    "me(1, 2, name='tunde')"
   ]
  },
  {
   "cell_type": "code",
   "execution_count": null,
   "id": "05c9b98a",
   "metadata": {},
   "outputs": [],
   "source": [
    "exercise\n",
    "create a function with 4 positional arguments and 2 keyword \n",
    "arguments\n",
    "print(the sum of the first 2 positional arguments)\n",
    "print(the product of the last 2 positional arguments)\n",
    "concatenate the keyword arguments and print the output\n",
    "call the function"
   ]
  },
  {
   "cell_type": "code",
   "execution_count": 22,
   "id": "7a0920da",
   "metadata": {},
   "outputs": [],
   "source": [
    "x = 25 \n",
    "def num():\n",
    "    global x\n",
    "    x = 12\n",
    "    print(x)"
   ]
  },
  {
   "cell_type": "code",
   "execution_count": 23,
   "id": "aaf414db",
   "metadata": {},
   "outputs": [
    {
     "name": "stdout",
     "output_type": "stream",
     "text": [
      "25\n",
      "12\n"
     ]
    }
   ],
   "source": [
    "print(x)\n",
    "num()"
   ]
  },
  {
   "cell_type": "code",
   "execution_count": 24,
   "id": "61bd84b9-1b73-4bf1-9b21-ebd49950cc1e",
   "metadata": {},
   "outputs": [
    {
     "name": "stdout",
     "output_type": "stream",
     "text": [
      "12\n"
     ]
    }
   ],
   "source": [
    "print(x)"
   ]
  },
  {
   "cell_type": "code",
   "execution_count": 13,
   "id": "605c20c9-f565-4956-a719-00d92d7ad4e7",
   "metadata": {},
   "outputs": [
    {
     "name": "stdout",
     "output_type": "stream",
     "text": [
      "18\n"
     ]
    }
   ],
   "source": [
    "x= 18\n",
    "print(x)\n"
   ]
  },
  {
   "cell_type": "code",
   "execution_count": 14,
   "id": "2c522787-ae9e-49c4-9cec-d82212df3afe",
   "metadata": {},
   "outputs": [],
   "source": [
    "x = 56"
   ]
  },
  {
   "cell_type": "code",
   "execution_count": 15,
   "id": "0d45445c-d244-48f3-ab9f-9019daad8a0d",
   "metadata": {},
   "outputs": [
    {
     "name": "stdout",
     "output_type": "stream",
     "text": [
      "56\n"
     ]
    }
   ],
   "source": [
    "print(x\n",
    "     )"
   ]
  },
  {
   "cell_type": "code",
   "execution_count": 25,
   "id": "c2d2985f-8b6f-41f0-94ff-096c6b0fdb09",
   "metadata": {},
   "outputs": [
    {
     "name": "stdout",
     "output_type": "stream",
     "text": [
      "The boy name is Adebayo and He is 1234years old\n"
     ]
    }
   ],
   "source": [
    "name = \"Adebayo\"\n",
    "age = 1234\n",
    "print(f\"The boy name is {name} and He is {age}years old\")"
   ]
  },
  {
   "cell_type": "code",
   "execution_count": 1,
   "id": "6c9420d2-25c2-4206-8d4b-47fdb3526e32",
   "metadata": {},
   "outputs": [],
   "source": [
    "def addition (num1, num2):\n",
    "    return num1 + num2 \n"
   ]
  },
  {
   "cell_type": "code",
   "execution_count": 2,
   "id": "06bfb3f7-8c7a-407b-9aaf-52b2f0fe3c85",
   "metadata": {},
   "outputs": [
    {
     "data": {
      "text/plain": [
       "70"
      ]
     },
     "execution_count": 2,
     "metadata": {},
     "output_type": "execute_result"
    }
   ],
   "source": [
    "addition(3,67\n",
    "        )"
   ]
  },
  {
   "cell_type": "code",
   "execution_count": null,
   "id": "ff376345-ad3e-4ee7-9517-9e20104cd5fb",
   "metadata": {},
   "outputs": [],
   "source": []
  }
 ],
 "metadata": {
  "kernelspec": {
   "display_name": "Python 3 (ipykernel)",
   "language": "python",
   "name": "python3"
  },
  "language_info": {
   "codemirror_mode": {
    "name": "ipython",
    "version": 3
   },
   "file_extension": ".py",
   "mimetype": "text/x-python",
   "name": "python",
   "nbconvert_exporter": "python",
   "pygments_lexer": "ipython3",
   "version": "3.9.19"
  }
 },
 "nbformat": 4,
 "nbformat_minor": 5
}
