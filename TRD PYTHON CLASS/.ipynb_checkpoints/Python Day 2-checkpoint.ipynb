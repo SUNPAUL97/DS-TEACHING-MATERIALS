{
 "cells": [
  {
   "cell_type": "code",
   "execution_count": null,
   "id": "f41b338d",
   "metadata": {},
   "outputs": [],
   "source": [
    "Booleans *\n",
    "Lists\n",
    "Tuples\n",
    "Sets\n",
    "Dictionaries"
   ]
  },
  {
   "cell_type": "code",
   "execution_count": null,
   "id": "52b25c3f",
   "metadata": {},
   "outputs": [],
   "source": [
    "\"a\" is not \"A\"\n",
    "a is not A"
   ]
  },
  {
   "cell_type": "code",
   "execution_count": 3,
   "id": "96d7f7c7-d549-416a-b59f-132488ab2324",
   "metadata": {},
   "outputs": [
    {
     "name": "stdout",
     "output_type": "stream",
     "text": [
      "False\n"
     ]
    },
    {
     "name": "stderr",
     "output_type": "stream",
     "text": [
      "<>:1: SyntaxWarning: \"is not\" with a literal. Did you mean \"!=\"?\n",
      "<>:1: SyntaxWarning: \"is not\" with a literal. Did you mean \"!=\"?\n",
      "C:\\Users\\MC MAGGIE\\AppData\\Local\\Temp\\ipykernel_15832\\2988939871.py:1: SyntaxWarning: \"is not\" with a literal. Did you mean \"!=\"?\n",
      "  print(1 is not 1)\n"
     ]
    }
   ],
   "source": []
  },
  {
   "cell_type": "code",
   "execution_count": null,
   "id": "f9c47ae5",
   "metadata": {},
   "outputs": [],
   "source": [
    "python is case sensitive"
   ]
  },
  {
   "cell_type": "code",
   "execution_count": null,
   "id": "5ffef744",
   "metadata": {},
   "outputs": [],
   "source": [
    "Booleans - True and False"
   ]
  },
  {
   "cell_type": "code",
   "execution_count": null,
   "id": "22ed755d",
   "metadata": {},
   "outputs": [],
   "source": [
    "Boolean Operations\n",
    "and\n",
    "or\n",
    "not"
   ]
  },
  {
   "cell_type": "code",
   "execution_count": null,
   "id": "95bc1134",
   "metadata": {},
   "outputs": [],
   "source": [
    "Truth Tables\n",
    "and - it is a very strict operation that returns the boolean value \n",
    "True if and only if both of the initial values are True otherwise \n",
    "it returns false"
   ]
  },
  {
   "cell_type": "code",
   "execution_count": 1,
   "id": "7153a046",
   "metadata": {},
   "outputs": [
    {
     "name": "stdout",
     "output_type": "stream",
     "text": [
      "True\n",
      "False\n",
      "False\n",
      "False\n"
     ]
    }
   ],
   "source": [
    "print(True and True)\n",
    "print(True and False)\n",
    "print(False and True)\n",
    "print(False and False)"
   ]
  },
  {
   "cell_type": "code",
   "execution_count": null,
   "id": "098700e8",
   "metadata": {},
   "outputs": [],
   "source": [
    "True and True and False and True"
   ]
  },
  {
   "cell_type": "code",
   "execution_count": null,
   "id": "1debff7f",
   "metadata": {},
   "outputs": [],
   "source": [
    "or - it is a very flexible operation that returns the boolean value \n",
    "True if and only if atleast one of the initial values are True \n",
    "otherwise it returns false"
   ]
  },
  {
   "cell_type": "code",
   "execution_count": 2,
   "id": "7799cf29",
   "metadata": {},
   "outputs": [
    {
     "name": "stdout",
     "output_type": "stream",
     "text": [
      "True\n",
      "True\n",
      "True\n",
      "False\n"
     ]
    }
   ],
   "source": [
    "print(True or True)\n",
    "print(True or False)\n",
    "print(False or True)\n",
    "print(False or False)"
   ]
  },
  {
   "cell_type": "code",
   "execution_count": null,
   "id": "7ecd92f1",
   "metadata": {},
   "outputs": [],
   "source": [
    "(True and False or True) and False or True"
   ]
  },
  {
   "cell_type": "code",
   "execution_count": 10,
   "id": "f477b6d2-2a4c-4165-a32b-c84ec00be8b1",
   "metadata": {},
   "outputs": [
    {
     "name": "stdin",
     "output_type": "stream",
     "text": [
      "Enter your username:  McMaggie\n",
      "Enter your password:  2020\n"
     ]
    },
    {
     "name": "stdout",
     "output_type": "stream",
     "text": [
      "You are not eligible\n"
     ]
    }
   ],
   "source": [
    "user = input(\"Enter your username: \")\n",
    "password = input(\"Enter your password: \")\n",
    "if (user == \"McMaggie\" and password == \"2024\"):\n",
    "    print(\"You've logged in\")\n",
    "else:\n",
    "    print(\"You are not eligible\")"
   ]
  },
  {
   "cell_type": "code",
   "execution_count": null,
   "id": "66557eb9",
   "metadata": {},
   "outputs": [],
   "source": [
    "not - it is a very straight forward operation that returns the \n",
    "inverse of the initial boolean value "
   ]
  },
  {
   "cell_type": "code",
   "execution_count": null,
   "id": "3ff79723",
   "metadata": {},
   "outputs": [],
   "source": [
    "The opposite True is false and vice versa"
   ]
  },
  {
   "cell_type": "code",
   "execution_count": null,
   "id": "797f9475",
   "metadata": {},
   "outputs": [],
   "source": [
    "not False"
   ]
  },
  {
   "cell_type": "code",
   "execution_count": null,
   "id": "0bd7bf1a",
   "metadata": {},
   "outputs": [],
   "source": [
    "Lists - This is a ordered and mutable collection of datatypes.\n",
    "A list is denoted by square brackets \"[]\".\n",
    "Each member is seperated by a comma. This is very important."
   ]
  },
  {
   "cell_type": "code",
   "execution_count": null,
   "id": "4fa2c911",
   "metadata": {},
   "outputs": [],
   "source": [
    "[1, 2, 3, 4, 'hello', 'how', 'are', 'you', 1.0, 2.567, [True, \n",
    "                                                        False]]"
   ]
  },
  {
   "cell_type": "code",
   "execution_count": null,
   "id": "e4666019",
   "metadata": {},
   "outputs": [],
   "source": [
    "A list that contains one or more seperate lists is called a\n",
    "nested list."
   ]
  },
  {
   "cell_type": "code",
   "execution_count": null,
   "id": "dd4c86a0",
   "metadata": {},
   "outputs": [],
   "source": [
    "When i say a list is ordered, I mean that every element in the list\n",
    "has a certain position and this position has a certain index that\n",
    "distinguishes it from our list.\n",
    "\n",
    "Python has two styles of indexing\n",
    "1. Zero indexing or Forwards Indexing\n",
    "2. Negative indexing or Backwards indexing"
   ]
  },
  {
   "cell_type": "code",
   "execution_count": null,
   "id": "3ed0d059",
   "metadata": {},
   "outputs": [],
   "source": [
    "an index is an integer that denotes the position of an element in\n",
    "a list"
   ]
  },
  {
   "cell_type": "code",
   "execution_count": null,
   "id": "2e89439b",
   "metadata": {},
   "outputs": [],
   "source": [
    " 0. 1. 2. 3.   4.       5.     6.     7. -> Zero Indexing\n",
    "[1, 2, 3, 4, 'hello', 'how', 'are', 'you']\n",
    " .   .   .   .   -4    -3     -2     -1 -> Negative Indexing"
   ]
  },
  {
   "cell_type": "code",
   "execution_count": null,
   "id": "7e9d9df0",
   "metadata": {},
   "outputs": [],
   "source": [
    "Note: To get the index, you need to subtract 1 from the position"
   ]
  },
  {
   "cell_type": "code",
   "execution_count": null,
   "id": "60e0bec6",
   "metadata": {},
   "outputs": [],
   "source": [
    "To make use of the indexing you will follow the format below\n",
    "List/Variable containing your list [index]"
   ]
  },
  {
   "cell_type": "code",
   "execution_count": 19,
   "id": "8180678a",
   "metadata": {},
   "outputs": [
    {
     "data": {
      "text/plain": [
       "[1]"
      ]
     },
     "execution_count": 19,
     "metadata": {},
     "output_type": "execute_result"
    }
   ],
   "source": [
    "my_list = [1, 2, 3, 4, 'hello', 'how', 'are', 'you']\n",
    "my_list[]"
   ]
  },
  {
   "cell_type": "code",
   "execution_count": 20,
   "id": "db439556",
   "metadata": {},
   "outputs": [],
   "source": [
    "my_list2 = ['a', 'b', 'c', 'd', \n",
    " ['e', 'f', ['g', ['h', 'k']]]\n",
    "]"
   ]
  },
  {
   "cell_type": "code",
   "execution_count": 21,
   "id": "11540824-1773-4c5b-82b5-cc8741960742",
   "metadata": {},
   "outputs": [
    {
     "name": "stdout",
     "output_type": "stream",
     "text": [
      "['a', 'b', 'c', 'd', ['e', 'f', ['g', ['h', 'k']]]]\n"
     ]
    }
   ],
   "source": [
    "print(my_list2)"
   ]
  },
  {
   "cell_type": "code",
   "execution_count": 28,
   "id": "5099e6df-871d-4028-b031-91a0f279ec9c",
   "metadata": {},
   "outputs": [
    {
     "data": {
      "text/plain": [
       "'h'"
      ]
     },
     "execution_count": 28,
     "metadata": {},
     "output_type": "execute_result"
    }
   ],
   "source": [
    "my_list2[4][2][1][0]"
   ]
  },
  {
   "cell_type": "code",
   "execution_count": 31,
   "id": "dca6aaad",
   "metadata": {},
   "outputs": [
    {
     "data": {
      "text/plain": [
       "['a', 'b']"
      ]
     },
     "execution_count": 31,
     "metadata": {},
     "output_type": "execute_result"
    }
   ],
   "source": [
    "['a', 'b', 'c', 'd'][0:2]"
   ]
  },
  {
   "cell_type": "code",
   "execution_count": null,
   "id": "633d57ee",
   "metadata": {},
   "outputs": [],
   "source": [
    "List slicing - this is a slightly advanced form of list indexing\n",
    "It is used to retrieve multiple elements within a particular range\n",
    "from a list"
   ]
  },
  {
   "cell_type": "code",
   "execution_count": 29,
   "id": "314e6aa5",
   "metadata": {
    "collapsed": true,
    "jupyter": {
     "outputs_hidden": true
    }
   },
   "outputs": [
    {
     "ename": "SyntaxError",
     "evalue": "invalid syntax (3930167413.py, line 1)",
     "output_type": "error",
     "traceback": [
      "\u001b[0;36m  Cell \u001b[0;32mIn[29], line 1\u001b[0;36m\u001b[0m\n\u001b[0;31m    To make use of the list slicing you will follow the format below\u001b[0m\n\u001b[0m       ^\u001b[0m\n\u001b[0;31mSyntaxError\u001b[0m\u001b[0;31m:\u001b[0m invalid syntax\n"
     ]
    }
   ],
   "source": [
    "To make use of the list slicing you will follow the format below\n",
    "List/Variable containing your list [start_index : stop_index]\n",
    "Note: The element of your stop index is excluded from the sliced\n",
    "list."
   ]
  },
  {
   "cell_type": "code",
   "execution_count": 41,
   "id": "2a808acd",
   "metadata": {},
   "outputs": [
    {
     "data": {
      "text/plain": [
       "[1.0, 2.567]"
      ]
     },
     "execution_count": 41,
     "metadata": {},
     "output_type": "execute_result"
    }
   ],
   "source": [
    "[1, 2, 3, 4, 'hello', 'how', 'are', 'you', 1.0, 2.567][-2:]"
   ]
  },
  {
   "cell_type": "code",
   "execution_count": null,
   "id": "9d313a4f",
   "metadata": {},
   "outputs": [],
   "source": [
    "mutable - This means that lists can be altered after creation."
   ]
  },
  {
   "cell_type": "code",
   "execution_count": 42,
   "id": "61451fd2",
   "metadata": {},
   "outputs": [],
   "source": [
    "original_list = [1, 2, 3, 4, 'hello', 'how', 'are', 'you', 1.0, \n",
    "                 2.567]"
   ]
  },
  {
   "cell_type": "code",
   "execution_count": null,
   "id": "020f228b",
   "metadata": {},
   "outputs": [],
   "source": [
    "To remove element from your list"
   ]
  },
  {
   "cell_type": "code",
   "execution_count": 43,
   "id": "84e41754",
   "metadata": {},
   "outputs": [],
   "source": [
    "del original_list[4]"
   ]
  },
  {
   "cell_type": "code",
   "execution_count": 44,
   "id": "cf34dcf2",
   "metadata": {},
   "outputs": [
    {
     "data": {
      "text/plain": [
       "[1, 2, 3, 4, 'how', 'are', 'you', 1.0, 2.567]"
      ]
     },
     "execution_count": 44,
     "metadata": {},
     "output_type": "execute_result"
    }
   ],
   "source": [
    "original_list"
   ]
  },
  {
   "cell_type": "code",
   "execution_count": null,
   "id": "c39825e3",
   "metadata": {},
   "outputs": [],
   "source": [
    "To remove elements from your list"
   ]
  },
  {
   "cell_type": "code",
   "execution_count": 45,
   "id": "b60ea27f",
   "metadata": {},
   "outputs": [],
   "source": [
    "del original_list[4:7]"
   ]
  },
  {
   "cell_type": "code",
   "execution_count": 46,
   "id": "e6941d9a",
   "metadata": {},
   "outputs": [
    {
     "data": {
      "text/plain": [
       "[1, 2, 3, 4, 1.0, 2.567]"
      ]
     },
     "execution_count": 46,
     "metadata": {},
     "output_type": "execute_result"
    }
   ],
   "source": [
    "original_list"
   ]
  },
  {
   "cell_type": "code",
   "execution_count": null,
   "id": "7df60be3",
   "metadata": {},
   "outputs": [],
   "source": [
    "To add an element to your list"
   ]
  },
  {
   "cell_type": "code",
   "execution_count": 48,
   "id": "ed3837c5",
   "metadata": {},
   "outputs": [
    {
     "data": {
      "text/plain": [
       "[1, 2, 3, 4, 1.0, 2.567, 1, 5]"
      ]
     },
     "execution_count": 48,
     "metadata": {},
     "output_type": "execute_result"
    }
   ],
   "source": [
    "original_list + [1, 5]"
   ]
  },
  {
   "cell_type": "code",
   "execution_count": null,
   "id": "c48d1324",
   "metadata": {},
   "outputs": [],
   "source": [
    "To modify or replace items in your list"
   ]
  },
  {
   "cell_type": "code",
   "execution_count": 52,
   "id": "b3e3054c",
   "metadata": {},
   "outputs": [
    {
     "data": {
      "text/plain": [
       "[1, 2, 3, 4, 'hello', 2.567]"
      ]
     },
     "execution_count": 52,
     "metadata": {},
     "output_type": "execute_result"
    }
   ],
   "source": [
    "original_list"
   ]
  },
  {
   "cell_type": "code",
   "execution_count": 53,
   "id": "91c8ac65",
   "metadata": {},
   "outputs": [
    {
     "data": {
      "text/plain": [
       "[1, 2, 3, 4, '1.0', 2.567]"
      ]
     },
     "execution_count": 53,
     "metadata": {},
     "output_type": "execute_result"
    }
   ],
   "source": [
    "original_list[4] = \"1.0\"\n",
    "original_list"
   ]
  },
  {
   "cell_type": "code",
   "execution_count": null,
   "id": "17794a5a",
   "metadata": {},
   "outputs": [],
   "source": [
    "Tuples - This is a ordered and immutable collection of datatypes.\n",
    "A list is denoted by parenthesis aka curved brackets \"()\".\n",
    "Each member is seperated by a comma. This is very important."
   ]
  },
  {
   "cell_type": "code",
   "execution_count": 54,
   "id": "4870019d",
   "metadata": {},
   "outputs": [
    {
     "data": {
      "text/plain": [
       "'hello'"
      ]
     },
     "execution_count": 54,
     "metadata": {},
     "output_type": "execute_result"
    }
   ],
   "source": [
    "The same rules that apply for list indexing and slicing also apply\n",
    "for tuples."
   ]
  },
  {
   "cell_type": "code",
   "execution_count": 55,
   "id": "ce000e52",
   "metadata": {},
   "outputs": [],
   "source": [
    "original_tuple = (1, 2, 3, 4, 'hello', 'how', 'are', 'you', 1.0, \n",
    "                 2.567)"
   ]
  },
  {
   "cell_type": "code",
   "execution_count": null,
   "id": "58d51749",
   "metadata": {},
   "outputs": [],
   "source": [
    "To remove element from your tuple"
   ]
  },
  {
   "cell_type": "code",
   "execution_count": 56,
   "id": "ad6d951d",
   "metadata": {},
   "outputs": [
    {
     "ename": "TypeError",
     "evalue": "'tuple' object doesn't support item deletion",
     "output_type": "error",
     "traceback": [
      "\u001b[0;31m---------------------------------------------------------------------------\u001b[0m",
      "\u001b[0;31mTypeError\u001b[0m                                 Traceback (most recent call last)",
      "Cell \u001b[0;32mIn[56], line 1\u001b[0m\n\u001b[0;32m----> 1\u001b[0m \u001b[38;5;28;01mdel\u001b[39;00m original_tuple[\u001b[38;5;241m4\u001b[39m]\n",
      "\u001b[0;31mTypeError\u001b[0m: 'tuple' object doesn't support item deletion"
     ]
    }
   ],
   "source": [
    "del original_tuple[4]"
   ]
  },
  {
   "cell_type": "code",
   "execution_count": null,
   "id": "97e4c544",
   "metadata": {},
   "outputs": [],
   "source": [
    "add element to tuple"
   ]
  },
  {
   "cell_type": "code",
   "execution_count": 57,
   "id": "8c6fe4d6",
   "metadata": {},
   "outputs": [
    {
     "ename": "TypeError",
     "evalue": "can only concatenate tuple (not \"int\") to tuple",
     "output_type": "error",
     "traceback": [
      "\u001b[0;31m---------------------------------------------------------------------------\u001b[0m",
      "\u001b[0;31mTypeError\u001b[0m                                 Traceback (most recent call last)",
      "Cell \u001b[0;32mIn[57], line 1\u001b[0m\n\u001b[0;32m----> 1\u001b[0m \u001b[43moriginal_tuple\u001b[49m\u001b[43m \u001b[49m\u001b[38;5;241;43m+\u001b[39;49m\u001b[43m \u001b[49m\u001b[43m(\u001b[49m\u001b[38;5;241;43m2\u001b[39;49m\u001b[43m)\u001b[49m\n",
      "\u001b[0;31mTypeError\u001b[0m: can only concatenate tuple (not \"int\") to tuple"
     ]
    }
   ],
   "source": [
    "original_tuple + (2)"
   ]
  },
  {
   "cell_type": "code",
   "execution_count": null,
   "id": "c25f4e4b",
   "metadata": {},
   "outputs": [],
   "source": [
    "modify the elements in our tuple"
   ]
  },
  {
   "cell_type": "code",
   "execution_count": 58,
   "id": "b6d2a91f",
   "metadata": {},
   "outputs": [
    {
     "ename": "TypeError",
     "evalue": "'tuple' object does not support item assignment",
     "output_type": "error",
     "traceback": [
      "\u001b[0;31m---------------------------------------------------------------------------\u001b[0m",
      "\u001b[0;31mTypeError\u001b[0m                                 Traceback (most recent call last)",
      "Cell \u001b[0;32mIn[58], line 1\u001b[0m\n\u001b[0;32m----> 1\u001b[0m original_tuple[\u001b[38;5;241m2\u001b[39m] \u001b[38;5;241m=\u001b[39m \u001b[38;5;124m'\u001b[39m\u001b[38;5;124mChanged\u001b[39m\u001b[38;5;124m'\u001b[39m\n",
      "\u001b[0;31mTypeError\u001b[0m: 'tuple' object does not support item assignment"
     ]
    }
   ],
   "source": [
    "original_tuple[2] = 'Changed'"
   ]
  },
  {
   "cell_type": "code",
   "execution_count": null,
   "id": "554d8027",
   "metadata": {},
   "outputs": [],
   "source": [
    "Sets - This is an unordered and mutable collection of datatypes.\n",
    "A set is denoted by curly braces aka curly brackets \"{}\".\n",
    "Each member is seperated by a comma. This is very important.\n",
    "The set datatype does not allow repetitions."
   ]
  },
  {
   "cell_type": "code",
   "execution_count": 63,
   "id": "bfe72f44",
   "metadata": {},
   "outputs": [
    {
     "data": {
      "text/plain": [
       "{1, 2, 3, 4}"
      ]
     },
     "execution_count": 63,
     "metadata": {},
     "output_type": "execute_result"
    }
   ],
   "source": [
    "{1, 1, 1, 2, 3, 2, 3, 2, 3, 4}"
   ]
  },
  {
   "cell_type": "code",
   "execution_count": 70,
   "id": "bbc7641f",
   "metadata": {},
   "outputs": [],
   "source": [
    "set1 = {1, 2, 3, 4}"
   ]
  },
  {
   "cell_type": "code",
   "execution_count": 71,
   "id": "c809bab1",
   "metadata": {},
   "outputs": [
    {
     "ename": "SyntaxError",
     "evalue": "invalid syntax (2813577193.py, line 1)",
     "output_type": "error",
     "traceback": [
      "\u001b[1;36m  Cell \u001b[1;32mIn[71], line 1\u001b[1;36m\u001b[0m\n\u001b[1;33m    To add element to your set\u001b[0m\n\u001b[1;37m       ^\u001b[0m\n\u001b[1;31mSyntaxError\u001b[0m\u001b[1;31m:\u001b[0m invalid syntax\n"
     ]
    }
   ],
   "source": [
    "To add element to your set"
   ]
  },
  {
   "cell_type": "code",
   "execution_count": 72,
   "id": "c5f9b9f6",
   "metadata": {},
   "outputs": [
    {
     "ename": "AttributeError",
     "evalue": "'set' object has no attribute 'append'",
     "output_type": "error",
     "traceback": [
      "\u001b[1;31m---------------------------------------------------------------------------\u001b[0m",
      "\u001b[1;31mAttributeError\u001b[0m                            Traceback (most recent call last)",
      "Cell \u001b[1;32mIn[72], line 1\u001b[0m\n\u001b[1;32m----> 1\u001b[0m \u001b[43mset1\u001b[49m\u001b[38;5;241;43m.\u001b[39;49m\u001b[43mappend\u001b[49m(\u001b[38;5;241m111\u001b[39m,\u001b[38;5;241m1234\u001b[39m)\n",
      "\u001b[1;31mAttributeError\u001b[0m: 'set' object has no attribute 'append'"
     ]
    }
   ],
   "source": [
    "set1.()"
   ]
  },
  {
   "cell_type": "code",
   "execution_count": 68,
   "id": "3ae06157",
   "metadata": {},
   "outputs": [
    {
     "data": {
      "text/plain": [
       "[1, 2, 3, 4, 12, 12, 123, [12, 123], [111, 1234]]"
      ]
     },
     "execution_count": 68,
     "metadata": {},
     "output_type": "execute_result"
    }
   ],
   "source": [
    "set1"
   ]
  },
  {
   "cell_type": "code",
   "execution_count": null,
   "id": "4e7cb3a5",
   "metadata": {},
   "outputs": [],
   "source": [
    "Assignment\n",
    "Read on string, list, tuple, set, dictionary methods\n",
    "also be able to explain 2 methods from each"
   ]
  },
  {
   "cell_type": "code",
   "execution_count": null,
   "id": "b1ba8f25-ea23-492f-89d0-fafb464e6c55",
   "metadata": {},
   "outputs": [],
   "source": []
  },
  {
   "cell_type": "code",
   "execution_count": 79,
   "id": "f9ac49b1",
   "metadata": {},
   "outputs": [
    {
     "data": {
      "text/plain": [
       "['capitalize',\n",
       " 'casefold',\n",
       " 'center',\n",
       " 'count',\n",
       " 'encode',\n",
       " 'endswith',\n",
       " 'expandtabs',\n",
       " 'find',\n",
       " 'format',\n",
       " 'format_map',\n",
       " 'index',\n",
       " 'isalnum',\n",
       " 'isalpha',\n",
       " 'isascii',\n",
       " 'isdecimal',\n",
       " 'isdigit',\n",
       " 'isidentifier',\n",
       " 'islower',\n",
       " 'isnumeric',\n",
       " 'isprintable',\n",
       " 'isspace',\n",
       " 'istitle',\n",
       " 'isupper',\n",
       " 'join',\n",
       " 'ljust',\n",
       " 'lower',\n",
       " 'lstrip',\n",
       " 'maketrans',\n",
       " 'partition',\n",
       " 'removeprefix',\n",
       " 'removesuffix',\n",
       " 'replace',\n",
       " 'rfind',\n",
       " 'rindex',\n",
       " 'rjust',\n",
       " 'rpartition',\n",
       " 'rsplit',\n",
       " 'rstrip',\n",
       " 'split',\n",
       " 'splitlines',\n",
       " 'startswith',\n",
       " 'strip',\n",
       " 'swapcase',\n",
       " 'title',\n",
       " 'translate',\n",
       " 'upper',\n",
       " 'zfill']"
      ]
     },
     "execution_count": 79,
     "metadata": {},
     "output_type": "execute_result"
    }
   ],
   "source": [
    "[i for i in dir(str) if not i.startswith(\"_\")]"
   ]
  },
  {
   "cell_type": "code",
   "execution_count": 80,
   "id": "0615832b",
   "metadata": {},
   "outputs": [
    {
     "data": {
      "text/plain": [
       "['append',\n",
       " 'clear',\n",
       " 'copy',\n",
       " 'count',\n",
       " 'extend',\n",
       " 'index',\n",
       " 'insert',\n",
       " 'pop',\n",
       " 'remove',\n",
       " 'reverse',\n",
       " 'sort']"
      ]
     },
     "execution_count": 80,
     "metadata": {},
     "output_type": "execute_result"
    }
   ],
   "source": [
    "[i for i in dir(list) if not i.startswith(\"_\")]"
   ]
  },
  {
   "cell_type": "code",
   "execution_count": 81,
   "id": "7a1a2bbc",
   "metadata": {},
   "outputs": [
    {
     "data": {
      "text/plain": [
       "['count', 'index']"
      ]
     },
     "execution_count": 81,
     "metadata": {},
     "output_type": "execute_result"
    }
   ],
   "source": [
    "[i for i in dir(tuple) if not i.startswith(\"_\")]"
   ]
  },
  {
   "cell_type": "code",
   "execution_count": 82,
   "id": "8b0f791c",
   "metadata": {},
   "outputs": [
    {
     "data": {
      "text/plain": [
       "['add',\n",
       " 'clear',\n",
       " 'copy',\n",
       " 'difference',\n",
       " 'difference_update',\n",
       " 'discard',\n",
       " 'intersection',\n",
       " 'intersection_update',\n",
       " 'isdisjoint',\n",
       " 'issubset',\n",
       " 'issuperset',\n",
       " 'pop',\n",
       " 'remove',\n",
       " 'symmetric_difference',\n",
       " 'symmetric_difference_update',\n",
       " 'union',\n",
       " 'update']"
      ]
     },
     "execution_count": 82,
     "metadata": {},
     "output_type": "execute_result"
    }
   ],
   "source": [
    "[i for i in dir(set) if not i.startswith(\"_\")]"
   ]
  },
  {
   "cell_type": "code",
   "execution_count": null,
   "id": "0e395b25",
   "metadata": {},
   "outputs": [],
   "source": [
    "set operations"
   ]
  },
  {
   "cell_type": "code",
   "execution_count": null,
   "id": "da9e64ce",
   "metadata": {},
   "outputs": [],
   "source": [
    "Union operation. It helps to combine two sets\n",
    "The operator is | (pipe)"
   ]
  },
  {
   "cell_type": "code",
   "execution_count": 67,
   "id": "a9ba225f",
   "metadata": {},
   "outputs": [
    {
     "data": {
      "text/plain": [
       "{1, 2, 3, 4, 5, 6, 7}"
      ]
     },
     "execution_count": 67,
     "metadata": {},
     "output_type": "execute_result"
    }
   ],
   "source": [
    "{1, 2, 3, 4} | {5, 6, 7}"
   ]
  },
  {
   "cell_type": "code",
   "execution_count": null,
   "id": "4cfe6354",
   "metadata": {},
   "outputs": [],
   "source": [
    "Intersection Operation - It creates a set containing only the common\n",
    "elements from both sets\n",
    "The operator is & (ampersand) "
   ]
  },
  {
   "cell_type": "code",
   "execution_count": 69,
   "id": "ae5b7f3d",
   "metadata": {},
   "outputs": [
    {
     "data": {
      "text/plain": [
       "{4, 5}"
      ]
     },
     "execution_count": 69,
     "metadata": {},
     "output_type": "execute_result"
    }
   ],
   "source": [
    "{1, 2, 3, 4, 5} & {5, 6, 7, 4}"
   ]
  },
  {
   "cell_type": "code",
   "execution_count": null,
   "id": "d3c2ff15",
   "metadata": {},
   "outputs": [],
   "source": [
    "Dictionaries- This is an semi-ordered and mutable collection of \n",
    "datatypes.\n",
    "A Dictionary is denoted by curly braces aka curly brackets \"{}\".\n",
    "Each member is seperated by a comma. This is very important.\n",
    "The Dictionary datatype does not allow repetitions."
   ]
  },
  {
   "cell_type": "code",
   "execution_count": null,
   "id": "ae66282d",
   "metadata": {},
   "outputs": [],
   "source": [
    "They have a special feature i.e. Key - value pairs"
   ]
  },
  {
   "cell_type": "code",
   "execution_count": null,
   "id": "db23512d",
   "metadata": {},
   "outputs": [],
   "source": [
    "key: value"
   ]
  },
  {
   "cell_type": "code",
   "execution_count": null,
   "id": "8b669f36",
   "metadata": {},
   "outputs": [],
   "source": [
    "The key can be a string or an integer\n",
    "the value can be any datatype even another dictionary"
   ]
  },
  {
   "cell_type": "code",
   "execution_count": 71,
   "id": "ea9403e8",
   "metadata": {},
   "outputs": [
    {
     "data": {
      "text/plain": [
       "{'name': 'Ade', 'age': 20, 'hobbies': ['eating', 'sleeping']}"
      ]
     },
     "execution_count": 71,
     "metadata": {},
     "output_type": "execute_result"
    }
   ],
   "source": [
    "dict_1 = {\"name\": 'Ade', 'age': 20, \n",
    "          'hobbies': [\"eating\", 'sleeping']}\n",
    "dict_1"
   ]
  },
  {
   "cell_type": "code",
   "execution_count": null,
   "id": "83d49115",
   "metadata": {},
   "outputs": [],
   "source": [
    "To get out a certain value, you have to pass the key of that value\n",
    "as the index"
   ]
  },
  {
   "cell_type": "code",
   "execution_count": 74,
   "id": "90768e9d",
   "metadata": {},
   "outputs": [
    {
     "data": {
      "text/plain": [
       "20"
      ]
     },
     "execution_count": 74,
     "metadata": {},
     "output_type": "execute_result"
    }
   ],
   "source": [
    "dict_1[\"age\"]"
   ]
  },
  {
   "cell_type": "code",
   "execution_count": 77,
   "id": "122dc58d",
   "metadata": {},
   "outputs": [
    {
     "data": {
      "text/plain": [
       "{'name': 'Ade',\n",
       " 'age': 22,\n",
       " 'hobbies': ['eating', 'sleeping'],\n",
       " 'country': 'nigeria'}"
      ]
     },
     "execution_count": 77,
     "metadata": {},
     "output_type": "execute_result"
    }
   ],
   "source": [
    "dict_1[\"age\"] = 22\n",
    "dict_1"
   ]
  },
  {
   "cell_type": "code",
   "execution_count": 78,
   "id": "0bf7f5f8",
   "metadata": {},
   "outputs": [
    {
     "data": {
      "text/plain": [
       "{'name': 'Ade', 'age': 22, 'hobbies': ['eating', 'sleeping']}"
      ]
     },
     "execution_count": 78,
     "metadata": {},
     "output_type": "execute_result"
    }
   ],
   "source": [
    "del dict_1['country']\n",
    "dict_1"
   ]
  },
  {
   "cell_type": "code",
   "execution_count": null,
   "id": "8719c563",
   "metadata": {},
   "outputs": [],
   "source": [
    "Exercises\n",
    "Given the nested_list = [[1,2,3], [4,5,6], [7,8,9]]\n",
    "assess and print the following\n",
    "1. The first element of the first sublist\n",
    "2. The last element of the last sublist\n",
    "3. The second element of the second sublist\n",
    "\n",
    "Given the nested list\n",
    "[[10, 11, 12], [13, 14, 15], [16, 17, 18], [19, 20, 21]]\n",
    "perform the following operations\n",
    "1. Slice and print the first two sublists\n",
    "2. Slice and print the last two elements of the second sublist\n",
    "3. Slice and print the middle element of each sublist"
   ]
  },
  {
   "cell_type": "code",
   "execution_count": null,
   "id": "b5ab3311",
   "metadata": {},
   "outputs": [],
   "source": [
    "What is the output of the expression True and False"
   ]
  },
  {
   "cell_type": "code",
   "execution_count": null,
   "id": "fa54662c",
   "metadata": {},
   "outputs": [],
   "source": [
    "what is the output of the expression not(True or False)"
   ]
  },
  {
   "cell_type": "code",
   "execution_count": null,
   "id": "423bce62",
   "metadata": {},
   "outputs": [],
   "source": [
    "what is the output of the output of True or (False and True)"
   ]
  },
  {
   "cell_type": "code",
   "execution_count": null,
   "id": "cc4a15a0",
   "metadata": {},
   "outputs": [],
   "source": [
    "State the conditions to get a True boolean value from the and, or \n",
    "and not operations\n",
    "Concatenate two tuples (1,2,3) and (3,4) and print the result"
   ]
  },
  {
   "cell_type": "code",
   "execution_count": null,
   "id": "fa9fd0ce",
   "metadata": {},
   "outputs": [],
   "source": [
    "Given sets A = {1,2,3} and B={3,4,5}. Find the union and \n",
    "intersection of A and B\n"
   ]
  }
 ],
 "metadata": {
  "kernelspec": {
   "display_name": "Python 3 (ipykernel)",
   "language": "python",
   "name": "python3"
  },
  "language_info": {
   "codemirror_mode": {
    "name": "ipython",
    "version": 3
   },
   "file_extension": ".py",
   "mimetype": "text/x-python",
   "name": "python",
   "nbconvert_exporter": "python",
   "pygments_lexer": "ipython3",
   "version": "3.9.19"
  }
 },
 "nbformat": 4,
 "nbformat_minor": 5
}
