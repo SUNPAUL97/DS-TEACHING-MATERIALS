{
 "cells": [
  {
   "cell_type": "code",
   "execution_count": 11,
   "id": "00363a82-6f81-430d-b08e-10eedbd1c180",
   "metadata": {},
   "outputs": [],
   "source": [
    "name = \"Jamiu\"\n",
    "school = \"UI\"\n",
    "age = 1234\n",
    "hobby = \"pressing phone\""
   ]
  },
  {
   "cell_type": "code",
   "execution_count": null,
   "id": "26433358-19d8-4a24-b803-60d03bd3f7a5",
   "metadata": {},
   "outputs": [],
   "source": [
    "olaojopaul64@gmail.com"
   ]
  },
  {
   "cell_type": "markdown",
   "id": "25b870eb-c41d-4f08-9971-0ca111de4683",
   "metadata": {},
   "source": [
    "# No 1"
   ]
  },
  {
   "cell_type": "code",
   "execution_count": 1,
   "id": "577c467e-9877-41af-aecc-74bcb3b330c5",
   "metadata": {},
   "outputs": [],
   "source": [
    "number = 12\n",
    "string = \"TRD\"\n",
    "Float = 23.45\n",
    "Boolean = True\n",
    "List = [1,2,3,4]"
   ]
  },
  {
   "cell_type": "markdown",
   "id": "c300f7a3-9ade-4957-a56c-d5b2a20a0a4a",
   "metadata": {},
   "source": [
    "# No.2"
   ]
  },
  {
   "cell_type": "code",
   "execution_count": 2,
   "id": "878e6114-0965-4485-85e5-21aa395b8ade",
   "metadata": {},
   "outputs": [
    {
     "data": {
      "text/plain": [
       "(45.45, 12, True)"
      ]
     },
     "execution_count": 2,
     "metadata": {},
     "output_type": "execute_result"
    }
   ],
   "source": [
    "# strings\n",
    "\"Hello\"\n",
    "\"Femi\"\n",
    "\"University\"\n",
    "\"Lord\"\n",
    "\"Happy\"\n",
    "\n",
    "# Integer\n",
    "\n",
    "23\n",
    "45\n",
    "1234675\n",
    "78\n",
    "90\n",
    "\n",
    "# Float\n",
    "34.6\n",
    "56.7\n",
    "90.1\n",
    "45.0009\n",
    "0.004\n",
    "\n",
    "# Tuple\n",
    "(\"manny\",24,True,20.09)\n",
    "(1,2,3,4,5)\n",
    "(\"name\",\"age\",\"call\")\n",
    "(\"45\",45)\n",
    "(45.45,12,True)"
   ]
  },
  {
   "cell_type": "markdown",
   "id": "bb235352-0e19-4b5f-a144-97450d89727b",
   "metadata": {},
   "source": [
    "# No 3"
   ]
  },
  {
   "cell_type": "code",
   "execution_count": 3,
   "id": "6ceeb1a0-79bc-4982-be6d-22225f006c4e",
   "metadata": {},
   "outputs": [],
   "source": [
    "string_list = [\"B.m.W\", \"Apple\", \"Femi\"]\n",
    "integer_list = [1,2,3,456,7865]\n",
    "mixed_list = [1, 1.1, \"ball\"]"
   ]
  },
  {
   "cell_type": "markdown",
   "id": "b11cd3f6-cfe1-49d7-9e0d-484066e52b61",
   "metadata": {},
   "source": [
    "# No.4"
   ]
  },
  {
   "cell_type": "code",
   "execution_count": 4,
   "id": "ba33699a-98ef-4787-af02-f95a7d5037df",
   "metadata": {},
   "outputs": [],
   "source": [
    "Nested_List = [[1,2,3], [\"apple\", \"banana\"], [1.2,3.5]]"
   ]
  },
  {
   "cell_type": "markdown",
   "id": "a3be4ccd-37ea-4d10-8cc3-83ec7fcec2ea",
   "metadata": {},
   "source": [
    "# No 5"
   ]
  },
  {
   "cell_type": "code",
   "execution_count": 6,
   "id": "bed50027-711f-4218-89a8-5519ebe68997",
   "metadata": {},
   "outputs": [
    {
     "name": "stdout",
     "output_type": "stream",
     "text": [
      "9 3 6 2.0 17 1225 1\n"
     ]
    }
   ],
   "source": [
    "x = 5 +4\n",
    "g = 5-2\n",
    "f = 3 * 2\n",
    "h= 4 / 2\n",
    "q= 35//2\n",
    "d = 35**2\n",
    "p = 23%2\n",
    "print(x,g,f,h,q,d,p)"
   ]
  },
  {
   "cell_type": "markdown",
   "id": "7be82f47-fa80-4f59-879e-9c9bd59bdb4a",
   "metadata": {},
   "source": [
    "# No 6"
   ]
  },
  {
   "cell_type": "code",
   "execution_count": 9,
   "id": "7189cdae-3448-4732-bd24-c7d13fccbaa7",
   "metadata": {},
   "outputs": [
    {
     "name": "stdout",
     "output_type": "stream",
     "text": [
      "Python lovers\n"
     ]
    }
   ],
   "source": [
    "# var1=(f'Python''lovers')\n",
    "# print(var1)\n",
    "var1 = \"Python\" +\" \" + \"lovers\"\n",
    "print(var1)"
   ]
  },
  {
   "cell_type": "code",
   "execution_count": 12,
   "id": "ef3d54f9-1704-42da-afad-8d30abc64b1c",
   "metadata": {},
   "outputs": [
    {
     "name": "stdout",
     "output_type": "stream",
     "text": [
      "My name is Jamiu,I'm a student of UI\n"
     ]
    }
   ],
   "source": [
    "\n",
    "print(f\"My name is {name},I'm a student of {school}\")"
   ]
  },
  {
   "cell_type": "markdown",
   "id": "7ecb2512-586c-4079-9e78-547824019509",
   "metadata": {},
   "source": [
    "DRY\n",
    "D: donot\n",
    "R: repeat\n",
    "Y: yourself"
   ]
  },
  {
   "cell_type": "markdown",
   "id": "99972af9-9c39-4d43-b740-1955682715f4",
   "metadata": {},
   "source": [
    "# NO7"
   ]
  },
  {
   "cell_type": "markdown",
   "id": "c7f1cb21-fefd-4ff1-b521-c7d8e3f6496b",
   "metadata": {},
   "source": [
    "1.variables must not begin with a number\n",
    "2. variables must not be enclosed in quotation marks\n",
    "3. variables must not begin with a character\n",
    "4. variables must not have white space in them"
   ]
  },
  {
   "cell_type": "markdown",
   "id": "ff6aae81-73a2-48eb-85dc-b355d9a97478",
   "metadata": {},
   "source": [
    "# NO 8"
   ]
  },
  {
   "cell_type": "code",
   "execution_count": 14,
   "id": "aa04eeb9-86c9-4326-90a7-7ccfb1a7734f",
   "metadata": {},
   "outputs": [
    {
     "name": "stdout",
     "output_type": "stream",
     "text": [
      "<class 'int'>\n",
      "<class 'str'>\n",
      "<class 'bool'>\n",
      "<class 'float'>\n",
      "<class 'set'>\n",
      "<class 'list'>\n",
      "<class 'tuple'>\n"
     ]
    }
   ],
   "source": [
    "a=23\n",
    "b=\"hello\"\n",
    "c=True\n",
    "d=57.8\n",
    "e={2,6,7,8}\n",
    "f=[34,6,5,8,0,12]\n",
    "g=(1,2,3,4)\n",
    "\n",
    "print(type(a))\n",
    "print(type(b))\n",
    "print(type(c))\n",
    "print(type(d))\n",
    "print(type(e))\n",
    "print(type(f))\n",
    "print(type(g))"
   ]
  },
  {
   "cell_type": "code",
   "execution_count": 15,
   "id": "520204b8-1f16-4be8-99fc-c562bf0c35aa",
   "metadata": {},
   "outputs": [
    {
     "name": "stdout",
     "output_type": "stream",
     "text": [
      "23\n"
     ]
    }
   ],
   "source": [
    "print(a)"
   ]
  },
  {
   "cell_type": "code",
   "execution_count": 16,
   "id": "5ba5d2c5-8b41-4eba-9ecb-b5cb9249c76e",
   "metadata": {},
   "outputs": [
    {
     "name": "stdout",
     "output_type": "stream",
     "text": [
      "\"Roses are red,\n",
      "Violets are blue,\n",
      "Phython is great,\n",
      "So how are you.\"\n"
     ]
    }
   ],
   "source": [
    "print('\"Roses are red,\\nViolets are blue,\\nPhython is great,\\nSo how are you.\"')"
   ]
  },
  {
   "cell_type": "code",
   "execution_count": 19,
   "id": "ed0dd2d9-a9c7-4917-b6dd-e4c33493696b",
   "metadata": {},
   "outputs": [
    {
     "name": "stdin",
     "output_type": "stream",
     "text": [
      "Enter your username:  Femi Jamiu\n",
      "Enter your password:  2006\n"
     ]
    },
    {
     "name": "stdout",
     "output_type": "stream",
     "text": [
      "You are not eligible\n"
     ]
    }
   ],
   "source": [
    "username = input(\"Enter your username: \")\n",
    "password = input(\"Enter your password: \")\n",
    "if (username == \"McMaggie\" and   password == \"2024\"):\n",
    "    print(\"You've logged in\")\n",
    "else:\n",
    "    print( \"You are not eligible\")\n"
   ]
  },
  {
   "cell_type": "code",
   "execution_count": 28,
   "id": "24013df6-9888-4fed-9ac2-3c76eb3e67d3",
   "metadata": {},
   "outputs": [],
   "source": [
    "my_list=[1,2,3,4,'hello','where','do','you','go',[67,'places',[34,65.5,9,'Nigeria'],'University'],'Righeousnesss']\n",
    "# print = a[5]\n",
    "# print = b[8]\n",
    "# print = c[3]\n",
    "# print = d[9,1]\n",
    "# print = e[9,2,2]\n",
    "# print = f[9,2,3]\n",
    "# print = g[9,3,3]"
   ]
  },
  {
   "cell_type": "code",
   "execution_count": 35,
   "id": "586ab458-bb5d-44d1-9266-197ced7cfb1e",
   "metadata": {},
   "outputs": [
    {
     "name": "stdout",
     "output_type": "stream",
     "text": [
      "where\n",
      "go\n",
      "4\n",
      "places\n",
      "9\n",
      "Nigeria\n",
      "Righeousnesss\n"
     ]
    }
   ],
   "source": [
    "print(my_list[5])\n",
    "print(my_list[8])\n",
    "print(my_list[3])\n",
    "print(my_list[9][1])\n",
    "print(my_list[9][2][2])\n",
    "print(my_list[9][2][3])\n",
    "print(my_list[10])"
   ]
  },
  {
   "cell_type": "code",
   "execution_count": 53,
   "id": "9010e486-53ad-4d58-b747-02bf9b936b3d",
   "metadata": {},
   "outputs": [
    {
     "name": "stdout",
     "output_type": "stream",
     "text": [
      "4\n"
     ]
    }
   ],
   "source": [
    "num = [1,2,3,4,5,6,7]\n",
    "num.append(8)\n",
    "#num.clear()\n",
    "\n",
    "#num.copy()\n",
    "#print(num.count(1))\n",
    "#num.extend([\"a\",\"b\"])\n",
    "num1=num.index(5)\n",
    "print(num1)"
   ]
  },
  {
   "cell_type": "code",
   "execution_count": 55,
   "id": "104756c9-bff3-4df2-9ae8-1d616cc5886a",
   "metadata": {},
   "outputs": [],
   "source": [
    "my_list2 = [[10, 11, 12], [13, 14, 15], [16, 17, 18], [19, 20, 21]]"
   ]
  },
  {
   "cell_type": "code",
   "execution_count": 64,
   "id": "b18e481c-4b36-4aa8-ab84-b20ecf49b652",
   "metadata": {},
   "outputs": [
    {
     "data": {
      "text/plain": [
       "[[16, 17, 18], [19, 20, 21]]"
      ]
     },
     "execution_count": 64,
     "metadata": {},
     "output_type": "execute_result"
    }
   ],
   "source": [
    "my_list2[-2:]"
   ]
  },
  {
   "cell_type": "code",
   "execution_count": 66,
   "id": "af17b20c-a80e-4715-bcfb-b7b6efb904e2",
   "metadata": {},
   "outputs": [
    {
     "data": {
      "text/plain": [
       "(11, 14, 17, 20)"
      ]
     },
     "execution_count": 66,
     "metadata": {},
     "output_type": "execute_result"
    }
   ],
   "source": [
    "my_list2[0][1], my_list2[1][1],my_list2[2][1],my_list2[3][1]"
   ]
  },
  {
   "cell_type": "markdown",
   "id": "7cce63b0-d03d-40c7-b934-94961737f0b1",
   "metadata": {},
   "source": [
    "# CONTROL FLOW"
   ]
  },
  {
   "cell_type": "code",
   "execution_count": 74,
   "id": "c3d3a556-e5c6-41be-b4d3-a6e0e040860b",
   "metadata": {},
   "outputs": [
    {
     "name": "stdin",
     "output_type": "stream",
     "text": [
      "Enter your age:  12\n"
     ]
    },
    {
     "name": "stdout",
     "output_type": "stream",
     "text": [
      "C'mon you are underage!\n"
     ]
    }
   ],
   "source": [
    "age = int(input(\"Enter your age: \"))\n",
    "if age >= 18:\n",
    "    print(\"You are eligible to drive\")\n",
    "else:\n",
    "    print(\"C'mon you are underage!\")"
   ]
  },
  {
   "cell_type": "code",
   "execution_count": 76,
   "id": "7be6d960-d673-42b2-9ef6-93c62985c488",
   "metadata": {},
   "outputs": [
    {
     "name": "stdout",
     "output_type": "stream",
     "text": [
      "A\n",
      "B\n",
      "C\n",
      "D\n",
      "E\n",
      "F\n",
      "G\n",
      "H\n",
      "I\n",
      "J\n",
      "K\n",
      "L\n",
      "M\n",
      "N\n",
      "O\n",
      "P\n",
      "Q\n",
      "R\n",
      "S\n",
      "T\n",
      "U\n",
      "V\n",
      "W\n",
      "X\n",
      "Y\n",
      "Z\n"
     ]
    }
   ],
   "source": [
    "for item in \"ABCDEFGHIJKLMNOPQRSTUVWXYZ\":\n",
    "    print( item)"
   ]
  },
  {
   "cell_type": "code",
   "execution_count": 82,
   "id": "2d9a3821-b110-4886-a1a9-1c4e2f0cb9eb",
   "metadata": {},
   "outputs": [
    {
     "name": "stdin",
     "output_type": "stream",
     "text": [
      "Enter your age my friend:  20\n"
     ]
    },
    {
     "name": "stdout",
     "output_type": "stream",
     "text": [
      "Teenager\n"
     ]
    }
   ],
   "source": [
    "Age = int(input(\"Enter your age my friend: \"))\n",
    "if Age < 13:\n",
    "    print(\"Child;omode ni e\")\n",
    "elif (Age >= 13 )and (Age <= 19):\n",
    "    print(\"Teenager\")\n",
    "else:\n",
    "    print(\"Adult\")"
   ]
  },
  {
   "cell_type": "code",
   "execution_count": 84,
   "id": "f95604f4-f598-4b38-94b7-ae22b69d1cad",
   "metadata": {},
   "outputs": [
    {
     "data": {
      "text/plain": [
       "0"
      ]
     },
     "execution_count": 84,
     "metadata": {},
     "output_type": "execute_result"
    }
   ],
   "source": [
    "93%3"
   ]
  },
  {
   "cell_type": "code",
   "execution_count": 90,
   "id": "cd750ea0-fc42-45a7-8742-f5d708e78bc3",
   "metadata": {},
   "outputs": [
    {
     "name": "stdin",
     "output_type": "stream",
     "text": [
      "Enter any number:  20\n"
     ]
    },
    {
     "name": "stdout",
     "output_type": "stream",
     "text": [
      "Divisible by 5\n"
     ]
    }
   ],
   "source": [
    "num = int(input(\"Enter any number: \"))\n",
    "if num%3 == 0 and num%5 == 0:\n",
    "    print(\"Divisible by both\")\n",
    "elif num % 3 == 0:\n",
    "    print(\"Divisible by 3\")\n",
    "elif num % 5 == 0:\n",
    "    print(\"Divisible by 5\")\n",
    "else:\n",
    "    print(\"Not divisible by 3 or 5\")"
   ]
  },
  {
   "cell_type": "code",
   "execution_count": 107,
   "id": "7de1a7e8-2642-49ce-96e0-1a3de44c09bc",
   "metadata": {},
   "outputs": [
    {
     "name": "stdin",
     "output_type": "stream",
     "text": [
      "Enter Your Grade: 57\n"
     ]
    },
    {
     "name": "stdout",
     "output_type": "stream",
     "text": [
      "sorry ooh you got an F, try again next term\n"
     ]
    }
   ],
   "source": [
    "grade = int(input(\"Enter Your Grade:\"))\n",
    "\n",
    "if grade >= 90:\n",
    "    print(\"A\")\n",
    "elif grade >= 80 and grade < 90:\n",
    "    print('B')\n",
    "elif grade >= 70 and grade <= 80:\n",
    "    print('C')\n",
    "elif grade >= 60 and grade <= 70:\n",
    "    print('D')\n",
    "else:\n",
    "    print(\"sorry ooh you got an F, try again next term\")"
   ]
  },
  {
   "cell_type": "code",
   "execution_count": 108,
   "id": "ff2890c9-bc2b-45ab-9b06-dab018fabe63",
   "metadata": {},
   "outputs": [],
   "source": [
    "def subtraction(num1,num2):\n",
    "    return num1 - num2"
   ]
  },
  {
   "cell_type": "code",
   "execution_count": 110,
   "id": "9e9533b9-4803-41cf-9bbd-6c8e732ef21a",
   "metadata": {},
   "outputs": [
    {
     "data": {
      "text/plain": [
       "-1"
      ]
     },
     "execution_count": 110,
     "metadata": {},
     "output_type": "execute_result"
    }
   ],
   "source": [
    "subtraction(3,4)"
   ]
  },
  {
   "cell_type": "code",
   "execution_count": 112,
   "id": "dc8d03ca-500e-4f06-bf11-485414fdc022",
   "metadata": {},
   "outputs": [],
   "source": [
    "def multiplication(num1,num2):\n",
    "    return num1 * num2"
   ]
  },
  {
   "cell_type": "code",
   "execution_count": 113,
   "id": "35808e19-e3a4-451f-a9be-8754a1c38908",
   "metadata": {},
   "outputs": [
    {
     "data": {
      "text/plain": [
       "2"
      ]
     },
     "execution_count": 113,
     "metadata": {},
     "output_type": "execute_result"
    }
   ],
   "source": [
    "multiplication(1,2)"
   ]
  },
  {
   "cell_type": "code",
   "execution_count": 115,
   "id": "a2a52e87-c3d8-485c-b300-9efbe2b3bcb4",
   "metadata": {},
   "outputs": [],
   "source": [
    "def division(num1,num2):\n",
    "    return num1 / num2"
   ]
  },
  {
   "cell_type": "code",
   "execution_count": 116,
   "id": "dde3e772-e4cf-405f-a9f9-bce328a83ff0",
   "metadata": {},
   "outputs": [
    {
     "data": {
      "text/plain": [
       "2.0"
      ]
     },
     "execution_count": 116,
     "metadata": {},
     "output_type": "execute_result"
    }
   ],
   "source": [
    "division(4,2)"
   ]
  },
  {
   "cell_type": "code",
   "execution_count": null,
   "id": "f192d1eb-4bfa-4584-9179-3be8067b8999",
   "metadata": {},
   "outputs": [],
   "source": []
  }
 ],
 "metadata": {
  "kernelspec": {
   "display_name": "Python 3 (ipykernel)",
   "language": "python",
   "name": "python3"
  },
  "language_info": {
   "codemirror_mode": {
    "name": "ipython",
    "version": 3
   },
   "file_extension": ".py",
   "mimetype": "text/x-python",
   "name": "python",
   "nbconvert_exporter": "python",
   "pygments_lexer": "ipython3",
   "version": "3.9.19"
  }
 },
 "nbformat": 4,
 "nbformat_minor": 5
}
