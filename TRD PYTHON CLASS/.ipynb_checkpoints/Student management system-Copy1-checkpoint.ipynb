{
 "cells": [
  {
   "cell_type": "code",
   "execution_count": null,
   "id": "5012a259-90a4-4ce4-a553-2206abe15a0d",
   "metadata": {},
   "outputs": [
    {
     "name": "stdout",
     "output_type": "stream",
     "text": [
      "\n",
      "Student Management System\n",
      "1. Add Student\n",
      "2. Display Students\n",
      "3. Search Student\n",
      "4. Remove Student\n",
      "5. Exit\n"
     ]
    },
    {
     "name": "stdin",
     "output_type": "stream",
     "text": [
      "Enter your choice:  1\n",
      "Enter student name:  paul\n",
      "Enter student age:  23\n",
      "Enter student grade:  3.5\n",
      "Enter student subjects (comma-separated):  Maths,phy\n"
     ]
    },
    {
     "name": "stdout",
     "output_type": "stream",
     "text": [
      "Student paul added successfully!\n",
      "\n",
      "Student Management System\n",
      "1. Add Student\n",
      "2. Display Students\n",
      "3. Search Student\n",
      "4. Remove Student\n",
      "5. Exit\n"
     ]
    },
    {
     "name": "stdin",
     "output_type": "stream",
     "text": [
      "Enter your choice:  2\n"
     ]
    },
    {
     "name": "stdout",
     "output_type": "stream",
     "text": [
      "Name: paul, Age: 23, Grade: 3.5, Subjects: Maths, phy\n",
      "\n",
      "Student Management System\n",
      "1. Add Student\n",
      "2. Display Students\n",
      "3. Search Student\n",
      "4. Remove Student\n",
      "5. Exit\n"
     ]
    }
   ],
   "source": [
    "# Student Management System\n",
    "\n",
    "# Define the data structure\n",
    "students = {}\n",
    "\n",
    "# Function to add a new student\n",
    "def add_student():\n",
    "    name = input(\"Enter student name: \")\n",
    "    age = int(input(\"Enter student age: \"))\n",
    "    grade = float(input(\"Enter student grade: \"))\n",
    "    subjects = input(\"Enter student subjects (comma-separated): \").split(',')\n",
    "\n",
    "    students[name] = {\n",
    "        'age': age,\n",
    "        'grade': grade,\n",
    "        'subjects': subjects\n",
    "    }\n",
    "    print(f\"Student {name} added successfully!\")\n",
    "\n",
    "# Function to display all students\n",
    "def display_students():\n",
    "    if not students:\n",
    "        print(\"No students in the system.\")\n",
    "        return\n",
    "    for name, details in students.items():\n",
    "        print(f\"Name: {name}, Age: {details['age']}, Grade: {details['grade']}, Subjects: {', '.join(details['subjects'])}\")\n",
    "\n",
    "# Function to search for a student by name\n",
    "def search_student(name):\n",
    "    if name in students:\n",
    "        details = students[name]\n",
    "        print(f\"Name: {name}, Age: {details['age']}, Grade: {details['grade']}, Subjects: {', '.join(details['subjects'])}\")\n",
    "    else:\n",
    "        print(f\"Student {name} not found.\")\n",
    "\n",
    "# Function to remove a student by name\n",
    "def remove_student(name):\n",
    "    if name in students:\n",
    "        del students[name]\n",
    "        print(f\"Student {name} removed successfully!\")\n",
    "    else:\n",
    "        print(f\"Student {name} not found.\")\n",
    "\n",
    "# Main program loop\n",
    "while True:\n",
    "    print(\"\\nStudent Management System\")\n",
    "    print(\"1. Add Student\")\n",
    "    print(\"2. Display Students\")\n",
    "    print(\"3. Search Student\")\n",
    "    print(\"4. Remove Student\")\n",
    "    print(\"5. Exit\")\n",
    "    choice = input(\"Enter your choice: \")\n",
    "\n",
    "    if choice == '1':\n",
    "        add_student()\n",
    "    elif choice == '2':\n",
    "        display_students()\n",
    "    elif choice == '3':\n",
    "        name = input(\"Enter student name to search: \")\n",
    "        search_student(name)\n",
    "    elif choice == '4':\n",
    "        name = input(\"Enter student name to remove: \")\n",
    "        remove_student(name)\n",
    "    elif choice == '5':\n",
    "        print(\"Exiting the system.\")\n",
    "        break\n",
    "    else:\n",
    "        print(\"Invalid choice. Please try again.\")\n"
   ]
  },
  {
   "cell_type": "code",
   "execution_count": null,
   "id": "7488064b",
   "metadata": {},
   "outputs": [],
   "source": []
  }
 ],
 "metadata": {
  "kernelspec": {
   "display_name": "Python 3 (ipykernel)",
   "language": "python",
   "name": "python3"
  },
  "language_info": {
   "codemirror_mode": {
    "name": "ipython",
    "version": 3
   },
   "file_extension": ".py",
   "mimetype": "text/x-python",
   "name": "python",
   "nbconvert_exporter": "python",
   "pygments_lexer": "ipython3",
   "version": "3.9.13"
  }
 },
 "nbformat": 4,
 "nbformat_minor": 5
}
