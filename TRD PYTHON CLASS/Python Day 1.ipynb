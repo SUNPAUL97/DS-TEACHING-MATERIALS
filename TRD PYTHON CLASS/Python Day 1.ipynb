{
 "cells": [
  {
   "cell_type": "code",
   "execution_count": null,
   "id": "be900075",
   "metadata": {},
   "outputs": [],
   "source": [
    "Python is a programming language.\n",
    "It can be used for game development, software development, \n",
    "website development, machine learning, data science etc."
   ]
  },
  {
   "cell_type": "code",
   "execution_count": null,
   "id": "6e3ccc7c",
   "metadata": {},
   "outputs": [],
   "source": [
    "Python has 3 main datatypes\n",
    "1. String\n",
    "2. Integer\n",
    "3. Float/ Floating point number"
   ]
  },
  {
   "cell_type": "code",
   "execution_count": null,
   "id": "c57c056c",
   "metadata": {},
   "outputs": [],
   "source": [
    "Other Datatype\n",
    "Lists\n",
    "Booleans\n",
    "Dictionaries\n",
    "Sets"
   ]
  },
  {
   "cell_type": "code",
   "execution_count": null,
   "id": "cee75f4a",
   "metadata": {},
   "outputs": [],
   "source": [
    "String - it is a combination of characters enclosed in single or\n",
    "double quotation marks"
   ]
  },
  {
   "cell_type": "code",
   "execution_count": null,
   "id": "879491d5",
   "metadata": {},
   "outputs": [],
   "source": [
    "'abc'\n",
    "\" abc.  \"\n",
    "\"?Wnuu839***#\""
   ]
  },
  {
   "cell_type": "code",
   "execution_count": null,
   "id": "48bfef2a",
   "metadata": {},
   "outputs": [],
   "source": [
    "There are two types of strings\n",
    "1. singleline strings - strings that are enclosed in '' or \"\"\n",
    "2. Multiline strings - strings that are enclosed in ''' ''' or \n",
    "\"\"\" \"\"\""
   ]
  },
  {
   "cell_type": "code",
   "execution_count": null,
   "id": "0f14e1df",
   "metadata": {},
   "outputs": [],
   "source": [
    "'' - single quotation marks\n",
    "\"\" - double quotation marks"
   ]
  },
  {
   "cell_type": "code",
   "execution_count": 1,
   "id": "1d07ffe1",
   "metadata": {},
   "outputs": [
    {
     "data": {
      "text/plain": [
       "'Hello there\\nHow are you?\\nWelcome to TRD'"
      ]
     },
     "execution_count": 1,
     "metadata": {},
     "output_type": "execute_result"
    }
   ],
   "source": [
    "\"\"\"Hello there\n",
    "How are you?\n",
    "Welcome to TRD\"\"\""
   ]
  },
  {
   "cell_type": "code",
   "execution_count": null,
   "id": "f2f71b6a",
   "metadata": {},
   "outputs": [],
   "source": [
    "\n",
    "'123'\n",
    "'a b c'"
   ]
  },
  {
   "cell_type": "code",
   "execution_count": null,
   "id": "8285f448",
   "metadata": {},
   "outputs": [],
   "source": [
    "Escape characters - These are special characters in a string that\n",
    "cause a unique type of behaviour"
   ]
  },
  {
   "cell_type": "code",
   "execution_count": null,
   "id": "4f2aca5a",
   "metadata": {},
   "outputs": [],
   "source": [
    "\\ - escape character\n",
    "\\n - jumps to a new line when printing your string\n",
    "\\t - creates space when printing your string\n",
    "\\\\ - disable the escape character"
   ]
  },
  {
   "cell_type": "code",
   "execution_count": 4,
   "id": "5618b144",
   "metadata": {},
   "outputs": [
    {
     "data": {
      "text/plain": [
       "\"Hello there\\nMy name is ayo.\\tToday's  date is 11\\\\9\\\\2024\""
      ]
     },
     "execution_count": 4,
     "metadata": {},
     "output_type": "execute_result"
    }
   ],
   "source": [
    "\"Hello there\\nMy name is ayo.\\tToday\\'s  date is 11\\\\9\\\\2024\""
   ]
  },
  {
   "cell_type": "code",
   "execution_count": 3,
   "id": "84c5cad7-b43c-4349-8d79-a2a5aae0aa9a",
   "metadata": {},
   "outputs": [
    {
     "name": "stdout",
     "output_type": "stream",
     "text": [
      "Hello there\n",
      "My name is ayo.\tToday's  date is 11\\9\\2024\n"
     ]
    }
   ],
   "source": [
    "print(\"Hello there\\nMy name is ayo.\\tToday\\'s  date is 11\\\\9\\\\2024\")"
   ]
  },
  {
   "cell_type": "code",
   "execution_count": null,
   "id": "b751f27c",
   "metadata": {},
   "outputs": [],
   "source": [
    "\"\" - empty string"
   ]
  },
  {
   "cell_type": "code",
   "execution_count": null,
   "id": "a6a0a3d4",
   "metadata": {},
   "outputs": [],
   "source": [
    "printing\n",
    "This is the use of the print function to put a value on your screen"
   ]
  },
  {
   "cell_type": "code",
   "execution_count": null,
   "id": "2ef92485",
   "metadata": {},
   "outputs": [],
   "source": [
    "Integers - They are whole numbers"
   ]
  },
  {
   "cell_type": "code",
   "execution_count": null,
   "id": "fb2b5662",
   "metadata": {},
   "outputs": [],
   "source": [
    "1, 2, 3, 10900, etc. "
   ]
  },
  {
   "cell_type": "code",
   "execution_count": 5,
   "id": "f904187b-1a21-4f04-9b69-0b4948910b0d",
   "metadata": {},
   "outputs": [
    {
     "data": {
      "text/plain": [
       "int"
      ]
     },
     "execution_count": 5,
     "metadata": {},
     "output_type": "execute_result"
    }
   ],
   "source": [
    "a = 345\n",
    "type(a)"
   ]
  },
  {
   "cell_type": "code",
   "execution_count": null,
   "id": "1a3afe3a",
   "metadata": {},
   "outputs": [],
   "source": [
    "Floats"
   ]
  },
  {
   "cell_type": "code",
   "execution_count": null,
   "id": "d3449168",
   "metadata": {},
   "outputs": [],
   "source": [
    "1.8647, 1.235, 200.7"
   ]
  },
  {
   "cell_type": "code",
   "execution_count": null,
   "id": "2a031d6e",
   "metadata": {},
   "outputs": [],
   "source": [
    "1.0"
   ]
  },
  {
   "cell_type": "code",
   "execution_count": null,
   "id": "a3f8c540",
   "metadata": {},
   "outputs": [],
   "source": [
    "Operators - They are used to carry out numerical operations\n",
    "BODMAS\n",
    "+ - addition\n",
    "- - subtraction\n",
    "* - multiplication\n",
    "/ - division\n",
    "// - integer division\n",
    "% - modulus or in remainder after integer division\n",
    "** - exponentiation or in simpler words raised to the power of\n",
    "() - parenthesis or in simpler terms brackets"
   ]
  },
  {
   "cell_type": "code",
   "execution_count": 2,
   "id": "9d158dfd",
   "metadata": {},
   "outputs": [
    {
     "data": {
      "text/plain": [
       "2.5"
      ]
     },
     "execution_count": 2,
     "metadata": {},
     "output_type": "execute_result"
    }
   ],
   "source": [
    "5 / 2"
   ]
  },
  {
   "cell_type": "code",
   "execution_count": 3,
   "id": "b1f0691a",
   "metadata": {},
   "outputs": [
    {
     "data": {
      "text/plain": [
       "2"
      ]
     },
     "execution_count": 3,
     "metadata": {},
     "output_type": "execute_result"
    }
   ],
   "source": [
    "5 // 2"
   ]
  },
  {
   "cell_type": "code",
   "execution_count": 4,
   "id": "3422f824",
   "metadata": {},
   "outputs": [
    {
     "data": {
      "text/plain": [
       "1"
      ]
     },
     "execution_count": 4,
     "metadata": {},
     "output_type": "execute_result"
    }
   ],
   "source": [
    "5 % 2"
   ]
  },
  {
   "cell_type": "code",
   "execution_count": 5,
   "id": "f2189463",
   "metadata": {},
   "outputs": [
    {
     "data": {
      "text/plain": [
       "25"
      ]
     },
     "execution_count": 5,
     "metadata": {},
     "output_type": "execute_result"
    }
   ],
   "source": [
    "5 ** 2"
   ]
  },
  {
   "cell_type": "code",
   "execution_count": null,
   "id": "8850e8a3",
   "metadata": {},
   "outputs": [],
   "source": [
    "The operators mentioned will work freely on the integer and the \n",
    "float datatype."
   ]
  },
  {
   "cell_type": "code",
   "execution_count": null,
   "id": "4d19b9e8",
   "metadata": {},
   "outputs": [],
   "source": [
    "Certain operators work on strings, these are the + and the * \n",
    "operators"
   ]
  },
  {
   "cell_type": "code",
   "execution_count": null,
   "id": "1685486c",
   "metadata": {},
   "outputs": [],
   "source": [
    "String Operation\n",
    "+ operation - concatenation\n",
    "This is the addition of two or more strings together.\n",
    "Note: This operation only works when two or more strings are \n",
    "involved i.e it won't work for integers or floats"
   ]
  },
  {
   "cell_type": "code",
   "execution_count": 8,
   "id": "90d8ba26",
   "metadata": {},
   "outputs": [
    {
     "data": {
      "text/plain": [
       "'hello there'"
      ]
     },
     "execution_count": 8,
     "metadata": {},
     "output_type": "execute_result"
    }
   ],
   "source": [
    "\"hello \" + \"there\""
   ]
  },
  {
   "cell_type": "code",
   "execution_count": 11,
   "id": "67d8fb36",
   "metadata": {},
   "outputs": [
    {
     "data": {
      "text/plain": [
       "'Hello, my age is 17'"
      ]
     },
     "execution_count": 11,
     "metadata": {},
     "output_type": "execute_result"
    }
   ],
   "source": [
    "'Hello, my age is ' + '17'"
   ]
  },
  {
   "cell_type": "code",
   "execution_count": null,
   "id": "2885299a",
   "metadata": {},
   "outputs": [],
   "source": [
    "* - Replication Operation\n",
    "This helps to replicate the required string a given number of times\n",
    "Note: This operations only works when a string and an integer are\n",
    "involved. Also the order is important"
   ]
  },
  {
   "cell_type": "code",
   "execution_count": 9,
   "id": "27615e47",
   "metadata": {},
   "outputs": [
    {
     "name": "stdout",
     "output_type": "stream",
     "text": [
      "hellohellohellohello\n"
     ]
    }
   ],
   "source": [
    "print(\"hello\" * 4)"
   ]
  },
  {
   "cell_type": "code",
   "execution_count": 11,
   "id": "1d82044e-38c0-4fed-b21d-3c017c4307ae",
   "metadata": {},
   "outputs": [
    {
     "name": "stdout",
     "output_type": "stream",
     "text": [
      "bawo ni  bawo ni  bawo ni  bawo ni  \n"
     ]
    }
   ],
   "source": [
    "print(\"bawo ni  \" * 4)"
   ]
  },
  {
   "cell_type": "code",
   "execution_count": null,
   "id": "63ef11ae",
   "metadata": {},
   "outputs": [],
   "source": [
    "type function:\n",
    "It gives us the datatype of the value passed into it"
   ]
  },
  {
   "cell_type": "code",
   "execution_count": 7,
   "id": "ebbe764c",
   "metadata": {},
   "outputs": [
    {
     "data": {
      "text/plain": [
       "int"
      ]
     },
     "execution_count": 7,
     "metadata": {},
     "output_type": "execute_result"
    }
   ],
   "source": [
    "type(1)"
   ]
  },
  {
   "cell_type": "code",
   "execution_count": null,
   "id": "9a3ae863",
   "metadata": {},
   "outputs": [],
   "source": [
    "variables\n",
    "Simplest Definition\n",
    "These are containers that we keep our values inside."
   ]
  },
  {
   "cell_type": "code",
   "execution_count": null,
   "id": "bb1855f2",
   "metadata": {},
   "outputs": [],
   "source": [
    "There are a few rules that we must follow when naming variables\n",
    "1. variables must not begin with a number\n",
    "2. variable must not begin with an character that is not an alpabet\n",
    "or the '_' character\n",
    "3. variables must not have whitespace in them, rather this spaces \n",
    "must be replaced with the '_' character\n",
    "4. variables must not be enclosed in any type of quotation marks\n",
    "5. variables can only be made up of alphanumeric characters and \n",
    "the underscore \"_\" character"
   ]
  },
  {
   "cell_type": "code",
   "execution_count": null,
   "id": "53b2b72a",
   "metadata": {},
   "outputs": [],
   "source": [
    "the assignment statement\n",
    "This is a statement used to assign value(s) to a variable\n",
    "\n",
    "it follows the format\n",
    "variablename   assignment-operator    value\n",
    "assignment operator ="
   ]
  },
  {
   "cell_type": "code",
   "execution_count": 12,
   "id": "71d64bdd",
   "metadata": {},
   "outputs": [],
   "source": [
    "name    =        'Ayo'\n",
    "age     =         17"
   ]
  },
  {
   "cell_type": "code",
   "execution_count": 13,
   "id": "006e39a0-6aa5-4af0-b894-32d1e6c34557",
   "metadata": {},
   "outputs": [
    {
     "data": {
      "text/plain": [
       "'Ayo'"
      ]
     },
     "execution_count": 13,
     "metadata": {},
     "output_type": "execute_result"
    }
   ],
   "source": [
    "name"
   ]
  },
  {
   "cell_type": "code",
   "execution_count": 14,
   "id": "58005f9f-fae1-480e-9cde-204485731bb8",
   "metadata": {},
   "outputs": [
    {
     "data": {
      "text/plain": [
       "17"
      ]
     },
     "execution_count": 14,
     "metadata": {},
     "output_type": "execute_result"
    }
   ],
   "source": [
    "age"
   ]
  },
  {
   "cell_type": "code",
   "execution_count": null,
   "id": "9364dafc",
   "metadata": {},
   "outputs": [],
   "source": [
    "Topic covered\n",
    "3 main datatypes\n",
    "types of strings\n",
    "escape characters\n",
    "print function\n",
    "operators\n",
    "string operations\n",
    "type function\n",
    "variables"
   ]
  },
  {
   "cell_type": "code",
   "execution_count": 21,
   "id": "48704ba5",
   "metadata": {},
   "outputs": [],
   "source": [
    "name = 'Ayo'\n",
    "age = '20'\n",
    "hobby = 'Writing Code'"
   ]
  },
  {
   "cell_type": "code",
   "execution_count": 28,
   "id": "c3bead9e",
   "metadata": {},
   "outputs": [
    {
     "name": "stdout",
     "output_type": "stream",
     "text": [
      "Hello my name is Ayo my age is 20 and my hobby is Writing Code\n"
     ]
    }
   ],
   "source": [
    "print(\"Hello my name is \" + name + ' my age is ' + age + ' and my hobby is ' + hobby)"
   ]
  },
  {
   "cell_type": "code",
   "execution_count": null,
   "id": "01b1119c",
   "metadata": {},
   "outputs": [],
   "source": [
    "# 3. Numerical operators\n",
    "# define variables for two numbers.\n",
    "# Perform addition, subtraction, division, multiplication operation on\n",
    "# your variables\n",
    "# print the results"
   ]
  },
  {
   "cell_type": "code",
   "execution_count": 15,
   "id": "b02b0b40",
   "metadata": {},
   "outputs": [
    {
     "name": "stdout",
     "output_type": "stream",
     "text": [
      "8\n",
      "2\n",
      "1.6666666666666667\n",
      "15\n"
     ]
    }
   ],
   "source": [
    "var1 = 5\n",
    "var2 = 3\n",
    "print(var1+var2)\n",
    "print(var1-var2)\n",
    "print(var1/var2)\n",
    "print(var1*var2)"
   ]
  },
  {
   "cell_type": "code",
   "execution_count": 16,
   "id": "1a77ad11",
   "metadata": {},
   "outputs": [
    {
     "data": {
      "text/plain": [
       "int"
      ]
     },
     "execution_count": 16,
     "metadata": {},
     "output_type": "execute_result"
    }
   ],
   "source": [
    "type(var1)"
   ]
  },
  {
   "cell_type": "code",
   "execution_count": null,
   "id": "9f8df4d9",
   "metadata": {},
   "outputs": [],
   "source": []
  },
  {
   "cell_type": "code",
   "execution_count": null,
   "id": "9ec49a68",
   "metadata": {},
   "outputs": [],
   "source": []
  },
  {
   "cell_type": "code",
   "execution_count": null,
   "id": "a044fc32",
   "metadata": {},
   "outputs": [],
   "source": []
  },
  {
   "cell_type": "code",
   "execution_count": null,
   "id": "b34fb83e",
   "metadata": {},
   "outputs": [],
   "source": [
    "Exercise\n",
    "1. Variables and the Print function\n",
    "defines variables that contain your name, age and hobby\n",
    "\n",
    "\n",
    "3. Numerical operators\n",
    "define variables for two numbers.\n",
    "Perform addition, subtraction, division, multiplication operation on\n",
    "your variables\n",
    "print the results\n",
    "\n",
    "4. String concatentation and Replication\n",
    "define variables for two strings\n",
    "concatenate the strings\n",
    "replicate one of the strings 5 times\n",
    "print the results\n",
    "\n",
    "5. Type Checking\n",
    "Define variables of different types (i.e int, float, str)\n",
    "use the type function to print out the datatype of each variable\n",
    "\n",
    "6. Escape character and Formatting\n",
    "Usibng escape characters, format the string below nicely\n",
    "\"Roses are red,{newline}Violets are blue,{newline}Python is great,{newline}\n",
    "and so how are you\""
   ]
  },
  {
   "cell_type": "code",
   "execution_count": null,
   "id": "f20203b2",
   "metadata": {},
   "outputs": [],
   "source": [
    "4. String concatentation and Replication\n",
    "define variables for two strings\n",
    "concatenate the strings\n",
    "replicate one of the strings 5 times\n",
    "print the results"
   ]
  },
  {
   "cell_type": "code",
   "execution_count": 1,
   "id": "4700ed41",
   "metadata": {},
   "outputs": [
    {
     "name": "stdout",
     "output_type": "stream",
     "text": [
      "hello There\n",
      "hellohellohellohellohello\n"
     ]
    }
   ],
   "source": [
    "a = 'hello'\n",
    "b = ' There'\n",
    "print(a + b)\n",
    "print(a * 5)"
   ]
  },
  {
   "cell_type": "code",
   "execution_count": null,
   "id": "fc7fc9df",
   "metadata": {},
   "outputs": [],
   "source": [
    "5. Type Checking\n",
    "Define variables of different types (i.e int, float, str)\n",
    "use the type function to print out the datatype of each"
   ]
  },
  {
   "cell_type": "code",
   "execution_count": 2,
   "id": "15e59664",
   "metadata": {},
   "outputs": [
    {
     "name": "stdout",
     "output_type": "stream",
     "text": [
      "<class 'int'>\n",
      "<class 'float'>\n",
      "<class 'str'>\n"
     ]
    }
   ],
   "source": [
    "a = 10\n",
    "b = 11.5\n",
    "c = 'hello'\n",
    "print(type(a))\n",
    "print(type(b))\n",
    "print(type(c))"
   ]
  },
  {
   "cell_type": "markdown",
   "id": "32694cff-d7d9-46c3-9f8e-1f2258ddb175",
   "metadata": {},
   "source": [
    "# Escape Character"
   ]
  },
  {
   "cell_type": "code",
   "execution_count": null,
   "id": "c3d568a7",
   "metadata": {},
   "outputs": [],
   "source": [
    "6. Escape character and Formatting\n",
    "Usibng escape characters, format the string below nicely\n",
    "\"Roses are red,{newline}Violets are blue,{newline}Python is great,{newline}\n",
    "and so how are you\""
   ]
  },
  {
   "cell_type": "code",
   "execution_count": 3,
   "id": "98e30006",
   "metadata": {},
   "outputs": [
    {
     "name": "stdout",
     "output_type": "stream",
     "text": [
      "Roses are red,\n",
      "Violets are blue,\n",
      "Python is great,\n",
      "and so How are you\n"
     ]
    }
   ],
   "source": [
    "print('Roses are red,\\nViolets are blue,\\nPython is great,\\nand so How are you')"
   ]
  },
  {
   "cell_type": "code",
   "execution_count": 10,
   "id": "d1f9ded3-154a-4176-af8c-d0e45e3e4271",
   "metadata": {},
   "outputs": [
    {
     "name": "stdout",
     "output_type": "stream",
     "text": [
      "Roses are red,\n",
      "\tViolets are blue,\n",
      "\tPython is great,\n",
      "\tand so How are you\n"
     ]
    }
   ],
   "source": [
    "print('''Roses are red,\n",
    "\\tViolets are blue,\n",
    "\\tPython is great,\n",
    "\\tand so How are you''')"
   ]
  },
  {
   "cell_type": "code",
   "execution_count": 13,
   "id": "d01c8576-e2db-41ab-a932-246759096a02",
   "metadata": {},
   "outputs": [
    {
     "name": "stdout",
     "output_type": "stream",
     "text": [
      "I'm a boy\n"
     ]
    }
   ],
   "source": [
    "print(\"I'm a boy\")"
   ]
  },
  {
   "cell_type": "code",
   "execution_count": 14,
   "id": "58b7431e-6194-42aa-bd41-a592a1ae1546",
   "metadata": {},
   "outputs": [
    {
     "name": "stdout",
     "output_type": "stream",
     "text": [
      "I'm a boy\n"
     ]
    }
   ],
   "source": [
    "print('I\\'m a boy')"
   ]
  },
  {
   "cell_type": "code",
   "execution_count": 16,
   "id": "327f1a74-cced-4cc6-820a-74279fa686cc",
   "metadata": {},
   "outputs": [
    {
     "name": "stdout",
     "output_type": "stream",
     "text": [
      "This is a symbol of backslash \\\n"
     ]
    }
   ],
   "source": [
    "print(\"This is a symbol of backslash \\\\\")"
   ]
  },
  {
   "cell_type": "code",
   "execution_count": 20,
   "id": "19cc35e6-42aa-41e2-b5ef-2ad49633bb58",
   "metadata": {},
   "outputs": [
    {
     "name": "stdout",
     "output_type": "stream",
     "text": [
      "World!\n"
     ]
    }
   ],
   "source": [
    "txt = \"Hello\\rWorld!\"\n",
    "print(txt)"
   ]
  },
  {
   "cell_type": "code",
   "execution_count": 21,
   "id": "73c48d25-847d-4c88-849a-5866b168b955",
   "metadata": {},
   "outputs": [
    {
     "name": "stdout",
     "output_type": "stream",
     "text": [
      "Hello\n"
     ]
    }
   ],
   "source": [
    "print(\"\\110\\145\\154\\154\\157\")"
   ]
  },
  {
   "cell_type": "code",
   "execution_count": 29,
   "id": "a4b0cde5-4074-4a75-ae53-45f7a1622448",
   "metadata": {},
   "outputs": [
    {
     "name": "stdout",
     "output_type": "stream",
     "text": [
      "H\n"
     ]
    }
   ],
   "source": [
    "print(\"\\110\")"
   ]
  },
  {
   "cell_type": "code",
   "execution_count": 7,
   "id": "cfe1e54b-05ec-4c9d-8b87-47e291dbbd24",
   "metadata": {},
   "outputs": [
    {
     "name": "stdout",
     "output_type": "stream",
     "text": [
      "a\n"
     ]
    }
   ],
   "source": [
    "print(\"\\141\")"
   ]
  },
  {
   "cell_type": "code",
   "execution_count": null,
   "id": "17639716-5cf6-42be-be20-8b44525065bb",
   "metadata": {},
   "outputs": [],
   "source": []
  }
 ],
 "metadata": {
  "kernelspec": {
   "display_name": "Python 3 (ipykernel)",
   "language": "python",
   "name": "python3"
  },
  "language_info": {
   "codemirror_mode": {
    "name": "ipython",
    "version": 3
   },
   "file_extension": ".py",
   "mimetype": "text/x-python",
   "name": "python",
   "nbconvert_exporter": "python",
   "pygments_lexer": "ipython3",
   "version": "3.9.19"
  }
 },
 "nbformat": 4,
 "nbformat_minor": 5
}
