{
 "cells": [
  {
   "cell_type": "code",
   "execution_count": null,
   "id": "4d04b355",
   "metadata": {},
   "outputs": [],
   "source": [
    "''"
   ]
  },
  {
   "cell_type": "code",
   "execution_count": 1,
   "id": "672f36dd",
   "metadata": {},
   "outputs": [
    {
     "name": "stdout",
     "output_type": "stream",
     "text": [
      "Hello World\n"
     ]
    }
   ],
   "source": [
    "print(\"Hello World\")"
   ]
  },
  {
   "cell_type": "markdown",
   "id": "1546ceba-c78d-4367-a2ca-f7f8363cbfff",
   "metadata": {},
   "source": [
    "# DATA TYPE"
   ]
  },
  {
   "cell_type": "code",
   "execution_count": 2,
   "id": "910cab22",
   "metadata": {},
   "outputs": [],
   "source": [
    "# Text Type: strings (str)\n",
    "# Numeric Type: integers(int), float, complex\n",
    "# Sequences Types : list, tuple, range\n",
    "# Mapping Type : dictionary(dict)\n",
    "# Set : set, frozenset\n",
    "# Boolean: True, False\n"
   ]
  },
  {
   "cell_type": "markdown",
   "id": "c90e6521-ec09-4247-9a11-9450d005c703",
   "metadata": {},
   "source": [
    "## Text Type"
   ]
  },
  {
   "cell_type": "code",
   "execution_count": 3,
   "id": "1ad8c055-4104-4d67-8e1e-e2742b72bc81",
   "metadata": {},
   "outputs": [
    {
     "name": "stdout",
     "output_type": "stream",
     "text": [
      "Hello World!\n"
     ]
    }
   ],
   "source": [
    "#single quote = ''\n",
    "# Double quote = \"\"\n",
    "print('Hello World!')"
   ]
  },
  {
   "cell_type": "code",
   "execution_count": 4,
   "id": "b8783dc3-883a-4bf4-a4c7-fd016bb5e554",
   "metadata": {},
   "outputs": [
    {
     "name": "stdout",
     "output_type": "stream",
     "text": [
      "Hello World!\n"
     ]
    }
   ],
   "source": [
    "print(\"Hello World!\")"
   ]
  },
  {
   "cell_type": "code",
   "execution_count": 5,
   "id": "d6c3b793-cbc1-4cfc-ae13-039d97758fbe",
   "metadata": {},
   "outputs": [
    {
     "data": {
      "text/plain": [
       "45"
      ]
     },
     "execution_count": 5,
     "metadata": {},
     "output_type": "execute_result"
    }
   ],
   "source": [
    "# integers\n",
    "12\n",
    "13\n",
    "45"
   ]
  },
  {
   "cell_type": "code",
   "execution_count": 6,
   "id": "d7187ea4-332b-4ad4-9fdc-7921089bce69",
   "metadata": {},
   "outputs": [
    {
     "data": {
      "text/plain": [
       "3.5"
      ]
     },
     "execution_count": 6,
     "metadata": {},
     "output_type": "execute_result"
    }
   ],
   "source": [
    "# float\n",
    "3.5"
   ]
  },
  {
   "cell_type": "code",
   "execution_count": 7,
   "id": "58787a19-f2ac-4685-aece-8199988237d9",
   "metadata": {},
   "outputs": [
    {
     "data": {
      "text/plain": [
       "(3+9j)"
      ]
     },
     "execution_count": 7,
     "metadata": {},
     "output_type": "execute_result"
    }
   ],
   "source": [
    "# complex \n",
    "3 + 9j"
   ]
  },
  {
   "cell_type": "code",
   "execution_count": 9,
   "id": "cec872ee-3f0d-4fd5-a045-98f33e672b4c",
   "metadata": {},
   "outputs": [
    {
     "data": {
      "text/plain": [
       "1"
      ]
     },
     "execution_count": 9,
     "metadata": {},
     "output_type": "execute_result"
    }
   ],
   "source": [
    "# Sequences \n",
    "# list = []\n",
    "my_list = [1, 2,\"paul\",4.5,True]\n",
    "# index\n",
    "my_list[0]"
   ]
  },
  {
   "cell_type": "code",
   "execution_count": 12,
   "id": "8f50eeac-9e9d-4828-8893-c8fcbae19c42",
   "metadata": {},
   "outputs": [
    {
     "data": {
      "text/plain": [
       "4.5"
      ]
     },
     "execution_count": 12,
     "metadata": {},
     "output_type": "execute_result"
    }
   ],
   "source": [
    "my_list[-2]"
   ]
  },
  {
   "cell_type": "code",
   "execution_count": 13,
   "id": "96e8ded2-c099-4357-a394-60ecb1fc3a00",
   "metadata": {},
   "outputs": [],
   "source": [
    "my_list2 = ['a', 'b', 'c', 'd', \n",
    " ['e', 'f', ['g', ['h', 'k']]]\n",
    "]"
   ]
  },
  {
   "cell_type": "code",
   "execution_count": null,
   "id": "fcf2216a-ec68-407c-89f1-4435005d3ec8",
   "metadata": {},
   "outputs": [],
   "source": [
    "my_list[]"
   ]
  }
 ],
 "metadata": {
  "kernelspec": {
   "display_name": "Python 3 (ipykernel)",
   "language": "python",
   "name": "python3"
  },
  "language_info": {
   "codemirror_mode": {
    "name": "ipython",
    "version": 3
   },
   "file_extension": ".py",
   "mimetype": "text/x-python",
   "name": "python",
   "nbconvert_exporter": "python",
   "pygments_lexer": "ipython3",
   "version": "3.9.19"
  }
 },
 "nbformat": 4,
 "nbformat_minor": 5
}
