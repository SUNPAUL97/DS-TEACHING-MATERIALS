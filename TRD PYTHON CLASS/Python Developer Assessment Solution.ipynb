{
 "cells": [
  {
   "cell_type": "code",
   "execution_count": 54,
   "id": "a9383073-e849-4bca-8f96-89536adeb086",
   "metadata": {},
   "outputs": [
    {
     "name": "stdout",
     "output_type": "stream",
     "text": [
      "\n",
      " STORE MANAGEMENT SYSTEM.\n",
      "1. Add a new phone.\n",
      "2. Display all phones.\n",
      "3. Search for a phone.\n",
      "4. Remove a phone.\n",
      "5. Exit.\n",
      "Enter your choice: 6\n",
      "Invalid choice. Try again later!\n",
      "\n",
      " STORE MANAGEMENT SYSTEM.\n",
      "1. Add a new phone.\n",
      "2. Display all phones.\n",
      "3. Search for a phone.\n",
      "4. Remove a phone.\n",
      "5. Exit.\n"
     ]
    },
    {
     "ename": "KeyboardInterrupt",
     "evalue": "Interrupted by user",
     "output_type": "error",
     "traceback": [
      "\u001b[1;31m---------------------------------------------------------------------------\u001b[0m",
      "\u001b[1;31mKeyboardInterrupt\u001b[0m                         Traceback (most recent call last)",
      "\u001b[1;32m~\\AppData\\Local\\Temp\\ipykernel_10944\\930306762.py\u001b[0m in \u001b[0;36m<module>\u001b[1;34m\u001b[0m\n\u001b[0;32m     39\u001b[0m     \u001b[0mprint\u001b[0m\u001b[1;33m(\u001b[0m\u001b[1;34m'4. Remove a phone.'\u001b[0m\u001b[1;33m)\u001b[0m\u001b[1;33m\u001b[0m\u001b[1;33m\u001b[0m\u001b[0m\n\u001b[0;32m     40\u001b[0m     \u001b[0mprint\u001b[0m\u001b[1;33m(\u001b[0m\u001b[1;34m'5. Exit.'\u001b[0m\u001b[1;33m)\u001b[0m\u001b[1;33m\u001b[0m\u001b[1;33m\u001b[0m\u001b[0m\n\u001b[1;32m---> 41\u001b[1;33m     \u001b[0mchoice\u001b[0m \u001b[1;33m=\u001b[0m \u001b[0minput\u001b[0m\u001b[1;33m(\u001b[0m\u001b[1;34m'Enter your choice: '\u001b[0m\u001b[1;33m)\u001b[0m\u001b[1;33m\u001b[0m\u001b[1;33m\u001b[0m\u001b[0m\n\u001b[0m\u001b[0;32m     42\u001b[0m \u001b[1;33m\u001b[0m\u001b[0m\n\u001b[0;32m     43\u001b[0m     \u001b[1;32mif\u001b[0m \u001b[0mchoice\u001b[0m \u001b[1;33m==\u001b[0m \u001b[1;34m\"1\"\u001b[0m\u001b[1;33m:\u001b[0m\u001b[1;33m\u001b[0m\u001b[1;33m\u001b[0m\u001b[0m\n",
      "\u001b[1;32m~\\anaconda3\\lib\\site-packages\\ipykernel\\kernelbase.py\u001b[0m in \u001b[0;36mraw_input\u001b[1;34m(self, prompt)\u001b[0m\n\u001b[0;32m   1175\u001b[0m                 \u001b[1;34m\"raw_input was called, but this frontend does not support input requests.\"\u001b[0m\u001b[1;33m\u001b[0m\u001b[1;33m\u001b[0m\u001b[0m\n\u001b[0;32m   1176\u001b[0m             )\n\u001b[1;32m-> 1177\u001b[1;33m         return self._input_request(\n\u001b[0m\u001b[0;32m   1178\u001b[0m             \u001b[0mstr\u001b[0m\u001b[1;33m(\u001b[0m\u001b[0mprompt\u001b[0m\u001b[1;33m)\u001b[0m\u001b[1;33m,\u001b[0m\u001b[1;33m\u001b[0m\u001b[1;33m\u001b[0m\u001b[0m\n\u001b[0;32m   1179\u001b[0m             \u001b[0mself\u001b[0m\u001b[1;33m.\u001b[0m\u001b[0m_parent_ident\u001b[0m\u001b[1;33m[\u001b[0m\u001b[1;34m\"shell\"\u001b[0m\u001b[1;33m]\u001b[0m\u001b[1;33m,\u001b[0m\u001b[1;33m\u001b[0m\u001b[1;33m\u001b[0m\u001b[0m\n",
      "\u001b[1;32m~\\anaconda3\\lib\\site-packages\\ipykernel\\kernelbase.py\u001b[0m in \u001b[0;36m_input_request\u001b[1;34m(self, prompt, ident, parent, password)\u001b[0m\n\u001b[0;32m   1217\u001b[0m             \u001b[1;32mexcept\u001b[0m \u001b[0mKeyboardInterrupt\u001b[0m\u001b[1;33m:\u001b[0m\u001b[1;33m\u001b[0m\u001b[1;33m\u001b[0m\u001b[0m\n\u001b[0;32m   1218\u001b[0m                 \u001b[1;31m# re-raise KeyboardInterrupt, to truncate traceback\u001b[0m\u001b[1;33m\u001b[0m\u001b[1;33m\u001b[0m\u001b[0m\n\u001b[1;32m-> 1219\u001b[1;33m                 \u001b[1;32mraise\u001b[0m \u001b[0mKeyboardInterrupt\u001b[0m\u001b[1;33m(\u001b[0m\u001b[1;34m\"Interrupted by user\"\u001b[0m\u001b[1;33m)\u001b[0m \u001b[1;32mfrom\u001b[0m \u001b[1;32mNone\u001b[0m\u001b[1;33m\u001b[0m\u001b[1;33m\u001b[0m\u001b[0m\n\u001b[0m\u001b[0;32m   1220\u001b[0m             \u001b[1;32mexcept\u001b[0m \u001b[0mException\u001b[0m\u001b[1;33m:\u001b[0m\u001b[1;33m\u001b[0m\u001b[1;33m\u001b[0m\u001b[0m\n\u001b[0;32m   1221\u001b[0m                 \u001b[0mself\u001b[0m\u001b[1;33m.\u001b[0m\u001b[0mlog\u001b[0m\u001b[1;33m.\u001b[0m\u001b[0mwarning\u001b[0m\u001b[1;33m(\u001b[0m\u001b[1;34m\"Invalid Message:\"\u001b[0m\u001b[1;33m,\u001b[0m \u001b[0mexc_info\u001b[0m\u001b[1;33m=\u001b[0m\u001b[1;32mTrue\u001b[0m\u001b[1;33m)\u001b[0m\u001b[1;33m\u001b[0m\u001b[1;33m\u001b[0m\u001b[0m\n",
      "\u001b[1;31mKeyboardInterrupt\u001b[0m: Interrupted by user"
     ]
    }
   ],
   "source": [
    "# Create an empty dictionary to store data\n",
    "store = {}\n",
    "def add_phone():\n",
    "    name = input(\"Enter name of phone: \")\n",
    "    storage=int(input(\"Storage in GB: \"))\n",
    "    ram=int(input(\"Enter RAM size in GB: \"))\n",
    "    price=float(input(\"Enter amount in $: \"))\n",
    "    \n",
    "    store[name]={\"name\":name, \"storage\":storage, \"ram\":ram, \"price\":price \n",
    "    }\n",
    "    print(f\"{name} added successfuly\")\n",
    "# To display the phone added to store\n",
    "def display_phone():\n",
    "    if not store:\n",
    "        print(\"No phone in system\")\n",
    "        return\n",
    "    for name,details in store.items():\n",
    "        print(f\"name:{name},storage:{details['storage']},ram:{details['ram']},price:{details['price']}\")\n",
    "        \n",
    "def search_phone(name):\n",
    "    if name in store:\n",
    "        details = store[name]\n",
    "        print(f\"name:{name},storage:{details['storage']},ram:{details['ram']},price:{details['price']}\")\n",
    "    else:\n",
    "        print(f\"store {name} not found.\")\n",
    "        \n",
    "def remove_phone(name):\n",
    "    if name in store:\n",
    "        del store[name]\n",
    "        print(f\"phone {name} removed successfully!\")\n",
    "    else:\n",
    "        print(f\"phone {name} not found.\")\n",
    "        \n",
    "while True:\n",
    "    print('\\n STORE MANAGEMENT SYSTEM.')\n",
    "    print('1. Add a new phone.')\n",
    "    print('2. Display all phones.')\n",
    "    print('3. Search for a phone.')\n",
    "    print('4. Remove a phone.')\n",
    "    print('5. Exit.')\n",
    "    choice = input('Enter your choice: ')\n",
    "    \n",
    "    if choice == \"1\":\n",
    "        add_phone()\n",
    "    elif choice == \"2\":\n",
    "        display_phone()\n",
    "    elif choice == \"3\":\n",
    "        name = input(\"Enter product name to search: \")\n",
    "        search_phone(name)\n",
    "    elif choice == \"4\":\n",
    "        name = input(\"Enter product name to remove: \")\n",
    "        remove_phone(name)\n",
    "    elif choice == \"5\":\n",
    "        print('Exiting the system......')\n",
    "        break\n",
    "    else:\n",
    "        print('Invalid choice. Try again later!')\n",
    "        "
   ]
  },
  {
   "cell_type": "code",
   "execution_count": 55,
   "id": "e96f101f",
   "metadata": {},
   "outputs": [
    {
     "name": "stdout",
     "output_type": "stream",
     "text": [
      "Messi Is Better Than Ronaldo\n"
     ]
    }
   ],
   "source": [
    "#TITLE\n",
    "METHOD_1 = \"messi is better than ronaldo\"\n",
    "METHOD_1 = METHOD_1.title()\n",
    "print(METHOD_1)"
   ]
  },
  {
   "cell_type": "code",
   "execution_count": 57,
   "id": "49896627",
   "metadata": {},
   "outputs": [
    {
     "name": "stdout",
     "output_type": "stream",
     "text": [
      "MAY GOD HELP US IN NIGERIA\n"
     ]
    }
   ],
   "source": [
    "#SWAPCASE\n",
    "METHOD_2 = \"may god help us in nigeria\"\n",
    "METHOD_2 = METHOD_2.swapcase()\n",
    "print(METHOD_2)"
   ]
  },
  {
   "cell_type": "code",
   "execution_count": 58,
   "id": "7cb34069",
   "metadata": {},
   "outputs": [
    {
     "name": "stdout",
     "output_type": "stream",
     "text": [
      "Ronaldo is better than messi\n"
     ]
    }
   ],
   "source": [
    "#CAPITALIZE\n",
    "METHOD_3 = \"ronaldo is better than messi\"\n",
    "METHOD_3 = METHOD_3.capitalize()\n",
    "print(METHOD_3)"
   ]
  },
  {
   "cell_type": "code",
   "execution_count": 59,
   "id": "06647645",
   "metadata": {},
   "outputs": [
    {
     "name": "stdout",
     "output_type": "stream",
     "text": [
      "asake is better than rema\n"
     ]
    }
   ],
   "source": [
    "#LOWER\n",
    "METHOD_4 = \"asake is better than rema\"\n",
    "METHOD_4 = METHOD_4.lower()\n",
    "print(METHOD_4)"
   ]
  },
  {
   "cell_type": "code",
   "execution_count": 60,
   "id": "0022a31d",
   "metadata": {},
   "outputs": [
    {
     "name": "stdout",
     "output_type": "stream",
     "text": [
      "NCC DIGITAL PARK\n"
     ]
    }
   ],
   "source": [
    "# upper\n",
    "METHOD_5 = \"ncc digital park\"\n",
    "METHOD_5 = METHOD_5.upper()\n",
    "print(METHOD_5)\n"
   ]
  },
  {
   "cell_type": "code",
   "execution_count": 63,
   "id": "a355ab0f",
   "metadata": {},
   "outputs": [
    {
     "name": "stdout",
     "output_type": "stream",
     "text": [
      "messi is the best\n"
     ]
    }
   ],
   "source": [
    "METHOD_6 = \"Ronaldo is the best\"\n",
    "METHOD_6 = METHOD_6.replace(\"Ronaldo\", \"messi\")\n",
    "print(METHOD_6)"
   ]
  },
  {
   "cell_type": "code",
   "execution_count": 69,
   "id": "0dce4dad",
   "metadata": {},
   "outputs": [
    {
     "name": "stdout",
     "output_type": "stream",
     "text": [
      "Enter your price:$20000\n",
      "Congrats you can buy the phone\n"
     ]
    }
   ],
   "source": [
    "#number 3\n",
    "phone_price = 200\n",
    "phone_price = int(input(\"Enter your price:$\"))\n",
    "if phone_price >= 20000:\n",
    "    print(\"Congrats you can buy the phone\")\n",
    "else:\n",
    "    print(\"sorry,the phone price is higher than your budget\")"
   ]
  },
  {
   "cell_type": "code",
   "execution_count": 71,
   "id": "93756505",
   "metadata": {},
   "outputs": [
    {
     "name": "stdout",
     "output_type": "stream",
     "text": [
      "Enter school fee:10000\n",
      "Student can enroll\n"
     ]
    }
   ],
   "source": [
    "budget = 10000\n",
    "fee = int(input('Enter school fee:'))\n",
    "if fee <= budget:\n",
    "    print('Student can enroll')\n",
    "else:\n",
    "    print(\"student can't enroll\")"
   ]
  },
  {
   "cell_type": "code",
   "execution_count": 73,
   "id": "e0279a58",
   "metadata": {},
   "outputs": [
    {
     "name": "stdout",
     "output_type": "stream",
     "text": [
      "student can't enroll\n"
     ]
    }
   ],
   "source": [
    "print('student can\\'t enroll')"
   ]
  },
  {
   "cell_type": "code",
   "execution_count": null,
   "id": "f218b369",
   "metadata": {},
   "outputs": [],
   "source": []
  }
 ],
 "metadata": {
  "kernelspec": {
   "display_name": "Python 3 (ipykernel)",
   "language": "python",
   "name": "python3"
  },
  "language_info": {
   "codemirror_mode": {
    "name": "ipython",
    "version": 3
   },
   "file_extension": ".py",
   "mimetype": "text/x-python",
   "name": "python",
   "nbconvert_exporter": "python",
   "pygments_lexer": "ipython3",
   "version": "3.9.19"
  }
 },
 "nbformat": 4,
 "nbformat_minor": 5
}
