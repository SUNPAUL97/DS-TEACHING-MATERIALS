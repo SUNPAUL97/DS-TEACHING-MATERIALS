{
 "cells": [
  {
   "cell_type": "code",
   "execution_count": null,
   "id": "6ad1a2ff-0cd0-43ea-8b8a-b56643be3579",
   "metadata": {},
   "outputs": [],
   "source": []
  },
  {
   "cell_type": "code",
   "execution_count": 12,
   "id": "e53e1c4d-1c1c-45c0-a2db-08a195e2bec7",
   "metadata": {},
   "outputs": [],
   "source": [
    "import math as  m"
   ]
  },
  {
   "cell_type": "code",
   "execution_count": 19,
   "id": "4e771df5-7fe6-4fd3-ab2b-0e7877d9a39a",
   "metadata": {},
   "outputs": [
    {
     "data": {
      "text/plain": [
       "8.0"
      ]
     },
     "execution_count": 19,
     "metadata": {},
     "output_type": "execute_result"
    }
   ],
   "source": [
    "m.sqrt(64)"
   ]
  },
  {
   "cell_type": "code",
   "execution_count": 14,
   "id": "7759fb11-aa2d-41c9-8613-6da20f36ab5a",
   "metadata": {},
   "outputs": [],
   "source": [
    "import mod"
   ]
  },
  {
   "cell_type": "code",
   "execution_count": 15,
   "id": "863d2cd2-df77-4436-b323-0fcf3469b5ee",
   "metadata": {},
   "outputs": [
    {
     "data": {
      "text/plain": [
       "'C:\\\\Users\\\\MC MAGGIE\\\\Downloads\\\\TRD PYTHON CLASS\\\\mod.py'"
      ]
     },
     "execution_count": 15,
     "metadata": {},
     "output_type": "execute_result"
    }
   ],
   "source": [
    "mod.__file__"
   ]
  },
  {
   "cell_type": "code",
   "execution_count": 20,
   "id": "5c726bf1-fc4b-491b-b79e-060c2d031190",
   "metadata": {},
   "outputs": [
    {
     "data": {
      "text/plain": [
       "-0.9880316240928618"
      ]
     },
     "execution_count": 20,
     "metadata": {},
     "output_type": "execute_result"
    }
   ],
   "source": [
    "m.sin(30)"
   ]
  },
  {
   "cell_type": "code",
   "execution_count": 21,
   "id": "c66af206-9025-42ab-9625-427c3b3568fe",
   "metadata": {},
   "outputs": [
    {
     "data": {
      "text/plain": [
       "-0.9524129804151563"
      ]
     },
     "execution_count": 21,
     "metadata": {},
     "output_type": "execute_result"
    }
   ],
   "source": [
    "m.cos(60)"
   ]
  },
  {
   "cell_type": "code",
   "execution_count": null,
   "id": "ddba8740-fa6a-42e0-9134-0de516dc07cd",
   "metadata": {},
   "outputs": [],
   "source": [
    "0/360 x pi r^2"
   ]
  },
  {
   "cell_type": "code",
   "execution_count": 24,
   "id": "44a6e8b8-8fb8-4c46-a894-c143046478f1",
   "metadata": {},
   "outputs": [
    {
     "name": "stdin",
     "output_type": "stream",
     "text": [
      "Enter the theta given:  60\n",
      "Enter the radius given(m):  14\n"
     ]
    },
    {
     "name": "stdout",
     "output_type": "stream",
     "text": [
      " The Area of a sector is : 102.62536001726657m^2\n"
     ]
    }
   ],
   "source": [
    "theta = float(input(\"Enter the theta given: \"))\n",
    "radius = float(input(\"Enter the radius given(m): \"))\n",
    "AOS = (theta/360) * m.pi * (radius**2)\n",
    "print(f\" The Area of a sector is : {AOS} m^2\")"
   ]
  },
  {
   "cell_type": "code",
   "execution_count": null,
   "id": "4882be74-9d62-4f60-bbff-52208de3ad6c",
   "metadata": {},
   "outputs": [],
   "source": []
  }
 ],
 "metadata": {
  "kernelspec": {
   "display_name": "Python 3 (ipykernel)",
   "language": "python",
   "name": "python3"
  },
  "language_info": {
   "codemirror_mode": {
    "name": "ipython",
    "version": 3
   },
   "file_extension": ".py",
   "mimetype": "text/x-python",
   "name": "python",
   "nbconvert_exporter": "python",
   "pygments_lexer": "ipython3",
   "version": "3.9.19"
  }
 },
 "nbformat": 4,
 "nbformat_minor": 5
}
