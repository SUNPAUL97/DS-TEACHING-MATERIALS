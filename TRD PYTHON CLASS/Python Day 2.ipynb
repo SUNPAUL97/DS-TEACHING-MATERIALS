{
 "cells": [
  {
   "cell_type": "code",
   "execution_count": null,
   "id": "f41b338d",
   "metadata": {},
   "outputs": [],
   "source": [
    "Booleans *\n",
    "Lists\n",
    "Tuples\n",
    "Sets\n",
    "Dictionaries"
   ]
  },
  {
   "cell_type": "code",
   "execution_count": null,
   "id": "52b25c3f",
   "metadata": {},
   "outputs": [],
   "source": [
    "\"a\" is not \"A\"\n",
    "a is not A"
   ]
  },
  {
   "cell_type": "code",
   "execution_count": 4,
   "id": "96d7f7c7-d549-416a-b59f-132488ab2324",
   "metadata": {},
   "outputs": [
    {
     "data": {
      "text/plain": [
       "False"
      ]
     },
     "execution_count": 4,
     "metadata": {},
     "output_type": "execute_result"
    }
   ],
   "source": [
    "'a' == 'A'"
   ]
  },
  {
   "cell_type": "code",
   "execution_count": null,
   "id": "f9c47ae5",
   "metadata": {},
   "outputs": [],
   "source": [
    "python is case sensitive"
   ]
  },
  {
   "cell_type": "code",
   "execution_count": null,
   "id": "5ffef744",
   "metadata": {},
   "outputs": [],
   "source": [
    "Booleans - True and False"
   ]
  },
  {
   "cell_type": "code",
   "execution_count": null,
   "id": "22ed755d",
   "metadata": {},
   "outputs": [],
   "source": [
    "Boolean Operations\n",
    "and\n",
    "or\n",
    "not"
   ]
  },
  {
   "cell_type": "code",
   "execution_count": null,
   "id": "95bc1134",
   "metadata": {},
   "outputs": [],
   "source": [
    "Truth Tables\n",
    "and - it is a very strict operation that returns the boolean value \n",
    "True if and only if both of the initial values are True otherwise \n",
    "it returns false"
   ]
  },
  {
   "cell_type": "code",
   "execution_count": 1,
   "id": "7153a046",
   "metadata": {},
   "outputs": [
    {
     "name": "stdout",
     "output_type": "stream",
     "text": [
      "True\n",
      "False\n",
      "False\n",
      "False\n"
     ]
    }
   ],
   "source": [
    "print(True and True)\n",
    "print(True and False)\n",
    "print(False and True)\n",
    "print(False and False)"
   ]
  },
  {
   "cell_type": "code",
   "execution_count": null,
   "id": "098700e8",
   "metadata": {},
   "outputs": [],
   "source": [
    "True and True and False and True"
   ]
  },
  {
   "cell_type": "code",
   "execution_count": null,
   "id": "1debff7f",
   "metadata": {},
   "outputs": [],
   "source": [
    "or - it is a very flexible operation that returns the boolean value \n",
    "True if and only if atleast one of the initial values are True \n",
    "otherwise it returns false"
   ]
  },
  {
   "cell_type": "code",
   "execution_count": 2,
   "id": "7799cf29",
   "metadata": {},
   "outputs": [
    {
     "name": "stdout",
     "output_type": "stream",
     "text": [
      "True\n",
      "True\n",
      "True\n",
      "False\n"
     ]
    }
   ],
   "source": [
    "print(True or True)\n",
    "print(True or False)\n",
    "print(False or True)\n",
    "print(False or False)"
   ]
  },
  {
   "cell_type": "code",
   "execution_count": null,
   "id": "7ecd92f1",
   "metadata": {},
   "outputs": [],
   "source": [
    "(True and False or True) and False or True"
   ]
  },
  {
   "cell_type": "code",
   "execution_count": 7,
   "id": "f477b6d2-2a4c-4165-a32b-c84ec00be8b1",
   "metadata": {},
   "outputs": [
    {
     "name": "stdin",
     "output_type": "stream",
     "text": [
      "Enter your username:  McMaggie\n",
      "Enter your password:  2024\n"
     ]
    },
    {
     "name": "stdout",
     "output_type": "stream",
     "text": [
      "You've logged in\n"
     ]
    }
   ],
   "source": [
    "user = input(\"Enter your username: \")\n",
    "password = input(\"Enter your password: \")\n",
    "if (user == \"McMaggie\" and password == \"2024\"):\n",
    "    print(\"You've logged in\")\n",
    "else:\n",
    "    print(\"You are not eligible\")"
   ]
  },
  {
   "cell_type": "code",
   "execution_count": null,
   "id": "66557eb9",
   "metadata": {},
   "outputs": [],
   "source": [
    "not - it is a very straight forward operation that returns the \n",
    "inverse of the initial boolean value "
   ]
  },
  {
   "cell_type": "code",
   "execution_count": null,
   "id": "3ff79723",
   "metadata": {},
   "outputs": [],
   "source": [
    "The opposite True is false and vice versa"
   ]
  },
  {
   "cell_type": "code",
   "execution_count": null,
   "id": "797f9475",
   "metadata": {},
   "outputs": [],
   "source": [
    "not False"
   ]
  },
  {
   "cell_type": "code",
   "execution_count": null,
   "id": "0bd7bf1a",
   "metadata": {},
   "outputs": [],
   "source": [
    "Lists - This is a ordered and mutable collection of datatypes.\n",
    "A list is denoted by square brackets \"[]\".\n",
    "Each member is seperated by a comma. This is very important."
   ]
  },
  {
   "cell_type": "code",
   "execution_count": null,
   "id": "4fa2c911",
   "metadata": {},
   "outputs": [],
   "source": [
    "[1, 2, 3, 4, 'hello', 'how', 'are', 'you', 1.0, 2.567, [True, \n",
    "                                                        False]]"
   ]
  },
  {
   "cell_type": "markdown",
   "id": "e6dec1a4-9a60-4754-851e-85f06138b0f9",
   "metadata": {},
   "source": [
    "# LISTS"
   ]
  },
  {
   "cell_type": "code",
   "execution_count": null,
   "id": "e4666019",
   "metadata": {},
   "outputs": [],
   "source": [
    "A list is data structure in python that we create using square bracket\n",
    "\n",
    "A list that contains one or more seperate lists is called a\n",
    "nested list."
   ]
  },
  {
   "cell_type": "code",
   "execution_count": 1,
   "id": "cf688795-19f0-44c3-89fa-e2bf3e3647d0",
   "metadata": {},
   "outputs": [
    {
     "name": "stdout",
     "output_type": "stream",
     "text": [
      "['Fish', 23, 'Nigeria', 45.67]\n"
     ]
    }
   ],
   "source": [
    "my_list = ['Fish',23,'Nigeria',45.67]\n",
    "print(my_list)"
   ]
  },
  {
   "cell_type": "markdown",
   "id": "b1fec381-e1b2-4d73-ab7e-3f92602255cf",
   "metadata": {},
   "source": [
    "# INDEXING"
   ]
  },
  {
   "cell_type": "code",
   "execution_count": null,
   "id": "e404ca24-24ad-418b-87e4-9c41f812728d",
   "metadata": {},
   "outputs": [],
   "source": [
    "an index is an integer that denotes the position of an element in\n",
    "a list"
   ]
  },
  {
   "cell_type": "code",
   "execution_count": null,
   "id": "dd4c86a0",
   "metadata": {},
   "outputs": [],
   "source": [
    "When i say a list is ordered, I mean that every element in the list\n",
    "has a certain position and this position has a certain index that\n",
    "distinguishes it from our list.\n",
    "\n",
    "Python has two styles of indexing\n",
    "1. Zero indexing or Forwards Indexing\n",
    "2. Negative indexing or Backwards indexing"
   ]
  },
  {
   "cell_type": "code",
   "execution_count": null,
   "id": "9a625101-e610-4181-b528-becd5f6ff24b",
   "metadata": {},
   "outputs": [],
   "source": []
  },
  {
   "cell_type": "code",
   "execution_count": null,
   "id": "2e89439b",
   "metadata": {},
   "outputs": [],
   "source": [
    " 0. 1. 2. 3.   4.       5.     6.     7. -> Zero Indexing\n",
    "[1, 2, 3, 4, 'hello', 'how', 'are', 'you']\n",
    " .   .   .   .   -4    -3     -2     -1 -> Negative Indexing"
   ]
  },
  {
   "cell_type": "code",
   "execution_count": null,
   "id": "7e9d9df0",
   "metadata": {},
   "outputs": [],
   "source": [
    "Note: To get the index, you need to subtract 1 from the position"
   ]
  },
  {
   "cell_type": "code",
   "execution_count": null,
   "id": "60e0bec6",
   "metadata": {},
   "outputs": [],
   "source": [
    "To make use of the indexing you will follow the format below\n",
    "List/Variable containing your list [index]"
   ]
  },
  {
   "cell_type": "code",
   "execution_count": 4,
   "id": "8180678a",
   "metadata": {},
   "outputs": [
    {
     "data": {
      "text/plain": [
       "'hello'"
      ]
     },
     "execution_count": 4,
     "metadata": {},
     "output_type": "execute_result"
    }
   ],
   "source": [
    "my_list = [1, 2, 3, 4, 'hello', 'how', 'are', 'you']\n",
    "my_list[4]"
   ]
  },
  {
   "cell_type": "code",
   "execution_count": 5,
   "id": "2058553b-eeae-4668-b424-426e61053714",
   "metadata": {},
   "outputs": [
    {
     "data": {
      "text/plain": [
       "'you'"
      ]
     },
     "execution_count": 5,
     "metadata": {},
     "output_type": "execute_result"
    }
   ],
   "source": [
    "my_list[7]"
   ]
  },
  {
   "cell_type": "code",
   "execution_count": 6,
   "id": "e1dfe965-b594-4c58-ab95-c5043649043c",
   "metadata": {},
   "outputs": [
    {
     "data": {
      "text/plain": [
       "'you'"
      ]
     },
     "execution_count": 6,
     "metadata": {},
     "output_type": "execute_result"
    }
   ],
   "source": [
    "my_list[-1]"
   ]
  },
  {
   "cell_type": "code",
   "execution_count": 7,
   "id": "cacb4d65-f95c-40e9-bd9e-00d658e28534",
   "metadata": {},
   "outputs": [
    {
     "data": {
      "text/plain": [
       "'hello'"
      ]
     },
     "execution_count": 7,
     "metadata": {},
     "output_type": "execute_result"
    }
   ],
   "source": [
    "my_list[-4]"
   ]
  },
  {
   "cell_type": "markdown",
   "id": "6bf3d256-3fbf-4358-bab5-df47e214addb",
   "metadata": {},
   "source": [
    "# NESTED LIST"
   ]
  },
  {
   "cell_type": "code",
   "execution_count": 8,
   "id": "db439556",
   "metadata": {},
   "outputs": [],
   "source": [
    "my_list2 = ['a', 'b', 'c', 'd', \n",
    " ['e', 'f', ['g', ['h', 'k']]]\n",
    "]"
   ]
  },
  {
   "cell_type": "code",
   "execution_count": 9,
   "id": "11540824-1773-4c5b-82b5-cc8741960742",
   "metadata": {},
   "outputs": [
    {
     "name": "stdout",
     "output_type": "stream",
     "text": [
      "['a', 'b', 'c', 'd', ['e', 'f', ['g', ['h', 'k']]]]\n"
     ]
    }
   ],
   "source": [
    "print(my_list2)"
   ]
  },
  {
   "cell_type": "code",
   "execution_count": 25,
   "id": "5099e6df-871d-4028-b031-91a0f279ec9c",
   "metadata": {},
   "outputs": [
    {
     "data": {
      "text/plain": [
       "'k'"
      ]
     },
     "execution_count": 25,
     "metadata": {},
     "output_type": "execute_result"
    }
   ],
   "source": [
    "my_list2[4][2][1][1]"
   ]
  },
  {
   "cell_type": "code",
   "execution_count": 31,
   "id": "dca6aaad",
   "metadata": {},
   "outputs": [
    {
     "data": {
      "text/plain": [
       "['a', 'b']"
      ]
     },
     "execution_count": 31,
     "metadata": {},
     "output_type": "execute_result"
    }
   ],
   "source": [
    "['a', 'b', 'c', 'd'][0:2]"
   ]
  },
  {
   "cell_type": "code",
   "execution_count": null,
   "id": "633d57ee",
   "metadata": {},
   "outputs": [],
   "source": [
    "List slicing - this is a slightly advanced form of list indexing\n",
    "It is used to retrieve multiple elements within a particular range\n",
    "from a list"
   ]
  },
  {
   "cell_type": "code",
   "execution_count": 29,
   "id": "314e6aa5",
   "metadata": {
    "collapsed": true,
    "jupyter": {
     "outputs_hidden": true
    }
   },
   "outputs": [
    {
     "ename": "SyntaxError",
     "evalue": "invalid syntax (3930167413.py, line 1)",
     "output_type": "error",
     "traceback": [
      "\u001b[0;36m  Cell \u001b[0;32mIn[29], line 1\u001b[0;36m\u001b[0m\n\u001b[0;31m    To make use of the list slicing you will follow the format below\u001b[0m\n\u001b[0m       ^\u001b[0m\n\u001b[0;31mSyntaxError\u001b[0m\u001b[0;31m:\u001b[0m invalid syntax\n"
     ]
    }
   ],
   "source": [
    "To make use of the list slicing you will follow the format below\n",
    "List/Variable containing your list [start_index : stop_index]\n",
    "Note: The element of your stop index is excluded from the sliced\n",
    "list."
   ]
  },
  {
   "cell_type": "code",
   "execution_count": 41,
   "id": "2a808acd",
   "metadata": {},
   "outputs": [
    {
     "data": {
      "text/plain": [
       "[1.0, 2.567]"
      ]
     },
     "execution_count": 41,
     "metadata": {},
     "output_type": "execute_result"
    }
   ],
   "source": [
    "[1, 2, 3, 4, 'hello', 'how', 'are', 'you', 1.0, 2.567][-2:]"
   ]
  },
  {
   "cell_type": "code",
   "execution_count": null,
   "id": "9d313a4f",
   "metadata": {},
   "outputs": [],
   "source": [
    "mutable - This means that lists can be altered after creation."
   ]
  },
  {
   "cell_type": "code",
   "execution_count": 42,
   "id": "61451fd2",
   "metadata": {},
   "outputs": [],
   "source": [
    "original_list = [1, 2, 3, 4, 'hello', 'how', 'are', 'you', 1.0, \n",
    "                 2.567]"
   ]
  },
  {
   "cell_type": "code",
   "execution_count": null,
   "id": "020f228b",
   "metadata": {},
   "outputs": [],
   "source": [
    "To remove element from your list"
   ]
  },
  {
   "cell_type": "code",
   "execution_count": 43,
   "id": "84e41754",
   "metadata": {},
   "outputs": [],
   "source": [
    "del original_list[4]"
   ]
  },
  {
   "cell_type": "code",
   "execution_count": 44,
   "id": "cf34dcf2",
   "metadata": {},
   "outputs": [
    {
     "data": {
      "text/plain": [
       "[1, 2, 3, 4, 'how', 'are', 'you', 1.0, 2.567]"
      ]
     },
     "execution_count": 44,
     "metadata": {},
     "output_type": "execute_result"
    }
   ],
   "source": [
    "original_list"
   ]
  },
  {
   "cell_type": "code",
   "execution_count": null,
   "id": "c39825e3",
   "metadata": {},
   "outputs": [],
   "source": [
    "To remove elements from your list"
   ]
  },
  {
   "cell_type": "code",
   "execution_count": 45,
   "id": "b60ea27f",
   "metadata": {},
   "outputs": [],
   "source": [
    "del original_list[4:7]"
   ]
  },
  {
   "cell_type": "code",
   "execution_count": 46,
   "id": "e6941d9a",
   "metadata": {},
   "outputs": [
    {
     "data": {
      "text/plain": [
       "[1, 2, 3, 4, 1.0, 2.567]"
      ]
     },
     "execution_count": 46,
     "metadata": {},
     "output_type": "execute_result"
    }
   ],
   "source": [
    "original_list"
   ]
  },
  {
   "cell_type": "code",
   "execution_count": null,
   "id": "7df60be3",
   "metadata": {},
   "outputs": [],
   "source": [
    "To add an element to your list"
   ]
  },
  {
   "cell_type": "code",
   "execution_count": 48,
   "id": "ed3837c5",
   "metadata": {},
   "outputs": [
    {
     "data": {
      "text/plain": [
       "[1, 2, 3, 4, 1.0, 2.567, 1, 5]"
      ]
     },
     "execution_count": 48,
     "metadata": {},
     "output_type": "execute_result"
    }
   ],
   "source": [
    "original_list + [1, 5]"
   ]
  },
  {
   "cell_type": "code",
   "execution_count": null,
   "id": "c48d1324",
   "metadata": {},
   "outputs": [],
   "source": [
    "To modify or replace items in your list"
   ]
  },
  {
   "cell_type": "code",
   "execution_count": 52,
   "id": "b3e3054c",
   "metadata": {},
   "outputs": [
    {
     "data": {
      "text/plain": [
       "[1, 2, 3, 4, 'hello', 2.567]"
      ]
     },
     "execution_count": 52,
     "metadata": {},
     "output_type": "execute_result"
    }
   ],
   "source": [
    "original_list"
   ]
  },
  {
   "cell_type": "code",
   "execution_count": 53,
   "id": "91c8ac65",
   "metadata": {},
   "outputs": [
    {
     "data": {
      "text/plain": [
       "[1, 2, 3, 4, '1.0', 2.567]"
      ]
     },
     "execution_count": 53,
     "metadata": {},
     "output_type": "execute_result"
    }
   ],
   "source": [
    "original_list[4] = \"1.0\"\n",
    "original_list"
   ]
  },
  {
   "cell_type": "markdown",
   "id": "c1e08518-63bc-4020-8abd-4f09aba1cf2c",
   "metadata": {},
   "source": [
    "# TUPLE "
   ]
  },
  {
   "cell_type": "code",
   "execution_count": null,
   "id": "17794a5a",
   "metadata": {},
   "outputs": [],
   "source": [
    "Tuples - This is a ordered and immutable collection of datatypes.\n",
    "A TUPLE is denoted by parenthesis aka curved brackets \"()\".\n",
    "Each member is seperated by a comma. This is very important."
   ]
  },
  {
   "cell_type": "code",
   "execution_count": 54,
   "id": "4870019d",
   "metadata": {},
   "outputs": [
    {
     "data": {
      "text/plain": [
       "'hello'"
      ]
     },
     "execution_count": 54,
     "metadata": {},
     "output_type": "execute_result"
    }
   ],
   "source": [
    "The same rules that apply for list indexing and slicing also apply\n",
    "for tuples."
   ]
  },
  {
   "cell_type": "code",
   "execution_count": 26,
   "id": "ce000e52",
   "metadata": {},
   "outputs": [],
   "source": [
    "original_tuple = (1, 2, 3, 4, 'hello', 'how', 'are', 'you', 1.0, \n",
    "                 2.567)"
   ]
  },
  {
   "cell_type": "code",
   "execution_count": 27,
   "id": "73f66a06-6aa8-47b7-b9c6-4bd2311846e1",
   "metadata": {},
   "outputs": [
    {
     "data": {
      "text/plain": [
       "[1, 2, 3, 4, 'hello', 'how', 'are', 'you']"
      ]
     },
     "execution_count": 27,
     "metadata": {},
     "output_type": "execute_result"
    }
   ],
   "source": [
    "my_list"
   ]
  },
  {
   "cell_type": "code",
   "execution_count": 28,
   "id": "483b6d45-171a-436a-a0c1-b3839294f14d",
   "metadata": {},
   "outputs": [],
   "source": [
    "del my_list[1]"
   ]
  },
  {
   "cell_type": "code",
   "execution_count": 29,
   "id": "fa6f5a12-2a4c-4807-afdb-012f34b8d05c",
   "metadata": {},
   "outputs": [
    {
     "data": {
      "text/plain": [
       "[1, 3, 4, 'hello', 'how', 'are', 'you']"
      ]
     },
     "execution_count": 29,
     "metadata": {},
     "output_type": "execute_result"
    }
   ],
   "source": [
    "my_list"
   ]
  },
  {
   "cell_type": "code",
   "execution_count": 31,
   "id": "7d3d3e38-09ba-491b-91ae-6ad5abb0d577",
   "metadata": {},
   "outputs": [
    {
     "data": {
      "text/plain": [
       "(1, 2, 3, 4, 'hello', 'how', 'are', 'you', 1.0, 2.567)"
      ]
     },
     "execution_count": 31,
     "metadata": {},
     "output_type": "execute_result"
    }
   ],
   "source": [
    "original_tuple"
   ]
  },
  {
   "cell_type": "code",
   "execution_count": 30,
   "id": "813f20b8-5f5a-4236-9122-d55ba01261e6",
   "metadata": {},
   "outputs": [
    {
     "data": {
      "text/plain": [
       "'hello'"
      ]
     },
     "execution_count": 30,
     "metadata": {},
     "output_type": "execute_result"
    }
   ],
   "source": [
    "original_tuple[4]"
   ]
  },
  {
   "cell_type": "code",
   "execution_count": null,
   "id": "58d51749",
   "metadata": {},
   "outputs": [],
   "source": [
    "To remove element from your tuple"
   ]
  },
  {
   "cell_type": "code",
   "execution_count": 32,
   "id": "ad6d951d",
   "metadata": {},
   "outputs": [
    {
     "ename": "TypeError",
     "evalue": "'tuple' object doesn't support item deletion",
     "output_type": "error",
     "traceback": [
      "\u001b[1;31m---------------------------------------------------------------------------\u001b[0m",
      "\u001b[1;31mTypeError\u001b[0m                                 Traceback (most recent call last)",
      "Cell \u001b[1;32mIn[32], line 1\u001b[0m\n\u001b[1;32m----> 1\u001b[0m \u001b[38;5;28;01mdel\u001b[39;00m original_tuple[\u001b[38;5;241m4\u001b[39m]\n",
      "\u001b[1;31mTypeError\u001b[0m: 'tuple' object doesn't support item deletion"
     ]
    }
   ],
   "source": [
    "del original_tuple[4]"
   ]
  },
  {
   "cell_type": "code",
   "execution_count": null,
   "id": "97e4c544",
   "metadata": {},
   "outputs": [],
   "source": [
    "add element to tuple"
   ]
  },
  {
   "cell_type": "code",
   "execution_count": 57,
   "id": "8c6fe4d6",
   "metadata": {},
   "outputs": [
    {
     "ename": "TypeError",
     "evalue": "can only concatenate tuple (not \"int\") to tuple",
     "output_type": "error",
     "traceback": [
      "\u001b[0;31m---------------------------------------------------------------------------\u001b[0m",
      "\u001b[0;31mTypeError\u001b[0m                                 Traceback (most recent call last)",
      "Cell \u001b[0;32mIn[57], line 1\u001b[0m\n\u001b[0;32m----> 1\u001b[0m \u001b[43moriginal_tuple\u001b[49m\u001b[43m \u001b[49m\u001b[38;5;241;43m+\u001b[39;49m\u001b[43m \u001b[49m\u001b[43m(\u001b[49m\u001b[38;5;241;43m2\u001b[39;49m\u001b[43m)\u001b[49m\n",
      "\u001b[0;31mTypeError\u001b[0m: can only concatenate tuple (not \"int\") to tuple"
     ]
    }
   ],
   "source": [
    "original_tuple + (2)"
   ]
  },
  {
   "cell_type": "code",
   "execution_count": null,
   "id": "c25f4e4b",
   "metadata": {},
   "outputs": [],
   "source": [
    "modify the elements in our tuple"
   ]
  },
  {
   "cell_type": "code",
   "execution_count": 58,
   "id": "b6d2a91f",
   "metadata": {},
   "outputs": [
    {
     "ename": "TypeError",
     "evalue": "'tuple' object does not support item assignment",
     "output_type": "error",
     "traceback": [
      "\u001b[0;31m---------------------------------------------------------------------------\u001b[0m",
      "\u001b[0;31mTypeError\u001b[0m                                 Traceback (most recent call last)",
      "Cell \u001b[0;32mIn[58], line 1\u001b[0m\n\u001b[0;32m----> 1\u001b[0m original_tuple[\u001b[38;5;241m2\u001b[39m] \u001b[38;5;241m=\u001b[39m \u001b[38;5;124m'\u001b[39m\u001b[38;5;124mChanged\u001b[39m\u001b[38;5;124m'\u001b[39m\n",
      "\u001b[0;31mTypeError\u001b[0m: 'tuple' object does not support item assignment"
     ]
    }
   ],
   "source": [
    "original_tuple[2] = 'Changed'"
   ]
  },
  {
   "cell_type": "markdown",
   "id": "a480633b-95b8-4187-a89d-95ddb910de0c",
   "metadata": {},
   "source": [
    "# SET"
   ]
  },
  {
   "cell_type": "code",
   "execution_count": null,
   "id": "554d8027",
   "metadata": {},
   "outputs": [],
   "source": [
    "Sets - This is an unordered and mutable collection of datatypes.\n",
    "A set is denoted by curly braces aka curly brackets \"{}\".\n",
    "Each member is seperated by a comma. This is very important.\n",
    "The set datatype does not allow repetitions."
   ]
  },
  {
   "cell_type": "code",
   "execution_count": 63,
   "id": "bfe72f44",
   "metadata": {},
   "outputs": [
    {
     "data": {
      "text/plain": [
       "{1, 2, 3, 4}"
      ]
     },
     "execution_count": 63,
     "metadata": {},
     "output_type": "execute_result"
    }
   ],
   "source": [
    "{1, 1, 1, 2, 3, 2, 3, 2, 3, 4}"
   ]
  },
  {
   "cell_type": "code",
   "execution_count": 33,
   "id": "bbc7641f",
   "metadata": {},
   "outputs": [],
   "source": [
    "set1 = {1, 2, 3, 4}"
   ]
  },
  {
   "cell_type": "code",
   "execution_count": 71,
   "id": "c809bab1",
   "metadata": {},
   "outputs": [
    {
     "ename": "SyntaxError",
     "evalue": "invalid syntax (2813577193.py, line 1)",
     "output_type": "error",
     "traceback": [
      "\u001b[1;36m  Cell \u001b[1;32mIn[71], line 1\u001b[1;36m\u001b[0m\n\u001b[1;33m    To add element to your set\u001b[0m\n\u001b[1;37m       ^\u001b[0m\n\u001b[1;31mSyntaxError\u001b[0m\u001b[1;31m:\u001b[0m invalid syntax\n"
     ]
    }
   ],
   "source": [
    "To add element to your set"
   ]
  },
  {
   "cell_type": "code",
   "execution_count": 34,
   "id": "c5f9b9f6",
   "metadata": {},
   "outputs": [],
   "source": [
    "set1.add(5)"
   ]
  },
  {
   "cell_type": "code",
   "execution_count": 35,
   "id": "3ae06157",
   "metadata": {},
   "outputs": [
    {
     "data": {
      "text/plain": [
       "{1, 2, 3, 4, 5}"
      ]
     },
     "execution_count": 35,
     "metadata": {},
     "output_type": "execute_result"
    }
   ],
   "source": [
    "set1"
   ]
  },
  {
   "cell_type": "code",
   "execution_count": null,
   "id": "4e7cb3a5",
   "metadata": {},
   "outputs": [],
   "source": [
    "Assignment\n",
    "Read on string, list, tuple, set, dictionary methods\n",
    "also be able to explain 2 methods from each"
   ]
  },
  {
   "cell_type": "code",
   "execution_count": 37,
   "id": "b1ba8f25-ea23-492f-89d0-fafb464e6c55",
   "metadata": {},
   "outputs": [],
   "source": [
    "set1 = {'a',1,23}"
   ]
  },
  {
   "cell_type": "code",
   "execution_count": 79,
   "id": "f9ac49b1",
   "metadata": {},
   "outputs": [
    {
     "data": {
      "text/plain": [
       "['capitalize',\n",
       " 'casefold',\n",
       " 'center',\n",
       " 'count',\n",
       " 'encode',\n",
       " 'endswith',\n",
       " 'expandtabs',\n",
       " 'find',\n",
       " 'format',\n",
       " 'format_map',\n",
       " 'index',\n",
       " 'isalnum',\n",
       " 'isalpha',\n",
       " 'isascii',\n",
       " 'isdecimal',\n",
       " 'isdigit',\n",
       " 'isidentifier',\n",
       " 'islower',\n",
       " 'isnumeric',\n",
       " 'isprintable',\n",
       " 'isspace',\n",
       " 'istitle',\n",
       " 'isupper',\n",
       " 'join',\n",
       " 'ljust',\n",
       " 'lower',\n",
       " 'lstrip',\n",
       " 'maketrans',\n",
       " 'partition',\n",
       " 'removeprefix',\n",
       " 'removesuffix',\n",
       " 'replace',\n",
       " 'rfind',\n",
       " 'rindex',\n",
       " 'rjust',\n",
       " 'rpartition',\n",
       " 'rsplit',\n",
       " 'rstrip',\n",
       " 'split',\n",
       " 'splitlines',\n",
       " 'startswith',\n",
       " 'strip',\n",
       " 'swapcase',\n",
       " 'title',\n",
       " 'translate',\n",
       " 'upper',\n",
       " 'zfill']"
      ]
     },
     "execution_count": 79,
     "metadata": {},
     "output_type": "execute_result"
    }
   ],
   "source": [
    "[i for i in dir(str) if not i.startswith(\"_\")]"
   ]
  },
  {
   "cell_type": "code",
   "execution_count": 80,
   "id": "0615832b",
   "metadata": {},
   "outputs": [
    {
     "data": {
      "text/plain": [
       "['append',\n",
       " 'clear',\n",
       " 'copy',\n",
       " 'count',\n",
       " 'extend',\n",
       " 'index',\n",
       " 'insert',\n",
       " 'pop',\n",
       " 'remove',\n",
       " 'reverse',\n",
       " 'sort']"
      ]
     },
     "execution_count": 80,
     "metadata": {},
     "output_type": "execute_result"
    }
   ],
   "source": [
    "[i for i in dir(list) if not i.startswith(\"_\")]"
   ]
  },
  {
   "cell_type": "code",
   "execution_count": 81,
   "id": "7a1a2bbc",
   "metadata": {},
   "outputs": [
    {
     "data": {
      "text/plain": [
       "['count', 'index']"
      ]
     },
     "execution_count": 81,
     "metadata": {},
     "output_type": "execute_result"
    }
   ],
   "source": [
    "[i for i in dir(tuple) if not i.startswith(\"_\")]"
   ]
  },
  {
   "cell_type": "code",
   "execution_count": 82,
   "id": "8b0f791c",
   "metadata": {},
   "outputs": [
    {
     "data": {
      "text/plain": [
       "['add',\n",
       " 'clear',\n",
       " 'copy',\n",
       " 'difference',\n",
       " 'difference_update',\n",
       " 'discard',\n",
       " 'intersection',\n",
       " 'intersection_update',\n",
       " 'isdisjoint',\n",
       " 'issubset',\n",
       " 'issuperset',\n",
       " 'pop',\n",
       " 'remove',\n",
       " 'symmetric_difference',\n",
       " 'symmetric_difference_update',\n",
       " 'union',\n",
       " 'update']"
      ]
     },
     "execution_count": 82,
     "metadata": {},
     "output_type": "execute_result"
    }
   ],
   "source": [
    "[i for i in dir(set) if not i.startswith(\"_\")]"
   ]
  },
  {
   "cell_type": "code",
   "execution_count": null,
   "id": "0e395b25",
   "metadata": {},
   "outputs": [],
   "source": [
    "set operations"
   ]
  },
  {
   "cell_type": "code",
   "execution_count": null,
   "id": "da9e64ce",
   "metadata": {},
   "outputs": [],
   "source": [
    "Union operation. It helps to combine two sets\n",
    "The operator is | (pipe)"
   ]
  },
  {
   "cell_type": "code",
   "execution_count": 67,
   "id": "a9ba225f",
   "metadata": {},
   "outputs": [
    {
     "data": {
      "text/plain": [
       "{1, 2, 3, 4, 5, 6, 7}"
      ]
     },
     "execution_count": 67,
     "metadata": {},
     "output_type": "execute_result"
    }
   ],
   "source": [
    "{1, 2, 3, 4} | {5, 6, 7}"
   ]
  },
  {
   "cell_type": "code",
   "execution_count": null,
   "id": "4cfe6354",
   "metadata": {},
   "outputs": [],
   "source": [
    "Intersection Operation - It creates a set containing only the common\n",
    "elements from both sets\n",
    "The operator is & (ampersand) "
   ]
  },
  {
   "cell_type": "code",
   "execution_count": 69,
   "id": "ae5b7f3d",
   "metadata": {},
   "outputs": [
    {
     "data": {
      "text/plain": [
       "{4, 5}"
      ]
     },
     "execution_count": 69,
     "metadata": {},
     "output_type": "execute_result"
    }
   ],
   "source": [
    "{1, 2, 3, 4, 5} & {5, 6, 7, 4}"
   ]
  },
  {
   "cell_type": "code",
   "execution_count": null,
   "id": "d3c2ff15",
   "metadata": {},
   "outputs": [],
   "source": [
    "Dictionaries- This is an semi-ordered and mutable collection of \n",
    "datatypes.\n",
    "A Dictionary is denoted by curly braces aka curly brackets \"{}\".\n",
    "Each member is seperated by a comma. This is very important.\n",
    "The Dictionary datatype does not allow repetitions."
   ]
  },
  {
   "cell_type": "code",
   "execution_count": null,
   "id": "ae66282d",
   "metadata": {},
   "outputs": [],
   "source": [
    "They have a special feature i.e. Key - value pairs"
   ]
  },
  {
   "cell_type": "code",
   "execution_count": null,
   "id": "db23512d",
   "metadata": {},
   "outputs": [],
   "source": [
    "key: value"
   ]
  },
  {
   "cell_type": "code",
   "execution_count": null,
   "id": "8b669f36",
   "metadata": {},
   "outputs": [],
   "source": [
    "The key can be a string or an integer\n",
    "the value can be any datatype even another dictionary"
   ]
  },
  {
   "cell_type": "code",
   "execution_count": 71,
   "id": "ea9403e8",
   "metadata": {},
   "outputs": [
    {
     "data": {
      "text/plain": [
       "{'name': 'Ade', 'age': 20, 'hobbies': ['eating', 'sleeping']}"
      ]
     },
     "execution_count": 71,
     "metadata": {},
     "output_type": "execute_result"
    }
   ],
   "source": [
    "dict_1 = {\"name\": 'Ade', 'age': 20, \n",
    "          'hobbies': [\"eating\", 'sleeping']}\n",
    "dict_1"
   ]
  },
  {
   "cell_type": "code",
   "execution_count": null,
   "id": "83d49115",
   "metadata": {},
   "outputs": [],
   "source": [
    "To get out a certain value, you have to pass the key of that value\n",
    "as the index"
   ]
  },
  {
   "cell_type": "code",
   "execution_count": 74,
   "id": "90768e9d",
   "metadata": {},
   "outputs": [
    {
     "data": {
      "text/plain": [
       "20"
      ]
     },
     "execution_count": 74,
     "metadata": {},
     "output_type": "execute_result"
    }
   ],
   "source": [
    "dict_1[\"age\"]"
   ]
  },
  {
   "cell_type": "code",
   "execution_count": 77,
   "id": "122dc58d",
   "metadata": {},
   "outputs": [
    {
     "data": {
      "text/plain": [
       "{'name': 'Ade',\n",
       " 'age': 22,\n",
       " 'hobbies': ['eating', 'sleeping'],\n",
       " 'country': 'nigeria'}"
      ]
     },
     "execution_count": 77,
     "metadata": {},
     "output_type": "execute_result"
    }
   ],
   "source": [
    "dict_1[\"age\"] = 22\n",
    "dict_1"
   ]
  },
  {
   "cell_type": "code",
   "execution_count": 78,
   "id": "0bf7f5f8",
   "metadata": {},
   "outputs": [
    {
     "data": {
      "text/plain": [
       "{'name': 'Ade', 'age': 22, 'hobbies': ['eating', 'sleeping']}"
      ]
     },
     "execution_count": 78,
     "metadata": {},
     "output_type": "execute_result"
    }
   ],
   "source": [
    "del dict_1['country']\n",
    "dict_1"
   ]
  },
  {
   "cell_type": "code",
   "execution_count": null,
   "id": "8719c563",
   "metadata": {},
   "outputs": [],
   "source": [
    "Exercises\n",
    "Given the nested_list = [[1,2,3], [4,5,6], [7,8,9]]\n",
    "assess and print the following\n",
    "1. The first element of the first sublist\n",
    "2. The last element of the last sublist\n",
    "3. The second element of the second sublist\n",
    "\n",
    "Given the nested list\n",
    "[[10, 11, 12], [13, 14, 15], [16, 17, 18], [19, 20, 21]]\n",
    "perform the following operations\n",
    "1. Slice and print the first two sublists\n",
    "2. Slice and print the last two elements of the second sublist\n",
    "3. Slice and print the middle element of each sublist"
   ]
  },
  {
   "cell_type": "code",
   "execution_count": null,
   "id": "b5ab3311",
   "metadata": {},
   "outputs": [],
   "source": [
    "What is the output of the expression True and False"
   ]
  },
  {
   "cell_type": "code",
   "execution_count": null,
   "id": "fa54662c",
   "metadata": {},
   "outputs": [],
   "source": [
    "what is the output of the expression not(True or False)"
   ]
  },
  {
   "cell_type": "code",
   "execution_count": null,
   "id": "423bce62",
   "metadata": {},
   "outputs": [],
   "source": [
    "what is the output of the output of True or (False and True)"
   ]
  },
  {
   "cell_type": "code",
   "execution_count": null,
   "id": "cc4a15a0",
   "metadata": {},
   "outputs": [],
   "source": [
    "State the conditions to get a True boolean value from the and, or \n",
    "and not operations\n",
    "Concatenate two tuples (1,2,3) and (3,4) and print the result"
   ]
  },
  {
   "cell_type": "code",
   "execution_count": null,
   "id": "fa9fd0ce",
   "metadata": {},
   "outputs": [],
   "source": [
    "Given sets A = {1,2,3} and B={3,4,5}. Find the union and \n",
    "intersection of A and B\n"
   ]
  },
  {
   "cell_type": "code",
   "execution_count": 38,
   "id": "7ae94951-4b8d-438c-9d50-18e7366c118c",
   "metadata": {},
   "outputs": [
    {
     "name": "stdout",
     "output_type": "stream",
     "text": [
      "Note: you may need to restart the kernel to use updated packages.\n",
      "Package                   Version\n",
      "------------------------- -----------\n",
      "altair                    5.4.1\n",
      "anyio                     4.2.0\n",
      "argon2-cffi               21.3.0\n",
      "argon2-cffi-bindings      21.2.0\n",
      "asttokens                 2.0.5\n",
      "async-lru                 2.0.4\n",
      "attrs                     23.1.0\n",
      "Babel                     2.11.0\n",
      "backcall                  0.2.0\n",
      "beautifulsoup4            4.12.2\n",
      "bleach                    4.1.0\n",
      "blinker                   1.8.2\n",
      "Brotli                    1.0.9\n",
      "cachetools                5.5.0\n",
      "certifi                   2024.2.2\n",
      "cffi                      1.16.0\n",
      "charset-normalizer        2.0.4\n",
      "click                     8.1.7\n",
      "colorama                  0.4.6\n",
      "comm                      0.2.1\n",
      "contourpy                 1.2.1\n",
      "cycler                    0.12.1\n",
      "debugpy                   1.6.7\n",
      "decorator                 5.1.1\n",
      "defusedxml                0.7.1\n",
      "exceptiongroup            1.2.0\n",
      "executing                 0.8.3\n",
      "fastjsonschema            2.16.2\n",
      "Flask                     3.0.3\n",
      "fonttools                 4.52.1\n",
      "gitdb                     4.0.11\n",
      "GitPython                 3.1.43\n",
      "greenlet                  3.0.3\n",
      "idna                      3.7\n",
      "imbalanced-learn          0.12.3\n",
      "imblearn                  0.0\n",
      "importlib-metadata        7.0.1\n",
      "importlib_resources       6.4.0\n",
      "ipykernel                 6.28.0\n",
      "ipython                   8.15.0\n",
      "ipython-genutils          0.2.0\n",
      "ipython-sql               0.5.0\n",
      "itsdangerous              2.2.0\n",
      "jedi                      0.18.1\n",
      "Jinja2                    3.1.3\n",
      "joblib                    1.4.2\n",
      "json5                     0.9.6\n",
      "jsonschema                4.19.2\n",
      "jsonschema-specifications 2023.7.1\n",
      "jupyter_client            8.6.0\n",
      "jupyter_core              5.5.0\n",
      "jupyter-events            0.8.0\n",
      "jupyter-lsp               2.2.0\n",
      "jupyter_server            2.10.0\n",
      "jupyter_server_terminals  0.4.4\n",
      "jupyterlab                4.0.11\n",
      "jupyterlab-pygments       0.1.2\n",
      "jupyterlab_server         2.25.1\n",
      "kiwisolver                1.4.5\n",
      "lightgbm                  4.4.0\n",
      "markdown-it-py            3.0.0\n",
      "MarkupSafe                2.1.3\n",
      "matplotlib                3.9.0\n",
      "matplotlib-inline         0.1.6\n",
      "mdurl                     0.1.2\n",
      "mistune                   2.0.4\n",
      "narwhals                  1.6.2\n",
      "nbclient                  0.8.0\n",
      "nbconvert                 7.10.0\n",
      "nbformat                  5.9.2\n",
      "nest-asyncio              1.6.0\n",
      "notebook                  7.0.8\n",
      "notebook_shim             0.2.3\n",
      "numpy                     1.26.4\n",
      "overrides                 7.4.0\n",
      "packaging                 23.2\n",
      "pandas                    2.2.2\n",
      "pandocfilters             1.5.0\n",
      "parso                     0.8.3\n",
      "pickleshare               0.7.5\n",
      "pillow                    10.3.0\n",
      "pip                       24.0\n",
      "platformdirs              3.10.0\n",
      "plotly                    5.22.0\n",
      "prettytable               3.11.0\n",
      "prometheus-client         0.14.1\n",
      "prompt-toolkit            3.0.43\n",
      "protobuf                  5.28.0\n",
      "psutil                    5.9.0\n",
      "psycopg2                  2.9.9\n",
      "pure-eval                 0.2.2\n",
      "pyarrow                   17.0.0\n",
      "pycparser                 2.21\n",
      "pydeck                    0.9.1\n",
      "Pygments                  2.15.1\n",
      "pyngrok                   7.2.0\n",
      "pyparsing                 3.1.2\n",
      "PySocks                   1.7.1\n",
      "python-dateutil           2.9.0.post0\n",
      "python-json-logger        2.0.7\n",
      "pytz                      2024.1\n",
      "pywin32                   305.1\n",
      "pywinpty                  2.0.10\n",
      "PyYAML                    6.0.1\n",
      "pyzmq                     25.1.2\n",
      "referencing               0.30.2\n",
      "requests                  2.31.0\n",
      "rfc3339-validator         0.1.4\n",
      "rfc3986-validator         0.1.1\n",
      "rich                      13.8.0\n",
      "rpds-py                   0.10.6\n",
      "scikit-learn              1.5.1\n",
      "scipy                     1.13.1\n",
      "seaborn                   0.13.2\n",
      "Send2Trash                1.8.2\n",
      "setuptools                69.5.1\n",
      "six                       1.16.0\n",
      "smmap                     5.0.1\n",
      "sniffio                   1.3.0\n",
      "soupsieve                 2.5\n",
      "SQLAlchemy                2.0.33\n",
      "sqlparse                  0.5.1\n",
      "stack-data                0.2.0\n",
      "streamlit                 1.38.0\n",
      "streamlit-ace             0.1.1\n",
      "tenacity                  8.3.0\n",
      "terminado                 0.17.1\n",
      "threadpoolctl             3.5.0\n",
      "tinycss2                  1.2.1\n",
      "toml                      0.10.2\n",
      "tomli                     2.0.1\n",
      "tornado                   6.3.3\n",
      "traitlets                 5.7.1\n",
      "typing_extensions         4.11.0\n",
      "tzdata                    2024.1\n",
      "urllib3                   2.2.1\n",
      "watchdog                  4.0.2\n",
      "wcwidth                   0.2.5\n",
      "webencodings              0.5.1\n",
      "websocket-client          1.8.0\n",
      "Werkzeug                  3.0.4\n",
      "wheel                     0.43.0\n",
      "win-inet-pton             1.1.0\n",
      "xgboost                   2.0.3\n",
      "zipp                      3.17.0\n"
     ]
    }
   ],
   "source": [
    "pip list"
   ]
  },
  {
   "cell_type": "code",
   "execution_count": null,
   "id": "a461de04-34fb-4933-9a91-f778cf091ba1",
   "metadata": {},
   "outputs": [],
   "source": []
  }
 ],
 "metadata": {
  "kernelspec": {
   "display_name": "Python 3 (ipykernel)",
   "language": "python",
   "name": "python3"
  },
  "language_info": {
   "codemirror_mode": {
    "name": "ipython",
    "version": 3
   },
   "file_extension": ".py",
   "mimetype": "text/x-python",
   "name": "python",
   "nbconvert_exporter": "python",
   "pygments_lexer": "ipython3",
   "version": "3.9.19"
  }
 },
 "nbformat": 4,
 "nbformat_minor": 5
}
