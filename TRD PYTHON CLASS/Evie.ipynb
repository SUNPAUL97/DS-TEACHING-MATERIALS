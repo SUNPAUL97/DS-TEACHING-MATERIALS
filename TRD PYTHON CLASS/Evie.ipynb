{
 "cells": [
  {
   "cell_type": "code",
   "execution_count": 3,
   "id": "7635569a",
   "metadata": {},
   "outputs": [
    {
     "name": "stdout",
     "output_type": "stream",
     "text": [
      "Hello World\n"
     ]
    }
   ],
   "source": [
    "print(\"Hello World\")"
   ]
  },
  {
   "cell_type": "code",
   "execution_count": 2,
   "id": "ab726be0",
   "metadata": {},
   "outputs": [
    {
     "name": "stdout",
     "output_type": "stream",
     "text": [
      "Maggie\n"
     ]
    }
   ],
   "source": [
    "print('Maggie')"
   ]
  },
  {
   "cell_type": "code",
   "execution_count": 4,
   "id": "6f89ceee",
   "metadata": {},
   "outputs": [
    {
     "name": "stdout",
     "output_type": "stream",
     "text": [
      "Dalu\n"
     ]
    }
   ],
   "source": [
    "#This is multi line comments below using hash symbol\n",
    "# This is my code\n",
    "# I want it to print something for me\n",
    "print('Dalu')"
   ]
  },
  {
   "cell_type": "code",
   "execution_count": 5,
   "id": "2b62b0c9-36f8-4a41-8fcf-8515537567c0",
   "metadata": {},
   "outputs": [
    {
     "data": {
      "text/plain": [
       "'Maggie'"
      ]
     },
     "execution_count": 5,
     "metadata": {},
     "output_type": "execute_result"
    }
   ],
   "source": [
    "'Maggie'"
   ]
  },
  {
   "cell_type": "code",
   "execution_count": 4,
   "id": "87335050",
   "metadata": {},
   "outputs": [
    {
     "name": "stdout",
     "output_type": "stream",
     "text": [
      "you are good\n"
     ]
    }
   ],
   "source": [
    "'''This is my testimony\n",
    "God has been faithful to me\n",
    "God is so good\n",
    "'''\n",
    "print('you are good')"
   ]
  },
  {
   "cell_type": "code",
   "execution_count": 8,
   "id": "fc968aea-03d3-4331-a1d8-8c6aa695c9cf",
   "metadata": {},
   "outputs": [
    {
     "name": "stdout",
     "output_type": "stream",
     "text": [
      "this is my code above\n"
     ]
    }
   ],
   "source": [
    "\"\"\"\n",
    "This is my testimony\n",
    "God has been faithful to me\n",
    "God is so good\n",
    "\n",
    "\"\"\"\n",
    "print('this is my code above')"
   ]
  },
  {
   "cell_type": "markdown",
   "id": "6db859ff",
   "metadata": {},
   "source": [
    "# Variable"
   ]
  },
  {
   "cell_type": "code",
   "execution_count": 10,
   "id": "53999024",
   "metadata": {},
   "outputs": [],
   "source": [
    "name = 'Eva'"
   ]
  },
  {
   "cell_type": "code",
   "execution_count": 9,
   "id": "4d4d8f9d-8f61-48d5-9eeb-40955b2ea3df",
   "metadata": {},
   "outputs": [],
   "source": [
    "my_name = \"Maggie\""
   ]
  },
  {
   "cell_type": "markdown",
   "id": "db7b968c",
   "metadata": {},
   "source": [
    "# Hoi"
   ]
  },
  {
   "cell_type": "code",
   "execution_count": 11,
   "id": "c43ccc12-3783-4b2c-896c-eb98e5a34c95",
   "metadata": {},
   "outputs": [
    {
     "name": "stdout",
     "output_type": "stream",
     "text": [
      "Maggie\n"
     ]
    }
   ],
   "source": [
    "print(my_name)"
   ]
  },
  {
   "cell_type": "code",
   "execution_count": 11,
   "id": "74df8ecf",
   "metadata": {},
   "outputs": [
    {
     "data": {
      "text/plain": [
       "'Eva'"
      ]
     },
     "execution_count": 11,
     "metadata": {},
     "output_type": "execute_result"
    }
   ],
   "source": [
    "name"
   ]
  },
  {
   "cell_type": "code",
   "execution_count": 12,
   "id": "eb8e6d23-2100-40bf-8490-6f7afbebfc4d",
   "metadata": {},
   "outputs": [],
   "source": [
    "my_name2 = \"Paul\""
   ]
  },
  {
   "cell_type": "code",
   "execution_count": 13,
   "id": "4987f3bc-3565-4f23-a201-cc1de184ab0e",
   "metadata": {},
   "outputs": [
    {
     "name": "stdout",
     "output_type": "stream",
     "text": [
      "Paul\n"
     ]
    }
   ],
   "source": [
    "print(my_name)"
   ]
  },
  {
   "cell_type": "markdown",
   "id": "f46cae36-946a-432c-88ed-5ce5801bab84",
   "metadata": {},
   "source": [
    "# Data Types"
   ]
  },
  {
   "cell_type": "code",
   "execution_count": 15,
   "id": "4ce807f2",
   "metadata": {},
   "outputs": [],
   "source": [
    "# Data Types\n",
    "\n",
    "integer = 12\n",
    "Float = 10.5\n",
    "Boolean = True,False\n",
    "Complex_number = 3 + 6j\n",
    "Strings = 'Eva'\n",
    "List = [1,'a',True]\n",
    "Tuple =(1,'a',True)\n",
    "Set = {2,3,5,\"f\"}\n",
    "Dictionary = {'name':'Eva','age':4565}"
   ]
  },
  {
   "cell_type": "code",
   "execution_count": 19,
   "id": "6ae88718-0bc7-483b-884b-a26baa3768de",
   "metadata": {},
   "outputs": [],
   "source": [
    "student_detail = {'name':\"Segun\",'matric_no':345678,'age':1234,'course':['phy','maths','eng']}"
   ]
  },
  {
   "cell_type": "code",
   "execution_count": 20,
   "id": "f6b37f81-b0de-4adc-8a1c-6e19936306e3",
   "metadata": {},
   "outputs": [
    {
     "name": "stdout",
     "output_type": "stream",
     "text": [
      "{'name': 'Segun', 'matric_no': 345678, 'age': 1234, 'course': ['phy', 'maths', 'eng']}\n"
     ]
    }
   ],
   "source": [
    "print(student_detail)"
   ]
  },
  {
   "cell_type": "code",
   "execution_count": 15,
   "id": "f971c8f5-153a-4396-8530-f975011e0ccc",
   "metadata": {},
   "outputs": [
    {
     "data": {
      "text/plain": [
       "float"
      ]
     },
     "execution_count": 15,
     "metadata": {},
     "output_type": "execute_result"
    }
   ],
   "source": [
    "x = 45.0\n",
    "type(x)"
   ]
  },
  {
   "cell_type": "code",
   "execution_count": 16,
   "id": "14d3fa7f-4e78-4914-ab78-c072b9559f43",
   "metadata": {},
   "outputs": [
    {
     "name": "stdout",
     "output_type": "stream",
     "text": [
      "[12, 34.56, 'Bayo', True]\n"
     ]
    }
   ],
   "source": [
    "my_list = [12,34.56,\"Bayo\",True]\n",
    "print(my_list)"
   ]
  },
  {
   "cell_type": "code",
   "execution_count": 17,
   "id": "35565466-77e5-4e3a-ae34-03dcafe9b38d",
   "metadata": {},
   "outputs": [
    {
     "data": {
      "text/plain": [
       "list"
      ]
     },
     "execution_count": 17,
     "metadata": {},
     "output_type": "execute_result"
    }
   ],
   "source": [
    "type(my_list)"
   ]
  },
  {
   "cell_type": "code",
   "execution_count": 18,
   "id": "5653cab4-62e0-4b36-ab1e-03a27b6ad0c3",
   "metadata": {},
   "outputs": [
    {
     "name": "stdout",
     "output_type": "stream",
     "text": [
      "{1, 2, 3, 4, 5}\n"
     ]
    }
   ],
   "source": [
    "hg = {1,1,1,1,1,2,2,2,3,3,3,4,4,4,5,5,5,5}\n",
    "print(hg)"
   ]
  },
  {
   "cell_type": "code",
   "execution_count": 16,
   "id": "e00f12e0",
   "metadata": {},
   "outputs": [],
   "source": [
    "First_Name = 'Eva'"
   ]
  },
  {
   "cell_type": "code",
   "execution_count": 17,
   "id": "3099d1fd",
   "metadata": {},
   "outputs": [],
   "source": [
    "My_Name_is = 'Evie'"
   ]
  },
  {
   "cell_type": "markdown",
   "id": "28e7c73b",
   "metadata": {},
   "source": [
    "# Variables that cannot be used"
   ]
  },
  {
   "cell_type": "code",
   "execution_count": null,
   "id": "ba9672bb",
   "metadata": {},
   "outputs": [],
   "source": [
    "1_hello\n",
    "@hello\n",
    "h1234#4\n",
    "-theme"
   ]
  },
  {
   "cell_type": "markdown",
   "id": "baab81dc",
   "metadata": {},
   "source": [
    "# Class Exercise"
   ]
  },
  {
   "cell_type": "markdown",
   "id": "20c3b94e",
   "metadata": {},
   "source": [
    "# multi line comments with ash"
   ]
  },
  {
   "cell_type": "code",
   "execution_count": 1,
   "id": "bbd7f413",
   "metadata": {},
   "outputs": [
    {
     "name": "stdout",
     "output_type": "stream",
     "text": [
      "Hi\n"
     ]
    }
   ],
   "source": [
    "# This is a multiline comment using ash below\n",
    "# Holla from below\n",
    "# Welcome to my comments\n",
    "# How is my ash sign\n",
    "# Byeeeeeee\n",
    "print('Hi')"
   ]
  },
  {
   "cell_type": "markdown",
   "id": "076f2fca",
   "metadata": {},
   "source": [
    "# multi line comments"
   ]
  },
  {
   "cell_type": "code",
   "execution_count": 3,
   "id": "b83610db",
   "metadata": {},
   "outputs": [
    {
     "name": "stdout",
     "output_type": "stream",
     "text": [
      "Break Time\n",
      "Bordom\n",
      "Ennie\n"
     ]
    }
   ],
   "source": [
    "'''Its break time\n",
    "Everyone is going out\n",
    "Happy shopping'''\n",
    "print('Break Time')\n",
    "\n",
    "'''Bordom\n",
    "I am bored\n",
    "Happy bordom'''\n",
    "print('Bordom')\n",
    "\n",
    "'''Ennie is cool\n",
    "Ennie is annoying\n",
    "Ennie can be boring'''\n",
    "print('Ennie')"
   ]
  },
  {
   "cell_type": "markdown",
   "id": "73490134",
   "metadata": {},
   "source": [
    "# Variables\n"
   ]
  },
  {
   "cell_type": "code",
   "execution_count": 2,
   "id": "bec9b03d",
   "metadata": {},
   "outputs": [],
   "source": [
    "Name = 'Eva'\n",
    "Age = '13'\n",
    "Fav_color = 'Pink'\n",
    "Fav_food = 'unknown'\n",
    "Height = '170'\n",
    "School = 'ISI'\n",
    "Class = 'SS1'\n",
    "Hobby = 'Music'\n",
    "Friends = ['Ennie','Dami']\n",
    "Fav_sports = 'Swimming'"
   ]
  },
  {
   "cell_type": "code",
   "execution_count": 3,
   "id": "1bc44eb1",
   "metadata": {},
   "outputs": [],
   "source": [
    "x = 12\n",
    "y = 'Ennie'"
   ]
  },
  {
   "cell_type": "code",
   "execution_count": null,
   "id": "441e620f",
   "metadata": {},
   "outputs": [],
   "source": [
    "int('')\n",
    "float('')\n",
    "complex('') "
   ]
  },
  {
   "cell_type": "code",
   "execution_count": null,
   "id": "dd96350d",
   "metadata": {},
   "outputs": [],
   "source": [
    "Age=(complex( input (Enter your age))"
   ]
  },
  {
   "cell_type": "markdown",
   "id": "c0a71ee0",
   "metadata": {},
   "source": [
    "# DATA TYPES"
   ]
  },
  {
   "cell_type": "markdown",
   "id": "4ffbf60a",
   "metadata": {},
   "source": [
    "# Numeric Types"
   ]
  },
  {
   "cell_type": "code",
   "execution_count": 1,
   "id": "6563be84",
   "metadata": {},
   "outputs": [],
   "source": [
    "#integer\n",
    "a = 25\n",
    "b = 50\n",
    "c =1290\n",
    "boo = 4589\n",
    "balablue = 45"
   ]
  },
  {
   "cell_type": "code",
   "execution_count": 2,
   "id": "35d999da",
   "metadata": {},
   "outputs": [
    {
     "name": "stdout",
     "output_type": "stream",
     "text": [
      "25\n"
     ]
    }
   ],
   "source": [
    "print(a)"
   ]
  },
  {
   "cell_type": "code",
   "execution_count": 5,
   "id": "2ff62d53",
   "metadata": {},
   "outputs": [
    {
     "name": "stdout",
     "output_type": "stream",
     "text": [
      "50\n"
     ]
    }
   ],
   "source": [
    "print(b)"
   ]
  },
  {
   "cell_type": "code",
   "execution_count": 4,
   "id": "5b2ebf4e",
   "metadata": {},
   "outputs": [
    {
     "name": "stdout",
     "output_type": "stream",
     "text": [
      "1290\n"
     ]
    }
   ],
   "source": [
    "print(c)"
   ]
  },
  {
   "cell_type": "code",
   "execution_count": 6,
   "id": "ce74aace",
   "metadata": {},
   "outputs": [],
   "source": [
    "#float\n",
    "yet = 45.78\n",
    "evie = 34.23"
   ]
  },
  {
   "cell_type": "code",
   "execution_count": 7,
   "id": "f55449a9",
   "metadata": {},
   "outputs": [
    {
     "name": "stdout",
     "output_type": "stream",
     "text": [
      "45.78\n"
     ]
    }
   ],
   "source": [
    "print(yet)"
   ]
  },
  {
   "cell_type": "code",
   "execution_count": 8,
   "id": "444b06de",
   "metadata": {},
   "outputs": [
    {
     "name": "stdout",
     "output_type": "stream",
     "text": [
      "34.23\n"
     ]
    }
   ],
   "source": [
    "print(evie)"
   ]
  },
  {
   "cell_type": "code",
   "execution_count": 10,
   "id": "4fca853a",
   "metadata": {},
   "outputs": [],
   "source": [
    "#complex numbers\n",
    "gigi = 3 + 8j\n",
    "well = 2 + 19j"
   ]
  },
  {
   "cell_type": "code",
   "execution_count": 12,
   "id": "03677f0a",
   "metadata": {},
   "outputs": [
    {
     "name": "stdout",
     "output_type": "stream",
     "text": [
      "(3+8j)\n"
     ]
    }
   ],
   "source": [
    "print(gigi)"
   ]
  },
  {
   "cell_type": "code",
   "execution_count": 13,
   "id": "26690b72",
   "metadata": {},
   "outputs": [
    {
     "name": "stdout",
     "output_type": "stream",
     "text": [
      "(2+19j)\n"
     ]
    }
   ],
   "source": [
    "print(well)"
   ]
  },
  {
   "cell_type": "code",
   "execution_count": 14,
   "id": "75548683",
   "metadata": {},
   "outputs": [
    {
     "data": {
      "text/plain": [
       "int"
      ]
     },
     "execution_count": 14,
     "metadata": {},
     "output_type": "execute_result"
    }
   ],
   "source": [
    "type(a)            "
   ]
  },
  {
   "cell_type": "code",
   "execution_count": 15,
   "id": "e484bd46",
   "metadata": {},
   "outputs": [
    {
     "data": {
      "text/plain": [
       "complex"
      ]
     },
     "execution_count": 15,
     "metadata": {},
     "output_type": "execute_result"
    }
   ],
   "source": [
    "type(gigi)"
   ]
  },
  {
   "cell_type": "code",
   "execution_count": 17,
   "id": "2037eec0",
   "metadata": {},
   "outputs": [],
   "source": [
    "y = 3"
   ]
  },
  {
   "cell_type": "code",
   "execution_count": 18,
   "id": "7bb32813",
   "metadata": {},
   "outputs": [
    {
     "data": {
      "text/plain": [
       "int"
      ]
     },
     "execution_count": 18,
     "metadata": {},
     "output_type": "execute_result"
    }
   ],
   "source": [
    "type(y)"
   ]
  },
  {
   "cell_type": "markdown",
   "id": "86190ff7",
   "metadata": {},
   "source": [
    " # Text Type"
   ]
  },
  {
   "cell_type": "markdown",
   "id": "ad53d4ae",
   "metadata": {},
   "source": [
    "# String"
   ]
  },
  {
   "cell_type": "code",
   "execution_count": 26,
   "id": "900ebd49",
   "metadata": {},
   "outputs": [],
   "source": [
    "name = 'Evie'\n",
    "Age = '13'\n",
    "Fav_Animal = 'Ennie'\n",
    "Nationality = 'Nigerian'\n",
    "Gender = 'F' "
   ]
  },
  {
   "cell_type": "code",
   "execution_count": 21,
   "id": "e6b52f68",
   "metadata": {},
   "outputs": [
    {
     "name": "stdout",
     "output_type": "stream",
     "text": [
      "Evie\n"
     ]
    }
   ],
   "source": [
    "print(name)"
   ]
  },
  {
   "cell_type": "code",
   "execution_count": 22,
   "id": "2c1ea8c2",
   "metadata": {},
   "outputs": [
    {
     "name": "stdout",
     "output_type": "stream",
     "text": [
      "13\n"
     ]
    }
   ],
   "source": [
    "print(Age)"
   ]
  },
  {
   "cell_type": "code",
   "execution_count": 23,
   "id": "75b6fb3b",
   "metadata": {},
   "outputs": [
    {
     "name": "stdout",
     "output_type": "stream",
     "text": [
      "Ennie\n"
     ]
    }
   ],
   "source": [
    "print(Fav_Animal)"
   ]
  },
  {
   "cell_type": "code",
   "execution_count": 27,
   "id": "2eb11a8b",
   "metadata": {},
   "outputs": [
    {
     "name": "stdout",
     "output_type": "stream",
     "text": [
      "Nigerian\n"
     ]
    }
   ],
   "source": [
    "print(Nationality)"
   ]
  },
  {
   "cell_type": "code",
   "execution_count": 28,
   "id": "7c74df9c",
   "metadata": {},
   "outputs": [
    {
     "name": "stdout",
     "output_type": "stream",
     "text": [
      "F\n"
     ]
    }
   ],
   "source": [
    "print(Gender)"
   ]
  },
  {
   "cell_type": "code",
   "execution_count": 29,
   "id": "915ced4e",
   "metadata": {},
   "outputs": [
    {
     "name": "stdout",
     "output_type": "stream",
     "text": [
      "20000000\n"
     ]
    }
   ],
   "source": [
    "num = 20000000\n",
    "text = str(num)\n",
    "print(text)"
   ]
  },
  {
   "cell_type": "code",
   "execution_count": 30,
   "id": "3450b7f0",
   "metadata": {},
   "outputs": [
    {
     "data": {
      "text/plain": [
       "str"
      ]
     },
     "execution_count": 30,
     "metadata": {},
     "output_type": "execute_result"
    }
   ],
   "source": [
    "type(text)"
   ]
  },
  {
   "cell_type": "code",
   "execution_count": 31,
   "id": "a7cf2a13",
   "metadata": {},
   "outputs": [
    {
     "name": "stdout",
     "output_type": "stream",
     "text": [
      "200000000\n"
     ]
    }
   ],
   "source": [
    "numb = str(200000000)\n",
    "print(numb)"
   ]
  },
  {
   "cell_type": "code",
   "execution_count": 32,
   "id": "b4c88686",
   "metadata": {},
   "outputs": [
    {
     "data": {
      "text/plain": [
       "str"
      ]
     },
     "execution_count": 32,
     "metadata": {},
     "output_type": "execute_result"
    }
   ],
   "source": [
    "type(numb)"
   ]
  },
  {
   "cell_type": "code",
   "execution_count": 1,
   "id": "647f3178",
   "metadata": {},
   "outputs": [
    {
     "name": "stdout",
     "output_type": "stream",
     "text": [
      "girl\n"
     ]
    }
   ],
   "source": [
    "print('girl')"
   ]
  },
  {
   "cell_type": "code",
   "execution_count": 2,
   "id": "303ba131",
   "metadata": {},
   "outputs": [
    {
     "name": "stdout",
     "output_type": "stream",
     "text": [
      "enter your age:09\n",
      "your age is 9.0\n"
     ]
    }
   ],
   "source": [
    "age = float(input('enter your age:'))\n",
    "print('your age is', age)"
   ]
  },
  {
   "cell_type": "markdown",
   "id": "7e99dce7",
   "metadata": {},
   "source": [
    "# Multiline Strings"
   ]
  },
  {
   "cell_type": "code",
   "execution_count": 31,
   "id": "6da5637e",
   "metadata": {},
   "outputs": [],
   "source": [
    "e = '''\n",
    "        It was fun when I was still a litte child.\n",
    "        Everyone was friendly, not caring who is whom,\n",
    "        now everybody is more focused on what you have,          \n",
    "    '''"
   ]
  },
  {
   "cell_type": "code",
   "execution_count": 32,
   "id": "29cb5272",
   "metadata": {},
   "outputs": [
    {
     "name": "stdout",
     "output_type": "stream",
     "text": [
      "\n",
      "        It was fun when I was still a litte child.\n",
      "        Everyone was friendly, not caring who is whom,\n",
      "        now everybody is more focused on what you have,          \n",
      "    \n"
     ]
    }
   ],
   "source": [
    "print(e)"
   ]
  },
  {
   "cell_type": "code",
   "execution_count": 1,
   "id": "25a7973f",
   "metadata": {},
   "outputs": [],
   "source": [
    "a = 'Hello World!'"
   ]
  },
  {
   "cell_type": "code",
   "execution_count": 2,
   "id": "ea9b1a67-0bf3-4c9b-8528-d359d91c60fa",
   "metadata": {},
   "outputs": [
    {
     "data": {
      "text/plain": [
       "12"
      ]
     },
     "execution_count": 2,
     "metadata": {},
     "output_type": "execute_result"
    }
   ],
   "source": [
    "len(a)"
   ]
  },
  {
   "cell_type": "code",
   "execution_count": 3,
   "id": "920acf8c",
   "metadata": {},
   "outputs": [
    {
     "name": "stdout",
     "output_type": "stream",
     "text": [
      "H\n"
     ]
    }
   ],
   "source": [
    "print(a[0])"
   ]
  },
  {
   "cell_type": "code",
   "execution_count": 8,
   "id": "e284ab51",
   "metadata": {},
   "outputs": [
    {
     "name": "stdout",
     "output_type": "stream",
     "text": [
      "!\n"
     ]
    }
   ],
   "source": [
    "print(a[11])"
   ]
  },
  {
   "cell_type": "code",
   "execution_count": 9,
   "id": "9711944a",
   "metadata": {},
   "outputs": [
    {
     "name": "stdout",
     "output_type": "stream",
     "text": [
      " \n"
     ]
    }
   ],
   "source": [
    "print(a[5])"
   ]
  },
  {
   "cell_type": "code",
   "execution_count": 11,
   "id": "df3131c2",
   "metadata": {},
   "outputs": [
    {
     "name": "stdout",
     "output_type": "stream",
     "text": [
      "H\n"
     ]
    }
   ],
   "source": [
    "print(a[0])"
   ]
  },
  {
   "cell_type": "code",
   "execution_count": 13,
   "id": "02d0f501",
   "metadata": {},
   "outputs": [
    {
     "data": {
      "text/plain": [
       "12"
      ]
     },
     "execution_count": 13,
     "metadata": {},
     "output_type": "execute_result"
    }
   ],
   "source": [
    "len(a)"
   ]
  },
  {
   "cell_type": "code",
   "execution_count": 16,
   "id": "8802f20e",
   "metadata": {},
   "outputs": [
    {
     "name": "stdout",
     "output_type": "stream",
     "text": [
      "r\n"
     ]
    }
   ],
   "source": [
    "print(a[8])"
   ]
  },
  {
   "cell_type": "code",
   "execution_count": 17,
   "id": "53c709d7",
   "metadata": {},
   "outputs": [],
   "source": [
    "b = 'Holla Mi Amigos'"
   ]
  },
  {
   "cell_type": "code",
   "execution_count": 18,
   "id": "c5206b39",
   "metadata": {},
   "outputs": [
    {
     "name": "stdout",
     "output_type": "stream",
     "text": [
      "3\n"
     ]
    }
   ],
   "source": [
    "print(3)"
   ]
  },
  {
   "cell_type": "code",
   "execution_count": 21,
   "id": "f699b424",
   "metadata": {},
   "outputs": [
    {
     "name": "stdout",
     "output_type": "stream",
     "text": [
      "M\n"
     ]
    }
   ],
   "source": [
    "print(b[6])"
   ]
  },
  {
   "cell_type": "code",
   "execution_count": 24,
   "id": "b189c732",
   "metadata": {},
   "outputs": [
    {
     "name": "stdout",
     "output_type": "stream",
     "text": [
      "o\n"
     ]
    }
   ],
   "source": [
    "print(b[1])"
   ]
  },
  {
   "cell_type": "code",
   "execution_count": 25,
   "id": "79a12df0",
   "metadata": {},
   "outputs": [
    {
     "name": "stdout",
     "output_type": "stream",
     "text": [
      "H\n"
     ]
    }
   ],
   "source": [
    "print(b[0])"
   ]
  },
  {
   "cell_type": "code",
   "execution_count": 26,
   "id": "273f45e8",
   "metadata": {},
   "outputs": [
    {
     "name": "stdout",
     "output_type": "stream",
     "text": [
      "o\n"
     ]
    }
   ],
   "source": [
    "print(b[1])"
   ]
  },
  {
   "cell_type": "code",
   "execution_count": 28,
   "id": "7cf1604b",
   "metadata": {},
   "outputs": [
    {
     "name": "stdout",
     "output_type": "stream",
     "text": [
      "l\n"
     ]
    }
   ],
   "source": [
    "print(b[2])"
   ]
  },
  {
   "cell_type": "code",
   "execution_count": 29,
   "id": "bf60243f",
   "metadata": {},
   "outputs": [
    {
     "data": {
      "text/plain": [
       "15"
      ]
     },
     "execution_count": 29,
     "metadata": {},
     "output_type": "execute_result"
    }
   ],
   "source": [
    "len(b)"
   ]
  },
  {
   "cell_type": "code",
   "execution_count": 30,
   "id": "24d27a13",
   "metadata": {},
   "outputs": [
    {
     "data": {
      "text/plain": [
       "182"
      ]
     },
     "execution_count": 30,
     "metadata": {},
     "output_type": "execute_result"
    }
   ],
   "source": [
    "len(e)"
   ]
  },
  {
   "cell_type": "markdown",
   "id": "90d120c7",
   "metadata": {},
   "source": [
    "# Boolean Type"
   ]
  },
  {
   "cell_type": "code",
   "execution_count": 2,
   "id": "6cdbcf76",
   "metadata": {},
   "outputs": [
    {
     "name": "stdout",
     "output_type": "stream",
     "text": [
      "True\n"
     ]
    }
   ],
   "source": [
    "print(10>9)"
   ]
  },
  {
   "cell_type": "code",
   "execution_count": 3,
   "id": "b5cc4621",
   "metadata": {},
   "outputs": [
    {
     "name": "stdout",
     "output_type": "stream",
     "text": [
      "True\n"
     ]
    }
   ],
   "source": [
    "greater_than = 11 > 6\n",
    "print(greater_than)"
   ]
  },
  {
   "cell_type": "code",
   "execution_count": 4,
   "id": "7cdb618a",
   "metadata": {},
   "outputs": [
    {
     "name": "stdout",
     "output_type": "stream",
     "text": [
      "False\n"
     ]
    }
   ],
   "source": [
    "print(15==9)"
   ]
  },
  {
   "cell_type": "code",
   "execution_count": 5,
   "id": "e74a0656",
   "metadata": {},
   "outputs": [
    {
     "name": "stdout",
     "output_type": "stream",
     "text": [
      "False\n"
     ]
    }
   ],
   "source": [
    "print(7<2)"
   ]
  },
  {
   "cell_type": "code",
   "execution_count": 4,
   "id": "d9cd9c55",
   "metadata": {},
   "outputs": [
    {
     "name": "stdin",
     "output_type": "stream",
     "text": [
      "Enter your value for a : 44\n",
      "Enter your value for b : 20\n"
     ]
    },
    {
     "name": "stdout",
     "output_type": "stream",
     "text": [
      "b is not greater than a\n"
     ]
    }
   ],
   "source": [
    "a = int(input(\"Enter your value for a :\"))\n",
    "b = int(input(\"Enter your value for b :\"))\n",
    "\n",
    "if b > a:\n",
    "    print('b is greater than a')\n",
    "else:\n",
    "    print('b is not greater than a')"
   ]
  },
  {
   "cell_type": "code",
   "execution_count": 5,
   "id": "7757e535",
   "metadata": {},
   "outputs": [
    {
     "name": "stdin",
     "output_type": "stream",
     "text": [
      "Enter your year of birth:  1900\n"
     ]
    },
    {
     "name": "stdout",
     "output_type": "stream",
     "text": [
      "Your age is 124 years old\n"
     ]
    }
   ],
   "source": [
    "current_year = 2024\n",
    "YOB = int(input(\"Enter your year of birth: \"))\n",
    "your_age = current_year - YOB\n",
    "print(\"Your age is\", your_age, \"years old\")"
   ]
  },
  {
   "cell_type": "code",
   "execution_count": 7,
   "id": "095dab10",
   "metadata": {},
   "outputs": [
    {
     "name": "stdin",
     "output_type": "stream",
     "text": [
      "Type in the year in number:  2030\n"
     ]
    },
    {
     "name": "stdout",
     "output_type": "stream",
     "text": [
      "                                  2030\n",
      "\n",
      "      January                   February                   March\n",
      "Mo Tu We Th Fr Sa Su      Mo Tu We Th Fr Sa Su      Mo Tu We Th Fr Sa Su\n",
      "    1  2  3  4  5  6                   1  2  3                   1  2  3\n",
      " 7  8  9 10 11 12 13       4  5  6  7  8  9 10       4  5  6  7  8  9 10\n",
      "14 15 16 17 18 19 20      11 12 13 14 15 16 17      11 12 13 14 15 16 17\n",
      "21 22 23 24 25 26 27      18 19 20 21 22 23 24      18 19 20 21 22 23 24\n",
      "28 29 30 31               25 26 27 28               25 26 27 28 29 30 31\n",
      "\n",
      "       April                      May                       June\n",
      "Mo Tu We Th Fr Sa Su      Mo Tu We Th Fr Sa Su      Mo Tu We Th Fr Sa Su\n",
      " 1  2  3  4  5  6  7             1  2  3  4  5                      1  2\n",
      " 8  9 10 11 12 13 14       6  7  8  9 10 11 12       3  4  5  6  7  8  9\n",
      "15 16 17 18 19 20 21      13 14 15 16 17 18 19      10 11 12 13 14 15 16\n",
      "22 23 24 25 26 27 28      20 21 22 23 24 25 26      17 18 19 20 21 22 23\n",
      "29 30                     27 28 29 30 31            24 25 26 27 28 29 30\n",
      "\n",
      "        July                     August                  September\n",
      "Mo Tu We Th Fr Sa Su      Mo Tu We Th Fr Sa Su      Mo Tu We Th Fr Sa Su\n",
      " 1  2  3  4  5  6  7                1  2  3  4                         1\n",
      " 8  9 10 11 12 13 14       5  6  7  8  9 10 11       2  3  4  5  6  7  8\n",
      "15 16 17 18 19 20 21      12 13 14 15 16 17 18       9 10 11 12 13 14 15\n",
      "22 23 24 25 26 27 28      19 20 21 22 23 24 25      16 17 18 19 20 21 22\n",
      "29 30 31                  26 27 28 29 30 31         23 24 25 26 27 28 29\n",
      "                                                    30\n",
      "\n",
      "      October                   November                  December\n",
      "Mo Tu We Th Fr Sa Su      Mo Tu We Th Fr Sa Su      Mo Tu We Th Fr Sa Su\n",
      "    1  2  3  4  5  6                   1  2  3                         1\n",
      " 7  8  9 10 11 12 13       4  5  6  7  8  9 10       2  3  4  5  6  7  8\n",
      "14 15 16 17 18 19 20      11 12 13 14 15 16 17       9 10 11 12 13 14 15\n",
      "21 22 23 24 25 26 27      18 19 20 21 22 23 24      16 17 18 19 20 21 22\n",
      "28 29 30 31               25 26 27 28 29 30         23 24 25 26 27 28 29\n",
      "                                                    30 31\n",
      "None\n"
     ]
    }
   ],
   "source": [
    "import calendar\n",
    "Year = int(input(\"Type in the year in number: \"))\n",
    "call = calendar.prcal(Year)\n",
    "print(call)"
   ]
  },
  {
   "cell_type": "markdown",
   "id": "0194f975",
   "metadata": {},
   "source": [
    "# Sequence Type"
   ]
  },
  {
   "cell_type": "markdown",
   "id": "f70e5ca1",
   "metadata": {},
   "source": [
    " # List"
   ]
  },
  {
   "cell_type": "code",
   "execution_count": 28,
   "id": "9881656c",
   "metadata": {},
   "outputs": [],
   "source": [
    "thislist = ['apple','orange','pineapple','water-melon']"
   ]
  },
  {
   "cell_type": "code",
   "execution_count": 31,
   "id": "15648e93",
   "metadata": {},
   "outputs": [
    {
     "name": "stdout",
     "output_type": "stream",
     "text": [
      "['apple', 'orange', 'pineapple', 'water-melon']\n"
     ]
    }
   ],
   "source": [
    "print(thislist)"
   ]
  },
  {
   "cell_type": "code",
   "execution_count": 32,
   "id": "a64e0ca0",
   "metadata": {},
   "outputs": [
    {
     "name": "stdout",
     "output_type": "stream",
     "text": [
      "4\n"
     ]
    }
   ],
   "source": [
    "print(len(thislist))"
   ]
  },
  {
   "cell_type": "code",
   "execution_count": 35,
   "id": "62ce2455",
   "metadata": {},
   "outputs": [],
   "source": [
    "TNFR = ['money', 'shoes', 'bags', 'new-frame', 'notes', 'laptop', 'wristwatch', 'new-assistant']"
   ]
  },
  {
   "cell_type": "code",
   "execution_count": 37,
   "id": "274bc22a",
   "metadata": {},
   "outputs": [
    {
     "name": "stdout",
     "output_type": "stream",
     "text": [
      "notes\n"
     ]
    }
   ],
   "source": [
    "print(TNFR[4])"
   ]
  },
  {
   "cell_type": "code",
   "execution_count": 39,
   "id": "10a2872a",
   "metadata": {},
   "outputs": [
    {
     "data": {
      "text/plain": [
       "list"
      ]
     },
     "execution_count": 39,
     "metadata": {},
     "output_type": "execute_result"
    }
   ],
   "source": [
    "type(thislist)"
   ]
  },
  {
   "cell_type": "code",
   "execution_count": 40,
   "id": "5a9b4432",
   "metadata": {},
   "outputs": [],
   "source": [
    "mylist = list(('rice','shawama','beans','bread','sweetner','fufu','amala'))"
   ]
  },
  {
   "cell_type": "code",
   "execution_count": 42,
   "id": "83e78358",
   "metadata": {},
   "outputs": [
    {
     "data": {
      "text/plain": [
       "list"
      ]
     },
     "execution_count": 42,
     "metadata": {},
     "output_type": "execute_result"
    }
   ],
   "source": [
    "type(mylist)"
   ]
  },
  {
   "cell_type": "code",
   "execution_count": 44,
   "id": "37831321",
   "metadata": {},
   "outputs": [
    {
     "data": {
      "text/plain": [
       "list"
      ]
     },
     "execution_count": 44,
     "metadata": {},
     "output_type": "execute_result"
    }
   ],
   "source": [
    "type(mylist)"
   ]
  },
  {
   "cell_type": "markdown",
   "id": "19378fdf",
   "metadata": {},
   "source": [
    "# TUPLE"
   ]
  },
  {
   "cell_type": "code",
   "execution_count": 46,
   "id": "07e2656d",
   "metadata": {},
   "outputs": [],
   "source": [
    "mylist[1] = 'yam'"
   ]
  },
  {
   "cell_type": "code",
   "execution_count": 47,
   "id": "06b3ef93",
   "metadata": {},
   "outputs": [
    {
     "name": "stdout",
     "output_type": "stream",
     "text": [
      "['rice', 'yam', 'beans', 'bread', 'sweetner', 'fufu', 'amala']\n"
     ]
    }
   ],
   "source": [
    "print(mylist)"
   ]
  },
  {
   "cell_type": "code",
   "execution_count": 50,
   "id": "08c451dd",
   "metadata": {},
   "outputs": [],
   "source": [
    "my_tuple = ('rice','shawama','beans','bread','sweetner','fufu','amala')"
   ]
  },
  {
   "cell_type": "code",
   "execution_count": 51,
   "id": "332117f0",
   "metadata": {},
   "outputs": [
    {
     "name": "stdout",
     "output_type": "stream",
     "text": [
      "('rice', 'shawama', 'beans', 'bread', 'sweetner', 'fufu', 'amala')\n"
     ]
    }
   ],
   "source": [
    "print(my_tuple)"
   ]
  },
  {
   "cell_type": "code",
   "execution_count": 52,
   "id": "1724ac21",
   "metadata": {},
   "outputs": [
    {
     "data": {
      "text/plain": [
       "tuple"
      ]
     },
     "execution_count": 52,
     "metadata": {},
     "output_type": "execute_result"
    }
   ],
   "source": [
    "type(my_tuple)"
   ]
  },
  {
   "cell_type": "code",
   "execution_count": 54,
   "id": "121317d3",
   "metadata": {},
   "outputs": [
    {
     "data": {
      "text/plain": [
       "'sweetner'"
      ]
     },
     "execution_count": 54,
     "metadata": {},
     "output_type": "execute_result"
    }
   ],
   "source": [
    "my_tuple[4]"
   ]
  },
  {
   "cell_type": "code",
   "execution_count": 57,
   "id": "8a446c3c",
   "metadata": {},
   "outputs": [
    {
     "data": {
      "text/plain": [
       "list"
      ]
     },
     "execution_count": 57,
     "metadata": {},
     "output_type": "execute_result"
    }
   ],
   "source": [
    "type(mylist)"
   ]
  },
  {
   "cell_type": "code",
   "execution_count": 61,
   "id": "253c0fd4",
   "metadata": {},
   "outputs": [
    {
     "name": "stdout",
     "output_type": "stream",
     "text": [
      "['rice', 'yam', 'beans', 'bread', 'sweetner', 'fufu', 'amala']\n"
     ]
    }
   ],
   "source": [
    "print(mylist)"
   ]
  },
  {
   "cell_type": "markdown",
   "id": "721103ec",
   "metadata": {},
   "source": [
    "# Range"
   ]
  },
  {
   "cell_type": "code",
   "execution_count": 66,
   "id": "db06be5f",
   "metadata": {},
   "outputs": [
    {
     "name": "stdout",
     "output_type": "stream",
     "text": [
      "10\n",
      "20\n",
      "30\n",
      "40\n",
      "50\n",
      "60\n",
      "70\n",
      "80\n",
      "90\n"
     ]
    }
   ],
   "source": [
    "x = range(10,100,10)\n",
    "for n in x:\n",
    "    print(n)"
   ]
  },
  {
   "cell_type": "markdown",
   "id": "6dfc7433",
   "metadata": {},
   "source": [
    "# MAPPING TYPE                                                                                   "
   ]
  },
  {
   "cell_type": "markdown",
   "id": "fd3bc271",
   "metadata": {},
   "source": [
    "# Dictionary"
   ]
  },
  {
   "cell_type": "code",
   "execution_count": 68,
   "id": "679a93ba",
   "metadata": {},
   "outputs": [],
   "source": [
    "student1 = {'Eva':60, 'Osaventohan':90,'Uje':78}\n",
    "student2 = {'Eniola':50,'Razzy':89,'Oore':20,'Fefe':8}"
   ]
  },
  {
   "cell_type": "code",
   "execution_count": 69,
   "id": "0d08a203",
   "metadata": {},
   "outputs": [
    {
     "data": {
      "text/plain": [
       "dict"
      ]
     },
     "execution_count": 69,
     "metadata": {},
     "output_type": "execute_result"
    }
   ],
   "source": [
    "type(student1)"
   ]
  },
  {
   "cell_type": "code",
   "execution_count": 70,
   "id": "7ea2aa2e",
   "metadata": {},
   "outputs": [
    {
     "name": "stdout",
     "output_type": "stream",
     "text": [
      "The items in the dictionary are:  dict_items([('Eva', 60), ('Osaventohan', 90), ('Uje', 78)])\n"
     ]
    }
   ],
   "source": [
    "print('The items in the dictionary are: ',student1.items())"
   ]
  },
  {
   "cell_type": "code",
   "execution_count": 71,
   "id": "bb4d6330",
   "metadata": {},
   "outputs": [
    {
     "name": "stdout",
     "output_type": "stream",
     "text": [
      "The keys in the dictionary are:  dict_items([('Eva', 60), ('Osaventohan', 90), ('Uje', 78)])\n"
     ]
    }
   ],
   "source": [
    "print('The keys in the dictionary are: ',student1.items())"
   ]
  },
  {
   "cell_type": "code",
   "execution_count": 72,
   "id": "92abec4d",
   "metadata": {},
   "outputs": [
    {
     "name": "stdout",
     "output_type": "stream",
     "text": [
      "The values in the dictionary are:  dict_values([60, 90, 78])\n"
     ]
    }
   ],
   "source": [
    "print('The values in the dictionary are: ',student1.values())"
   ]
  },
  {
   "cell_type": "code",
   "execution_count": 73,
   "id": "aa8ba155",
   "metadata": {},
   "outputs": [],
   "source": [
    "# The scores of each students in their last exams\n",
    "# It will be in this order: Maths, Eng, Phy, CHEM\n",
    "Students_scores ={'Bayo':[70,50,65,81],'Miracle':[60,75,64,45],'Xena':[20,15,2.5,100]}"
   ]
  },
  {
   "cell_type": "code",
   "execution_count": 74,
   "id": "89e4036d",
   "metadata": {},
   "outputs": [],
   "source": [
    "Emp_Id = {'Name':'Ola','Age':1500,'Salary':55,\n",
    "         'Gender':'Female','No of Children':['Rag','Stone','Gate','Water Water','Chicken']}"
   ]
  },
  {
   "cell_type": "code",
   "execution_count": 75,
   "id": "75c7ae5c",
   "metadata": {},
   "outputs": [
    {
     "name": "stdout",
     "output_type": "stream",
     "text": [
      "{'Name': 'Ola', 'Age': 1500, 'Salary': 55, 'Gender': 'Female', 'No of Children': ['Rag', 'Stone', 'Gate', 'Water Water', 'Chicken']}\n"
     ]
    }
   ],
   "source": [
    "print(Emp_Id)"
   ]
  },
  {
   "cell_type": "markdown",
   "id": "63955e7f",
   "metadata": {},
   "source": [
    "# Set"
   ]
  },
  {
   "cell_type": "code",
   "execution_count": 8,
   "id": "5ef648af",
   "metadata": {},
   "outputs": [
    {
     "name": "stdout",
     "output_type": "stream",
     "text": [
      "{1, 2, 3, 4, 5}\n"
     ]
    }
   ],
   "source": [
    "# method 1:\n",
    "evie = {1,1,1,2,2,2,3,3,3,4,4,4,5,5,5}\n",
    "print(evie)"
   ]
  },
  {
   "cell_type": "code",
   "execution_count": 4,
   "id": "5d6d147a",
   "metadata": {},
   "outputs": [
    {
     "name": "stdout",
     "output_type": "stream",
     "text": [
      "{1, 68, 45, 79, 23}\n"
     ]
    }
   ],
   "source": [
    "# method 2:\n",
    "gengen1 = set([1,23,45,68,79])\n",
    "print(gengen1)"
   ]
  },
  {
   "cell_type": "code",
   "execution_count": 5,
   "id": "4a1bb7f5",
   "metadata": {},
   "outputs": [
    {
     "data": {
      "text/plain": [
       "set"
      ]
     },
     "execution_count": 5,
     "metadata": {},
     "output_type": "execute_result"
    }
   ],
   "source": [
    "type(gengen1)"
   ]
  },
  {
   "cell_type": "code",
   "execution_count": 6,
   "id": "b33fe77a",
   "metadata": {},
   "outputs": [
    {
     "name": "stdout",
     "output_type": "stream",
     "text": [
      "{1, 3, 5, 6}\n"
     ]
    }
   ],
   "source": [
    "# Set operation\n",
    "b1 = set([3,5,6])\n",
    "b2 = set([1,3,5])\n",
    "#union = |\n",
    "b3 = b1|b2\n",
    "print(b3)"
   ]
  },
  {
   "cell_type": "code",
   "execution_count": 7,
   "id": "0a4fd9e2",
   "metadata": {},
   "outputs": [
    {
     "name": "stdout",
     "output_type": "stream",
     "text": [
      "{3, 5}\n"
     ]
    }
   ],
   "source": [
    "# Intersection =&\n",
    "b4 = b1&b2\n",
    "print(b4)"
   ]
  },
  {
   "cell_type": "code",
   "execution_count": 8,
   "id": "8d68a910",
   "metadata": {},
   "outputs": [
    {
     "name": "stdout",
     "output_type": "stream",
     "text": [
      "{6}\n"
     ]
    }
   ],
   "source": [
    "#Difference = -\n",
    "b5 = b1 - b2\n",
    "print(b5)"
   ]
  },
  {
   "cell_type": "code",
   "execution_count": 9,
   "id": "abf748fa",
   "metadata": {},
   "outputs": [
    {
     "name": "stdout",
     "output_type": "stream",
     "text": [
      "{6}\n"
     ]
    }
   ],
   "source": [
    "b6 = b2 - b1\n",
    "print(b5)"
   ]
  },
  {
   "cell_type": "markdown",
   "id": "f97c8fce",
   "metadata": {},
   "source": [
    "# Binary Type"
   ]
  },
  {
   "cell_type": "markdown",
   "id": "5b67aad5",
   "metadata": {},
   "source": [
    "# Examples"
   ]
  },
  {
   "cell_type": "code",
   "execution_count": 12,
   "id": "09f2d5f8",
   "metadata": {},
   "outputs": [],
   "source": [
    "a ='Hello World' #string\n",
    "b = 47 #integer\n",
    "c = 56.8 #float\n",
    "d = 5 + 1j #complex\n",
    "e = ['apple','banana','orange'] #list\n",
    "f = ('apple','banana','orange') #tuple\n",
    "g = range(6) #range\n",
    "h ={'name':'Paul', 'age':75} #dictionary\n",
    "i = {'apple','banana','orange'} #set\n",
    "j = frozenset({'apple','banana','orange'}) #frozenset\n",
    "k = True #boolen\n",
    "l = b'Hello' #bytes\n",
    "m = bytearray(5) #bytearry\n",
    "n = memoryview(bytes(5)) #memoryview\n",
    "o = None #None"
   ]
  },
  {
   "cell_type": "code",
   "execution_count": 15,
   "id": "b8229232",
   "metadata": {},
   "outputs": [
    {
     "data": {
      "text/plain": [
       "dict"
      ]
     },
     "execution_count": 15,
     "metadata": {},
     "output_type": "execute_result"
    }
   ],
   "source": [
    "x = {'name': 'Paul', 'age':75, 'school': 'unibadan'}\n",
    "type(x)"
   ]
  },
  {
   "cell_type": "code",
   "execution_count": 16,
   "id": "b4e5608e",
   "metadata": {},
   "outputs": [
    {
     "name": "stdout",
     "output_type": "stream",
     "text": [
      "{'name': 'Paul', 'age': 75, 'school': 'unibadan'}\n"
     ]
    }
   ],
   "source": [
    "print(x)"
   ]
  },
  {
   "cell_type": "markdown",
   "id": "665ff43b",
   "metadata": {},
   "source": [
    "# Casting/conversion"
   ]
  },
  {
   "cell_type": "code",
   "execution_count": 2,
   "id": "727af6d0",
   "metadata": {},
   "outputs": [
    {
     "name": "stdout",
     "output_type": "stream",
     "text": [
      "True\n"
     ]
    }
   ],
   "source": [
    "#We can check if a certain phrase or character is preasent in a string, we can do that by using the keyword in\n",
    "\n",
    "txt = 'Let the grace of thy Lord be with you.'\n",
    "print('grace' in txt)"
   ]
  },
  {
   "cell_type": "code",
   "execution_count": 6,
   "id": "b38360d9",
   "metadata": {},
   "outputs": [],
   "source": [
    "# We can use print only if statement\n",
    "if 'Lovely' in txt:\n",
    "    print(\"You're so lovely\")"
   ]
  },
  {
   "cell_type": "code",
   "execution_count": 7,
   "id": "b4fdc9fd",
   "metadata": {},
   "outputs": [
    {
     "name": "stdout",
     "output_type": "stream",
     "text": [
      "False\n"
     ]
    }
   ],
   "source": [
    "print('amen' in txt)"
   ]
  },
  {
   "cell_type": "markdown",
   "id": "498843da",
   "metadata": {},
   "source": [
    "# Methods"
   ]
  },
  {
   "cell_type": "markdown",
   "id": "b1d54a92",
   "metadata": {},
   "source": [
    "# HOW TO USE METHOD KEYWORD"
   ]
  },
  {
   "cell_type": "code",
   "execution_count": 31,
   "id": "d6676897",
   "metadata": {},
   "outputs": [],
   "source": [
    "s = \"Learning Python is good\""
   ]
  },
  {
   "cell_type": "code",
   "execution_count": 32,
   "id": "44fb75f7",
   "metadata": {},
   "outputs": [
    {
     "data": {
      "text/plain": [
       "23"
      ]
     },
     "execution_count": 32,
     "metadata": {},
     "output_type": "execute_result"
    }
   ],
   "source": [
    "len(s)"
   ]
  },
  {
   "cell_type": "code",
   "execution_count": 33,
   "id": "577db88c",
   "metadata": {},
   "outputs": [
    {
     "name": "stdout",
     "output_type": "stream",
     "text": [
      "learning python is good\n"
     ]
    }
   ],
   "source": [
    "# For lowercase\n",
    "love = s.lower()\n",
    "print(love)"
   ]
  },
  {
   "cell_type": "code",
   "execution_count": 15,
   "id": "d0b67703",
   "metadata": {},
   "outputs": [
    {
     "name": "stdout",
     "output_type": "stream",
     "text": [
      "this is my testimony!!!\n"
     ]
    }
   ],
   "source": [
    "K = \"THIS IS MY TESTIMONY!!!\"\n",
    "LE = K.lower()\n",
    "print(LALA)"
   ]
  },
  {
   "cell_type": "code",
   "execution_count": 16,
   "id": "6d811759",
   "metadata": {},
   "outputs": [
    {
     "name": "stdout",
     "output_type": "stream",
     "text": [
      "this is my testimony!!!\n"
     ]
    }
   ],
   "source": [
    "print(LE)()"
   ]
  },
  {
   "cell_type": "code",
   "execution_count": 18,
   "id": "0480a052",
   "metadata": {},
   "outputs": [
    {
     "name": "stdout",
     "output_type": "stream",
     "text": [
      "ABCDEFGHIJKLMNOPQRSTUVWXYZ\n"
     ]
    }
   ],
   "source": [
    "# for uppercase\n",
    "ghenghen = \"abcdefghijklmnopqrstuvwxyz\"\n",
    "up = ghenghen.upper()\n",
    "print(up)"
   ]
  },
  {
   "cell_type": "code",
   "execution_count": 19,
   "id": "f348e424",
   "metadata": {},
   "outputs": [
    {
     "name": "stdout",
     "output_type": "stream",
     "text": [
      "abcdefghijklmnopqrstuvwxyz\n"
     ]
    }
   ],
   "source": [
    "# For swapping cases\n",
    "bv = up.swapcase()\n",
    "print(bv)"
   ]
  },
  {
   "cell_type": "code",
   "execution_count": 21,
   "id": "b06b32c1",
   "metadata": {},
   "outputs": [
    {
     "name": "stdout",
     "output_type": "stream",
     "text": [
      "THIS IS MY TESTIMONY!!!\n"
     ]
    }
   ],
   "source": [
    "swap = LE.swapcase()\n",
    "print(swap)"
   ]
  },
  {
   "cell_type": "code",
   "execution_count": 24,
   "id": "8c509e23",
   "metadata": {},
   "outputs": [
    {
     "name": "stdout",
     "output_type": "stream",
     "text": [
      "My name is eva\n"
     ]
    }
   ],
   "source": [
    "# \n",
    "din = \"my name is Eva\"\n",
    "gin = din.capitalize()\n",
    "print(gin)"
   ]
  },
  {
   "cell_type": "code",
   "execution_count": 25,
   "id": "0b403005",
   "metadata": {},
   "outputs": [
    {
     "name": "stdout",
     "output_type": "stream",
     "text": [
      "My Name Is Eva\n"
     ]
    }
   ],
   "source": [
    "wah = din.title()\n",
    "print(wah)"
   ]
  },
  {
   "cell_type": "code",
   "execution_count": 26,
   "id": "f06df39d",
   "metadata": {},
   "outputs": [
    {
     "data": {
      "text/plain": [
       "'z'"
      ]
     },
     "execution_count": 26,
     "metadata": {},
     "output_type": "execute_result"
    }
   ],
   "source": [
    "max(bv)"
   ]
  },
  {
   "cell_type": "code",
   "execution_count": 27,
   "id": "147dbfd2",
   "metadata": {},
   "outputs": [
    {
     "data": {
      "text/plain": [
       "'a'"
      ]
     },
     "execution_count": 27,
     "metadata": {},
     "output_type": "execute_result"
    }
   ],
   "source": [
    "min(bv)"
   ]
  },
  {
   "cell_type": "code",
   "execution_count": 31,
   "id": "397d45e1",
   "metadata": {},
   "outputs": [
    {
     "data": {
      "text/plain": [
       "2"
      ]
     },
     "execution_count": 31,
     "metadata": {},
     "output_type": "execute_result"
    }
   ],
   "source": [
    "din.count('m',0,len(din))"
   ]
  },
  {
   "cell_type": "code",
   "execution_count": 37,
   "id": "73c34c37",
   "metadata": {},
   "outputs": [
    {
     "name": "stdout",
     "output_type": "stream",
     "text": [
      "my name is Evie\n"
     ]
    }
   ],
   "source": [
    "done = din.replace('Eva','Evie')\n",
    "print(done)"
   ]
  },
  {
   "cell_type": "code",
   "execution_count": 42,
   "id": "13971e1b",
   "metadata": {},
   "outputs": [
    {
     "name": "stdout",
     "output_type": "stream",
     "text": [
      "my name was Eva\n"
     ]
    }
   ],
   "source": [
    "wow = din.replace('is','was')\n",
    "print(wow)"
   ]
  },
  {
   "cell_type": "markdown",
   "id": "9c4eed68",
   "metadata": {},
   "source": [
    "# Exercise\n",
    "- create new notebook, name it exercise\n",
    "- Write your name using markdown at the beginning of the notebook\n",
    "- Use all the methods"
   ]
  },
  {
   "cell_type": "markdown",
   "id": "6c934abe",
   "metadata": {},
   "source": [
    "# String Concatenation\n",
    "- This is where we add two or more strings together"
   ]
  },
  {
   "cell_type": "code",
   "execution_count": 48,
   "id": "6104016d",
   "metadata": {},
   "outputs": [
    {
     "name": "stdout",
     "output_type": "stream",
     "text": [
      "Hey, Eva!\n"
     ]
    }
   ],
   "source": [
    "a = \"Hey,\"\n",
    "b = 'Eva!'\n",
    "print(a + ' ' + b)"
   ]
  },
  {
   "cell_type": "code",
   "execution_count": 51,
   "id": "5224f740",
   "metadata": {},
   "outputs": [
    {
     "name": "stdout",
     "output_type": "stream",
     "text": [
      "13 years old\n"
     ]
    }
   ],
   "source": [
    "num = '13'\n",
    "age = 'years old'\n",
    "print(num + ' ' + age)"
   ]
  },
  {
   "cell_type": "code",
   "execution_count": 63,
   "id": "5d2c82e4",
   "metadata": {},
   "outputs": [
    {
     "name": "stdout",
     "output_type": "stream",
     "text": [
      "13years old\n"
     ]
    }
   ],
   "source": [
    "m = 13\n",
    "n = 'years old'\n",
    "print(str(m) + n)"
   ]
  },
  {
   "cell_type": "code",
   "execution_count": 62,
   "id": "6d7cd875",
   "metadata": {},
   "outputs": [
    {
     "name": "stdout",
     "output_type": "stream",
     "text": [
      "2010\n"
     ]
    }
   ],
   "source": [
    "o = '20'\n",
    "p = '10'\n",
    "print(o + p)"
   ]
  },
  {
   "cell_type": "markdown",
   "id": "91e0b84e",
   "metadata": {},
   "source": [
    "# Format in Strings"
   ]
  },
  {
   "cell_type": "markdown",
   "id": "7d797399",
   "metadata": {},
   "source": [
    "### Method 1"
   ]
  },
  {
   "cell_type": "code",
   "execution_count": 57,
   "id": "687d4cba",
   "metadata": {},
   "outputs": [
    {
     "name": "stdout",
     "output_type": "stream",
     "text": [
      "I am 13 years old\n"
     ]
    }
   ],
   "source": [
    "age = 13\n",
    "print(f'I am {age} years old')"
   ]
  },
  {
   "cell_type": "code",
   "execution_count": 61,
   "id": "de395f84",
   "metadata": {},
   "outputs": [
    {
     "name": "stdout",
     "output_type": "stream",
     "text": [
      "I love my country, Nigeria\n"
     ]
    }
   ],
   "source": [
    "country = 'Nigeria'\n",
    "print(f'I love my country, {country}')"
   ]
  },
  {
   "cell_type": "code",
   "execution_count": 1,
   "id": "d776c9da",
   "metadata": {},
   "outputs": [
    {
     "name": "stdout",
     "output_type": "stream",
     "text": [
      "Enter your age yo!:13\n",
      "I am 13 years old\n"
     ]
    }
   ],
   "source": [
    "age = int(input(\"Enter your age yo!:\"))\n",
    "print(f\"I am {age} years old\")"
   ]
  },
  {
   "cell_type": "code",
   "execution_count": 76,
   "id": "25f9881f",
   "metadata": {},
   "outputs": [
    {
     "name": "stdout",
     "output_type": "stream",
     "text": [
      "Enter the name of your country: Nigeria\n",
      "The name of my country is Nigeria\n"
     ]
    }
   ],
   "source": [
    "Country =str(input(\"Enter the name of your country: \"))\n",
    "print(f\"The name of my country is {country}\")"
   ]
  },
  {
   "cell_type": "markdown",
   "id": "ea8bf758",
   "metadata": {},
   "source": [
    "### Method 2"
   ]
  },
  {
   "cell_type": "code",
   "execution_count": 79,
   "id": "0cb2e045",
   "metadata": {},
   "outputs": [
    {
     "name": "stdout",
     "output_type": "stream",
     "text": [
      "My name is Eva, and I am 13 years old\n"
     ]
    }
   ],
   "source": [
    "my_age = 13\n",
    "txt = 'My name is Eva, and I am {} years old'\n",
    "print(txt.format(my_age))"
   ]
  },
  {
   "cell_type": "markdown",
   "id": "e05d4f2a",
   "metadata": {},
   "source": [
    "# Escape Character"
   ]
  },
  {
   "cell_type": "code",
   "execution_count": 83,
   "id": "94b46a10",
   "metadata": {},
   "outputs": [
    {
     "name": "stdout",
     "output_type": "stream",
     "text": [
      "I'm a girl\n"
     ]
    }
   ],
   "source": [
    "# \\' sigle Quate\n",
    "print('I\\'m a girl')"
   ]
  },
  {
   "cell_type": "code",
   "execution_count": 84,
   "id": "840747ee",
   "metadata": {},
   "outputs": [
    {
     "name": "stdout",
     "output_type": "stream",
     "text": [
      "I'm a girl of high class\n"
     ]
    }
   ],
   "source": [
    "print(\"I'm a girl of high class\")"
   ]
  },
  {
   "cell_type": "code",
   "execution_count": 86,
   "id": "b87321ce",
   "metadata": {},
   "outputs": [
    {
     "name": "stdout",
     "output_type": "stream",
     "text": [
      "It's called \\backslash\n"
     ]
    }
   ],
   "source": [
    "# \\\\ backslash\n",
    "print('It\\'s called \\\\backslash')"
   ]
  },
  {
   "cell_type": "code",
   "execution_count": 94,
   "id": "2fbc945c",
   "metadata": {},
   "outputs": [
    {
     "name": "stdout",
     "output_type": "stream",
     "text": [
      "What's up bruvs\n",
      "how u doin\n"
     ]
    }
   ],
   "source": [
    "# \\n new line\n",
    "print(\"What's up bruvs\\nhow u doin\")"
   ]
  },
  {
   "cell_type": "markdown",
   "id": "93aad4d1",
   "metadata": {},
   "source": [
    "## Assignment\n",
    "- Use string concatenation, format and escape character"
   ]
  },
  {
   "cell_type": "markdown",
   "id": "810ca683",
   "metadata": {},
   "source": [
    "# Other Escape Character\n",
    "- \\a = Bell or alart\n",
    "- \\b = Backspace\n",
    "- \\f = formfeed\n",
    "- \\n = new line\n",
    "- \\r = carriage return\n",
    "- \\s = space\n",
    "- \\t = Tab"
   ]
  },
  {
   "cell_type": "markdown",
   "id": "dba3ae28",
   "metadata": {},
   "source": [
    "#  PYTHON OPERATORS"
   ]
  },
  {
   "cell_type": "code",
   "execution_count": 95,
   "id": "68f3ff0c",
   "metadata": {},
   "outputs": [
    {
     "name": "stdout",
     "output_type": "stream",
     "text": [
      "15\n"
     ]
    }
   ],
   "source": [
    "# For example we use + to add up\n",
    "print(10 + 5)"
   ]
  },
  {
   "cell_type": "markdown",
   "id": "69be0281",
   "metadata": {},
   "source": [
    "#### Python divides the operators in the following groups:\n",
    "- Arithmetic operators\n",
    "- Assignment operators\n",
    "- Comparison operators\n",
    "- Logical operators\n",
    "- Identity operators\n",
    "- Membership operators\n",
    "- Bitwise operators"
   ]
  },
  {
   "cell_type": "markdown",
   "id": "9f8ec223",
   "metadata": {},
   "source": [
    "### Arithmetic Operators"
   ]
  },
  {
   "cell_type": "code",
   "execution_count": 96,
   "id": "b967e784",
   "metadata": {},
   "outputs": [
    {
     "name": "stdout",
     "output_type": "stream",
     "text": [
      "110\n"
     ]
    }
   ],
   "source": [
    "# Addition\n",
    "x = 56\n",
    "y = 54\n",
    "print(x + y)"
   ]
  },
  {
   "cell_type": "code",
   "execution_count": 97,
   "id": "1effca02",
   "metadata": {},
   "outputs": [
    {
     "name": "stdout",
     "output_type": "stream",
     "text": [
      "2\n"
     ]
    }
   ],
   "source": [
    "# subtraction\n",
    "print(x - y)"
   ]
  },
  {
   "cell_type": "code",
   "execution_count": 98,
   "id": "ae3beb18",
   "metadata": {},
   "outputs": [
    {
     "name": "stdout",
     "output_type": "stream",
     "text": [
      "3024\n"
     ]
    }
   ],
   "source": [
    "#Multiplication\n",
    "print(x * y)"
   ]
  },
  {
   "cell_type": "code",
   "execution_count": 99,
   "id": "63fdb266",
   "metadata": {},
   "outputs": [
    {
     "name": "stdout",
     "output_type": "stream",
     "text": [
      "1.037037037037037\n"
     ]
    }
   ],
   "source": [
    "#Divition\n",
    "print(x/y)"
   ]
  },
  {
   "cell_type": "code",
   "execution_count": 100,
   "id": "49f01263",
   "metadata": {},
   "outputs": [
    {
     "name": "stdout",
     "output_type": "stream",
     "text": [
      "2\n"
     ]
    }
   ],
   "source": [
    "# Module\n",
    "# This will give us the remainder after dividing\n",
    "print(x % y)"
   ]
  },
  {
   "cell_type": "code",
   "execution_count": 101,
   "id": "4ef8d4af",
   "metadata": {},
   "outputs": [
    {
     "name": "stdout",
     "output_type": "stream",
     "text": [
      "1\n"
     ]
    }
   ],
   "source": [
    "b = 4\n",
    "m = 3\n",
    "print(b % m)"
   ]
  },
  {
   "cell_type": "code",
   "execution_count": 102,
   "id": "59a0b8b0",
   "metadata": {},
   "outputs": [
    {
     "name": "stdout",
     "output_type": "stream",
     "text": [
      "64\n"
     ]
    }
   ],
   "source": [
    "# Exponential\n",
    "print(b ** m)"
   ]
  },
  {
   "cell_type": "code",
   "execution_count": 114,
   "id": "7cc20bf1",
   "metadata": {},
   "outputs": [],
   "source": [
    "x = 10**100"
   ]
  },
  {
   "cell_type": "code",
   "execution_count": 115,
   "id": "2b089343",
   "metadata": {},
   "outputs": [
    {
     "name": "stdout",
     "output_type": "stream",
     "text": [
      "10000000000000000000000000000000000000000000000000000000000000000000000000000000000000000000000000000\n"
     ]
    }
   ],
   "source": [
    "print(x)"
   ]
  },
  {
   "cell_type": "code",
   "execution_count": 103,
   "id": "a57bb9b1",
   "metadata": {},
   "outputs": [
    {
     "name": "stdout",
     "output_type": "stream",
     "text": [
      "1\n"
     ]
    }
   ],
   "source": [
    "# Floor divition\n",
    "print(x // y)"
   ]
  },
  {
   "cell_type": "code",
   "execution_count": 118,
   "id": "962d2bd3",
   "metadata": {},
   "outputs": [
    {
     "name": "stdout",
     "output_type": "stream",
     "text": [
      "3\n"
     ]
    }
   ],
   "source": [
    "print(30//8)"
   ]
  },
  {
   "cell_type": "code",
   "execution_count": 119,
   "id": "0d5a9fad",
   "metadata": {},
   "outputs": [
    {
     "data": {
      "text/plain": [
       "16"
      ]
     },
     "execution_count": 119,
     "metadata": {},
     "output_type": "execute_result"
    }
   ],
   "source": [
    "import numpy as np\n",
    "np.square(4)"
   ]
  },
  {
   "cell_type": "markdown",
   "id": "999feca6",
   "metadata": {},
   "source": [
    "# Assignment operator"
   ]
  },
  {
   "cell_type": "code",
   "execution_count": 120,
   "id": "2973f81a",
   "metadata": {},
   "outputs": [
    {
     "name": "stdout",
     "output_type": "stream",
     "text": [
      "5\n"
     ]
    }
   ],
   "source": [
    "x = 5\n",
    "print(x)"
   ]
  },
  {
   "cell_type": "code",
   "execution_count": 121,
   "id": "9ec0c5a8",
   "metadata": {},
   "outputs": [
    {
     "name": "stdout",
     "output_type": "stream",
     "text": [
      "8\n"
     ]
    }
   ],
   "source": [
    "x += 3\n",
    "print(x)"
   ]
  },
  {
   "cell_type": "code",
   "execution_count": 122,
   "id": "3f5e5697",
   "metadata": {},
   "outputs": [
    {
     "name": "stdout",
     "output_type": "stream",
     "text": [
      "3\n"
     ]
    }
   ],
   "source": [
    "# x += 3\n",
    "m = x + 3\n",
    "print(3)"
   ]
  },
  {
   "cell_type": "code",
   "execution_count": 126,
   "id": "61388b3f",
   "metadata": {},
   "outputs": [
    {
     "name": "stdout",
     "output_type": "stream",
     "text": [
      "12\n"
     ]
    }
   ],
   "source": [
    "b = 4\n",
    "b *= 3\n",
    "print(b)\n"
   ]
  },
  {
   "cell_type": "code",
   "execution_count": 127,
   "id": "baefeed7",
   "metadata": {},
   "outputs": [
    {
     "name": "stdout",
     "output_type": "stream",
     "text": [
      "3.0\n"
     ]
    }
   ],
   "source": [
    "v = 9\n",
    "v /= 3\n",
    "print(v)"
   ]
  },
  {
   "cell_type": "markdown",
   "id": "f7af6192",
   "metadata": {},
   "source": [
    "# Comparison operators\n",
    "- Less than <\n",
    "- Greater than >\n",
    "- Less than or equal to <=\n",
    "- Greater than or equaal to >=\n",
    "- Equal ==\n",
    "- Not equal !="
   ]
  },
  {
   "cell_type": "code",
   "execution_count": 6,
   "id": "1ca9a565",
   "metadata": {},
   "outputs": [
    {
     "name": "stdout",
     "output_type": "stream",
     "text": [
      "True\n"
     ]
    }
   ],
   "source": [
    "# less than <\n",
    "a = 321\n",
    "b = 654\n",
    "print(a<b)"
   ]
  },
  {
   "cell_type": "code",
   "execution_count": 7,
   "id": "2f767846",
   "metadata": {},
   "outputs": [
    {
     "name": "stdout",
     "output_type": "stream",
     "text": [
      "False\n"
     ]
    }
   ],
   "source": [
    "# Greater than >\n",
    "print(a>b)"
   ]
  },
  {
   "cell_type": "code",
   "execution_count": 8,
   "id": "ce802809",
   "metadata": {},
   "outputs": [
    {
     "name": "stdout",
     "output_type": "stream",
     "text": [
      "True\n"
     ]
    }
   ],
   "source": [
    "print(b>a)"
   ]
  },
  {
   "cell_type": "code",
   "execution_count": 9,
   "id": "3c6889ae",
   "metadata": {},
   "outputs": [
    {
     "name": "stdout",
     "output_type": "stream",
     "text": [
      "True\n"
     ]
    }
   ],
   "source": [
    "# Less tghat or equal to <=\n",
    "print(4<=4)"
   ]
  },
  {
   "cell_type": "code",
   "execution_count": 10,
   "id": "6dfcc163",
   "metadata": {},
   "outputs": [
    {
     "name": "stdout",
     "output_type": "stream",
     "text": [
      "True\n"
     ]
    }
   ],
   "source": [
    "print(9<=23)"
   ]
  },
  {
   "cell_type": "code",
   "execution_count": 11,
   "id": "73d251e0",
   "metadata": {},
   "outputs": [
    {
     "name": "stdout",
     "output_type": "stream",
     "text": [
      "False\n"
     ]
    }
   ],
   "source": [
    "print(45<=14)"
   ]
  },
  {
   "cell_type": "code",
   "execution_count": 12,
   "id": "6203cbfc",
   "metadata": {},
   "outputs": [
    {
     "name": "stdout",
     "output_type": "stream",
     "text": [
      "True\n"
     ]
    }
   ],
   "source": [
    "# Greater than or equal to\n",
    "print(45>=45)"
   ]
  },
  {
   "cell_type": "code",
   "execution_count": 13,
   "id": "a0ebafa2",
   "metadata": {},
   "outputs": [
    {
     "name": "stdout",
     "output_type": "stream",
     "text": [
      "False\n"
     ]
    }
   ],
   "source": [
    "print(34>=131)"
   ]
  },
  {
   "cell_type": "markdown",
   "id": "08a653ca",
   "metadata": {},
   "source": [
    "# Logical operators\n",
    " - not\n",
    " - or\n",
    " - and"
   ]
  },
  {
   "cell_type": "code",
   "execution_count": 14,
   "id": "9e42e8f9",
   "metadata": {},
   "outputs": [
    {
     "data": {
      "text/plain": [
       "False"
      ]
     },
     "execution_count": 14,
     "metadata": {},
     "output_type": "execute_result"
    }
   ],
   "source": [
    "# not\n",
    "x = 4\n",
    "not(x<5 and x<10)"
   ]
  },
  {
   "cell_type": "code",
   "execution_count": 17,
   "id": "a50bae77",
   "metadata": {},
   "outputs": [
    {
     "data": {
      "text/plain": [
       "True"
      ]
     },
     "execution_count": 17,
     "metadata": {},
     "output_type": "execute_result"
    }
   ],
   "source": [
    "# or\n",
    "x = 4\n",
    "x>3 or x >10"
   ]
  },
  {
   "cell_type": "code",
   "execution_count": 18,
   "id": "1a761c6a",
   "metadata": {},
   "outputs": [
    {
     "data": {
      "text/plain": [
       "False"
      ]
     },
     "execution_count": 18,
     "metadata": {},
     "output_type": "execute_result"
    }
   ],
   "source": [
    "# and\n",
    "x = 4\n",
    "x<3 and x < 2"
   ]
  },
  {
   "cell_type": "code",
   "execution_count": 20,
   "id": "1c40ef4e",
   "metadata": {},
   "outputs": [
    {
     "data": {
      "text/plain": [
       "False"
      ]
     },
     "execution_count": 20,
     "metadata": {},
     "output_type": "execute_result"
    }
   ],
   "source": [
    "y = 34\n",
    "y<45 and y<23"
   ]
  },
  {
   "cell_type": "markdown",
   "id": "cb100905",
   "metadata": {},
   "source": [
    "# Identity operators\n",
    "- is\n",
    "- is not"
   ]
  },
  {
   "cell_type": "code",
   "execution_count": 27,
   "id": "8d6ec352",
   "metadata": {},
   "outputs": [
    {
     "name": "stdout",
     "output_type": "stream",
     "text": [
      "False\n"
     ]
    }
   ],
   "source": [
    "# is\n",
    "x = \"Evie\"\n",
    "y = 13\n",
    "print(x is y)"
   ]
  },
  {
   "cell_type": "code",
   "execution_count": 28,
   "id": "181a39c1",
   "metadata": {},
   "outputs": [
    {
     "data": {
      "text/plain": [
       "False"
      ]
     },
     "execution_count": 28,
     "metadata": {},
     "output_type": "execute_result"
    }
   ],
   "source": [
    "m = 34\n",
    "n = 23.4\n",
    "m is n"
   ]
  },
  {
   "cell_type": "code",
   "execution_count": 29,
   "id": "577f3036",
   "metadata": {},
   "outputs": [
    {
     "data": {
      "text/plain": [
       "True"
      ]
     },
     "execution_count": 29,
     "metadata": {},
     "output_type": "execute_result"
    }
   ],
   "source": [
    "# is not\n",
    "x is not y"
   ]
  },
  {
   "cell_type": "code",
   "execution_count": 30,
   "id": "c781971c",
   "metadata": {},
   "outputs": [
    {
     "data": {
      "text/plain": [
       "True"
      ]
     },
     "execution_count": 30,
     "metadata": {},
     "output_type": "execute_result"
    }
   ],
   "source": [
    "m is not n"
   ]
  },
  {
   "cell_type": "code",
   "execution_count": 31,
   "id": "a6f94549",
   "metadata": {},
   "outputs": [
    {
     "data": {
      "text/plain": [
       "True"
      ]
     },
     "execution_count": 31,
     "metadata": {},
     "output_type": "execute_result"
    }
   ],
   "source": [
    "b = 33\n",
    "d = 31\n",
    "d is not b"
   ]
  },
  {
   "cell_type": "markdown",
   "id": "3e3cafa5",
   "metadata": {},
   "source": [
    "# Membership Opereators\n",
    "- in\n",
    "- not in"
   ]
  },
  {
   "cell_type": "code",
   "execution_count": 7,
   "id": "d680ddbb",
   "metadata": {},
   "outputs": [
    {
     "data": {
      "text/plain": [
       "True"
      ]
     },
     "execution_count": 7,
     "metadata": {},
     "output_type": "execute_result"
    }
   ],
   "source": [
    "S = \"Learning python is exhausting\"\n",
    "\"exhausting\" in S"
   ]
  },
  {
   "cell_type": "code",
   "execution_count": 8,
   "id": "fd69be5d",
   "metadata": {},
   "outputs": [
    {
     "data": {
      "text/plain": [
       "False"
      ]
     },
     "execution_count": 8,
     "metadata": {},
     "output_type": "execute_result"
    }
   ],
   "source": [
    "\"WOW\" in S"
   ]
  },
  {
   "cell_type": "code",
   "execution_count": 9,
   "id": "98af3339",
   "metadata": {},
   "outputs": [
    {
     "data": {
      "text/plain": [
       "False"
      ]
     },
     "execution_count": 9,
     "metadata": {},
     "output_type": "execute_result"
    }
   ],
   "source": [
    "\"Learning\" not in S"
   ]
  },
  {
   "cell_type": "code",
   "execution_count": 10,
   "id": "5c075340",
   "metadata": {},
   "outputs": [
    {
     "data": {
      "text/plain": [
       "True"
      ]
     },
     "execution_count": 10,
     "metadata": {},
     "output_type": "execute_result"
    }
   ],
   "source": [
    "\"ALRIGHT\" not in S"
   ]
  },
  {
   "cell_type": "code",
   "execution_count": 11,
   "id": "bbb9a2d4",
   "metadata": {},
   "outputs": [
    {
     "name": "stdout",
     "output_type": "stream",
     "text": [
      "True\n"
     ]
    }
   ],
   "source": [
    "# we can check if a certain phrase or character is present in a string, we can do that by using the keyword in\n",
    "    \n",
    "txt = \"We keep moving by the speciacl grace of God\"\n",
    "print('grace' in txt)"
   ]
  },
  {
   "cell_type": "code",
   "execution_count": 16,
   "id": "aef10c31",
   "metadata": {},
   "outputs": [
    {
     "name": "stdout",
     "output_type": "stream",
     "text": [
      "True\n"
     ]
    }
   ],
   "source": [
    "# We can check if a certain phrase or character is not present, we can do that  by using the keyword not in \n",
    "print('wow' not in txt)"
   ]
  },
  {
   "cell_type": "code",
   "execution_count": 18,
   "id": "80fe8bf8",
   "metadata": {},
   "outputs": [
    {
     "name": "stdout",
     "output_type": "stream",
     "text": [
      "Holla, mi amigos.\n"
     ]
    }
   ],
   "source": [
    "# We can use print only if statement\n",
    "if 'grace' in txt:\n",
    "    print('Holla, mi amigos.')"
   ]
  },
  {
   "cell_type": "markdown",
   "id": "26ad29f4",
   "metadata": {},
   "source": [
    " # Conditional Statement\n",
    " - if \n",
    " - else\n",
    " - elif"
   ]
  },
  {
   "cell_type": "markdown",
   "id": "988352a2",
   "metadata": {},
   "source": [
    " ## Syntax for Logical statement\n",
    " - if (logical expression):\n",
    " \n",
    "        statement(s)\n",
    "  \n",
    "   else:\n",
    "   \n",
    "        statement(s)"
   ]
  },
  {
   "cell_type": "code",
   "execution_count": 27,
   "id": "56915c5d",
   "metadata": {},
   "outputs": [
    {
     "name": "stdout",
     "output_type": "stream",
     "text": [
      "Enter your score: 78\n",
      "First class upper\n"
     ]
    }
   ],
   "source": [
    "Grade = int(input(\"Enter your score: \"))\n",
    "if Grade <= 69:\n",
    "    print(\"Second class lower\")\n",
    "else:\n",
    "    if Grade <=79:\n",
    "        print(\"First class upper\")\n",
    "    else:\n",
    "        print(\"Sorry!, you're not eligable for this class\")"
   ]
  },
  {
   "cell_type": "code",
   "execution_count": 25,
   "id": "656f0e2e",
   "metadata": {},
   "outputs": [
    {
     "name": "stdout",
     "output_type": "stream",
     "text": [
      "Enter your budget(in dollers): 400\n",
      "Congrats! You can buy the iphone\n"
     ]
    }
   ],
   "source": [
    "# define the budget price\n",
    "price = 350\n",
    "budget = int(input('Enter your budget(in dollers): '))\n",
    "\n",
    "# if-else statement\n",
    "if price <= budget:\n",
    "    print('Congrats! You can buy the iphone')\n",
    "else:\n",
    "    print('Sorry! The mobile price is more than your budget')"
   ]
  },
  {
   "cell_type": "code",
   "execution_count": 34,
   "id": "4d4d6006",
   "metadata": {},
   "outputs": [
    {
     "name": "stdout",
     "output_type": "stream",
     "text": [
      "Enter the memory: 128\n",
      "The price of the phone is $900\n"
     ]
    }
   ],
   "source": [
    "Memory = int(input('Enter the memory: '))\n",
    "\n",
    "if Memory == 32:\n",
    "    print('The price of the phone is $600')\n",
    "elif Memory == 64:\n",
    "    print('The price of the phone is $700')\n",
    "elif Memory == 128:\n",
    "    print('The price of the phone is $900')\n",
    "elif Memory == 256:\n",
    "    print('The price of the phone is $1300')\n",
    "else:\n",
    "    print('Please enter a valid memory requirement')\n",
    "    "
   ]
  },
  {
   "cell_type": "code",
   "execution_count": 38,
   "id": "ee070c51",
   "metadata": {},
   "outputs": [
    {
     "name": "stdout",
     "output_type": "stream",
     "text": [
      "Enter your score: 85\n",
      "First class\n"
     ]
    }
   ],
   "source": [
    "Grade = int(input(\"Enter your score: \"))\n",
    "if Grade <= 45:\n",
    "    print(\"Third class\")\n",
    "elif Grade <=59:\n",
    "    print(\"Second class lower\")\n",
    "elif Grade < 70:\n",
    "    print(\"Second class upper\")\n",
    "else:\n",
    "    print(\"First class\")"
   ]
  },
  {
   "cell_type": "markdown",
   "id": "30806853",
   "metadata": {},
   "source": [
    "## Exercise\n",
    "Imagine acustomer to buy gadget from your mummy's shop but has a limited budget. Thus, his decision to buy is based on the condition that the price comes under his budget. Let's say his budget is #10,000\n",
    "\n",
    " As a python programmer write a code in Python that prints whether the customer can buy the gadget or not based on his budget\n",
    "\n",
    "    \n",
    "Write a code to tell students their grade after checking their scores. Create a box where they can put in there scores to know their grade\n",
    "\n",
    "- Note:80+ = Distinction\n",
    "\n",
    "   - 70 to 79 = Excellect\n",
    "   - 60 to 69 = Very Good\n",
    "   - 50 to 59 = Goood\n",
    "   - 40 to 49 = Fail"
   ]
  },
  {
   "cell_type": "markdown",
   "id": "52b82065",
   "metadata": {},
   "source": [
    "# Looping Statements\n",
    "\n",
    "Supposing the store wants to check the price of the Apple iPhone(4GB, 128GB)after providing5%,10%,15%,and 20% discounts nrespectively. Instead of calculating the discounted prices multiple times, looping statements can be used to achieve this.\n",
    "\n",
    "Let us write a code in python that prints the discounted price for each of the above-mentioned discounts."
   ]
  },
  {
   "cell_type": "markdown",
   "id": "b5c75786",
   "metadata": {},
   "source": [
    "Loops are used in Python tp iterate over a sequence.\n",
    "\n",
    "The syntax of the 'for loop' is:\n",
    "\n",
    "   for iterator_var in sequence:\n",
    "         statements(s)"
   ]
  },
  {
   "cell_type": "markdown",
   "id": "79bb3de4",
   "metadata": {},
   "source": [
    "With the while loop you can execute a set in a statement as long as the condition is true"
   ]
  },
  {
   "cell_type": "markdown",
   "id": "25ad5a96",
   "metadata": {},
   "source": [
    "# LOOPING STATEMENT\n",
    "\n",
    "# While loops\n"
   ]
  },
  {
   "cell_type": "markdown",
   "id": "f76ed08c",
   "metadata": {},
   "source": [
    "# Syntax for while loop\n",
    " while condition:\n",
    "        \n",
    "   - statement(s)\n",
    "  - if condition:"
   ]
  },
  {
   "cell_type": "code",
   "execution_count": 3,
   "id": "62e0c2b9",
   "metadata": {},
   "outputs": [
    {
     "name": "stdout",
     "output_type": "stream",
     "text": [
      "1\n",
      "2\n",
      "3\n",
      "4\n",
      "5\n"
     ]
    }
   ],
   "source": [
    "i = 1\n",
    "while i < 6:\n",
    "    print(i)\n",
    "    i +=1"
   ]
  },
  {
   "cell_type": "code",
   "execution_count": 9,
   "id": "ee843ada",
   "metadata": {},
   "outputs": [
    {
     "name": "stdout",
     "output_type": "stream",
     "text": [
      "1\n",
      "3\n",
      "5\n"
     ]
    }
   ],
   "source": [
    "i = 1\n",
    "while i < 6:\n",
    "    print(i)\n",
    "    i +=2"
   ]
  },
  {
   "cell_type": "code",
   "execution_count": 10,
   "id": "b11aef41",
   "metadata": {},
   "outputs": [
    {
     "name": "stdout",
     "output_type": "stream",
     "text": [
      "13\n",
      "17\n",
      "21\n",
      "25\n",
      "29\n",
      "33\n",
      "37\n",
      "41\n",
      "45\n",
      "49\n",
      "53\n"
     ]
    }
   ],
   "source": [
    "e = 13\n",
    "while e < 54:\n",
    "    print(e)\n",
    "    e +=4"
   ]
  },
  {
   "cell_type": "markdown",
   "id": "d9192709",
   "metadata": {},
   "source": [
    "# The Break Statement"
   ]
  },
  {
   "cell_type": "code",
   "execution_count": 12,
   "id": "919fa631",
   "metadata": {},
   "outputs": [
    {
     "name": "stdout",
     "output_type": "stream",
     "text": [
      "1\n",
      "2\n",
      "3\n",
      "4\n",
      "5\n",
      "6\n",
      "7\n",
      "8\n",
      "9\n",
      "10\n",
      "11\n",
      "12\n",
      "13\n"
     ]
    }
   ],
   "source": [
    "e = 1\n",
    "while e < 20:\n",
    "    print(i)\n",
    "    if e == 13:\n",
    "        break\n",
    "    e +=1"
   ]
  },
  {
   "cell_type": "markdown",
   "id": "c660a732",
   "metadata": {},
   "source": [
    "# The continue statement"
   ]
  },
  {
   "cell_type": "code",
   "execution_count": 13,
   "id": "484636d5",
   "metadata": {},
   "outputs": [
    {
     "name": "stdout",
     "output_type": "stream",
     "text": [
      "1\n",
      "2\n",
      "3\n",
      "4\n",
      "5\n",
      "6\n",
      "7\n",
      "8\n",
      "9\n",
      "10\n",
      "11\n",
      "12\n",
      "13\n",
      "14\n",
      "15\n",
      "16\n",
      "18\n",
      "19\n",
      "20\n"
     ]
    }
   ],
   "source": [
    "e = 0\n",
    "while e < 20:\n",
    "    e += 1\n",
    "    if e == 17:\n",
    "        continue\n",
    "    print(e)"
   ]
  },
  {
   "cell_type": "markdown",
   "id": "2667349e",
   "metadata": {},
   "source": [
    "# Looping Statement"
   ]
  },
  {
   "cell_type": "code",
   "execution_count": null,
   "id": "4c2f5478",
   "metadata": {},
   "outputs": [],
   "source": []
  }
 ],
 "metadata": {
  "kernelspec": {
   "display_name": "Python 3 (ipykernel)",
   "language": "python",
   "name": "python3"
  },
  "language_info": {
   "codemirror_mode": {
    "name": "ipython",
    "version": 3
   },
   "file_extension": ".py",
   "mimetype": "text/x-python",
   "name": "python",
   "nbconvert_exporter": "python",
   "pygments_lexer": "ipython3",
   "version": "3.9.19"
  }
 },
 "nbformat": 4,
 "nbformat_minor": 5
}
