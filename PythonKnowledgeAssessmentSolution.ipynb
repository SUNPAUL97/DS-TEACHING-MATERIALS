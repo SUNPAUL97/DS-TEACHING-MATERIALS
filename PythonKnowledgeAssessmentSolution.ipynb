{
 "cells": [
  {
   "cell_type": "code",
   "execution_count": 10,
   "id": "0ac573db-6c3f-4815-9572-84d4905666b7",
   "metadata": {},
   "outputs": [
    {
     "data": {
      "text/plain": [
       "[50,\n",
       " 51,\n",
       " 52,\n",
       " 53,\n",
       " 54,\n",
       " 55,\n",
       " 56,\n",
       " 57,\n",
       " 58,\n",
       " 59,\n",
       " 60,\n",
       " 61,\n",
       " 62,\n",
       " 63,\n",
       " 64,\n",
       " 65,\n",
       " 66,\n",
       " 67,\n",
       " 68,\n",
       " 69,\n",
       " 70,\n",
       " 71,\n",
       " 72,\n",
       " 73,\n",
       " 74,\n",
       " 75,\n",
       " 76,\n",
       " 77,\n",
       " 78,\n",
       " 79,\n",
       " 80,\n",
       " 81,\n",
       " 82,\n",
       " 83,\n",
       " 84,\n",
       " 85,\n",
       " 86,\n",
       " 87,\n",
       " 88,\n",
       " 89,\n",
       " 90,\n",
       " 91,\n",
       " 92,\n",
       " 93,\n",
       " 94,\n",
       " 95,\n",
       " 96,\n",
       " 97,\n",
       " 98,\n",
       " 99]"
      ]
     },
     "execution_count": 10,
     "metadata": {},
     "output_type": "execute_result"
    }
   ],
   "source": [
    "list(range(50,100))"
   ]
  },
  {
   "cell_type": "code",
   "execution_count": 9,
   "id": "4c0997d1-9811-4693-8dc7-889759d1859d",
   "metadata": {},
   "outputs": [
    {
     "name": "stdin",
     "output_type": "stream",
     "text": [
      "What is the value?: 100\n"
     ]
    }
   ],
   "source": [
    "value = int(input(\"What is the value?:\"))\n",
    "if value <50:\n",
    "    print(\"Low\")\n",
    "elif value >= 50 and value <100:\n",
    "    print(\"Medium\")\n",
    "else:\n",
    "    if value >100:\n",
    "        print(\"High\")"
   ]
  },
  {
   "cell_type": "code",
   "execution_count": 2,
   "id": "6483d474-472f-4820-8e15-c24b7eaa634c",
   "metadata": {},
   "outputs": [
    {
     "ename": "SyntaxError",
     "evalue": "unexpected EOF while parsing (1082537831.py, line 3)",
     "output_type": "error",
     "traceback": [
      "\u001b[1;36m  Cell \u001b[1;32mIn[2], line 3\u001b[1;36m\u001b[0m\n\u001b[1;33m    print(\"Low\"\u001b[0m\n\u001b[1;37m               ^\u001b[0m\n\u001b[1;31mSyntaxError\u001b[0m\u001b[1;31m:\u001b[0m unexpected EOF while parsing\n"
     ]
    }
   ],
   "source": [
    "categorize_value = int(input(\"Enter your value\"))\n",
    "if categorize_value < 50:\n",
    "    print(\"Low\")\n",
    "elif categorize_value > 50 and categorize_value < 100:\n",
    "    print(\"Medium\")\n",
    "else:\n",
    "    print(\"High\")"
   ]
  },
  {
   "cell_type": "code",
   "execution_count": 4,
   "id": "b052d76e-fd52-439e-93d0-f36cee904f8c",
   "metadata": {},
   "outputs": [
    {
     "ename": "SyntaxError",
     "evalue": "unexpected EOF while parsing (2630011118.py, line 3)",
     "output_type": "error",
     "traceback": [
      "\u001b[1;36m  Cell \u001b[1;32mIn[4], line 3\u001b[1;36m\u001b[0m\n\u001b[1;33m    print(\"The value is Low\"\u001b[0m\n\u001b[1;37m                            ^\u001b[0m\n\u001b[1;31mSyntaxError\u001b[0m\u001b[1;31m:\u001b[0m unexpected EOF while parsing\n"
     ]
    }
   ],
   "source": [
    "categorize_value = int(input(\"Enter your value \"))\n",
    "if categorize_value < 100:\n",
    "    print(\"The value is Low\")\n",
    "elif categorize_value > 50 and categorize_value < 100:\n",
    "    print(\"Medium\")\n",
    "elif categorize_value > 100:\n",
    "    print(\"High\")\n",
    "else:\n",
    "    print(\"It's okay\")"
   ]
  },
  {
   "cell_type": "code",
   "execution_count": null,
   "id": "9d48fd62-401f-45a1-9330-7b33818de29c",
   "metadata": {},
   "outputs": [],
   "source": [
    "def categorize_value(value):\n",
    "    if value < 5"
   ]
  }
 ],
 "metadata": {
  "kernelspec": {
   "display_name": "Python 3 (ipykernel)",
   "language": "python",
   "name": "python3"
  },
  "language_info": {
   "codemirror_mode": {
    "name": "ipython",
    "version": 3
   },
   "file_extension": ".py",
   "mimetype": "text/x-python",
   "name": "python",
   "nbconvert_exporter": "python",
   "pygments_lexer": "ipython3",
   "version": "3.9.19"
  }
 },
 "nbformat": 4,
 "nbformat_minor": 5
}
